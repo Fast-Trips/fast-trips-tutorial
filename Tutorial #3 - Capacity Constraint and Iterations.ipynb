{
 "cells": [
  {
   "cell_type": "markdown",
   "metadata": {},
   "source": [
    "# Fast-Trips Tutorial 3: Capacity Constraints"
   ]
  },
  {
   "cell_type": "code",
   "execution_count": null,
   "metadata": {
    "collapsed": false
   },
   "outputs": [],
   "source": [
    "import os,datetime\n",
    "import pandas as pd"
   ]
  },
  {
   "cell_type": "markdown",
   "metadata": {},
   "source": [
    "# Specify Input Networks and Demand\n",
    "To start with, we will use the same networks as previous scenarios, but we will be using an expanded demand"
   ]
  },
  {
   "cell_type": "code",
   "execution_count": null,
   "metadata": {
    "collapsed": false
   },
   "outputs": [],
   "source": [
    "BASE_DIR         = r\"/Users/elizabeth/Documents/urbanlabs/MTC/SHRP2/tutorial\"\n",
    "\n",
    "INPUT_NETWORKS   = os.path.join(BASE_DIR, r\"tta/input/network-simple\")\n",
    "INPUT_DEMAND     = os.path.join(BASE_DIR, r\"tta/input/demand-bigger\")\n",
    "\n",
    "RUN_CONFIG       = os.path.join(BASE_DIR, r\"tta/input/demand-bigger/config_ft.txt\")\n",
    "INPUT_WEIGHTS    = os.path.join(BASE_DIR, r\"tta/input/demand-bigger/pathweight_ft.txt\")"
   ]
  },
  {
   "cell_type": "markdown",
   "metadata": {},
   "source": [
    "# Run Fast-Trips \n",
    "This example runs fast-trips for a much larger amount of demand.  It looks like the game is over and all the basketball players want to go to the park!\n",
    "\n",
    "Note that each bus only has a capacity of 10 and more than 10 riders will want to ride any given bus at once.  Therefore, we will run several iterations so that they will have a chance to find an alternate route.\n",
    "\n",
    "Also note that this run will take a few minutes to complete since it is running more people and multiple iterations.\n"
   ]
  },
  {
   "cell_type": "code",
   "execution_count": null,
   "metadata": {
    "collapsed": false
   },
   "outputs": [],
   "source": [
    "demand_df = pd.read_csv(os.path.join(INPUT_DEMAND,\"trip_list.txt\"))\n",
    "demand_df"
   ]
  },
  {
   "cell_type": "code",
   "execution_count": null,
   "metadata": {
    "collapsed": false
   },
   "outputs": [],
   "source": [
    "from fasttrips import Run"
   ]
  },
  {
   "cell_type": "code",
   "execution_count": null,
   "metadata": {
    "collapsed": false
   },
   "outputs": [],
   "source": [
    "OUTPUT_FOLDER    = r\"capacity-demand\"\n",
    "OUTPUT_DIR       = os.path.join(BASE_DIR, \"output\")\n",
    "ITERATIONS       = 3\n",
    "PATHFINDING_TYPE = \"stochastic\"\n",
    "OVERLAP          = \"count\"\n",
    "CAPACITY         = True\n",
    "DISPERSION       = 0.5"
   ]
  },
  {
   "cell_type": "code",
   "execution_count": null,
   "metadata": {
    "collapsed": false
   },
   "outputs": [],
   "source": [
    "Run.run_fasttrips(input_network_dir    = INPUT_NETWORKS,\n",
    "                  input_demand_dir = INPUT_DEMAND,\n",
    "                  run_config       = RUN_CONFIG,\n",
    "                  input_weights    = INPUT_WEIGHTS,\n",
    "                  output_dir       = OUTPUT_DIR,\n",
    "                  output_folder    = OUTPUT_FOLDER,\n",
    "                  pathfinding_type = PATHFINDING_TYPE,\n",
    "                  iters            = ITERATIONS,\n",
    "                  overlap_variable = OVERLAP,\n",
    "                  dispersion       = DISPERSION,\n",
    "                  capacity         = CAPACITY)"
   ]
  },
  {
   "cell_type": "markdown",
   "metadata": {},
   "source": [
    "Uhoh - it looks like some of your passengers didn't make it!  Let's figure out what is going on."
   ]
  },
  {
   "cell_type": "markdown",
   "metadata": {},
   "source": [
    "# Examine Results"
   ]
  },
  {
   "cell_type": "markdown",
   "metadata": {},
   "source": [
    "## Vehicle/Route Level\n",
    "First, let's examine what is going on with the vehicles. "
   ]
  },
  {
   "cell_type": "code",
   "execution_count": null,
   "metadata": {
    "collapsed": false
   },
   "outputs": [],
   "source": [
    "pd.set_option('display.max_colwidth',160) \n",
    "full_output_directory=os.path.join(OUTPUT_DIR,OUTPUT_FOLDER)\n",
    "vehicles_df = pd.read_csv(os.path.join(full_output_directory,\"veh_trips.csv\"), \n",
    "                                       sep=\",\", \n",
    "                                       parse_dates=['arrival_time', 'departure_time'],\n",
    "                                       date_parser=lambda x: datetime.datetime.strptime(x, '%H:%M:%S') )\n",
    "\n",
    "vehicles_df[['iteration','pathfinding_iteration','arrival_time','departure_time','route_id','trip_id','stop_id','boards','onboard','standees']]"
   ]
  },
  {
   "cell_type": "markdown",
   "metadata": {
    "collapsed": false
   },
   "source": []
  },
  {
   "cell_type": "code",
   "execution_count": null,
   "metadata": {
    "collapsed": false
   },
   "outputs": [],
   "source": [
    "import seaborn as sns\n",
    "import matplotlib.pyplot as plt\n",
    "%matplotlib inline\n",
    "\n",
    "sns.set(style=\"whitegrid\")\n",
    "fig, axs = plt.subplots(nrows=3,figsize=(15,15))\n",
    "\n",
    "iter1 = sns.barplot(ax=axs[0], x=\"trip_id\", order=[\"B1\",\"B2\",\"B3\",\"G1\",\"R1\",\"G2\",\"R2\",\"G3\",\"G4\"],y=\"boards\", hue=\"pathfinding_iteration\",  estimator=sum, ci=None, data=vehicles_df[vehicles_df[\"iteration\"]==1])\n",
    "iter2 = sns.barplot(ax=axs[1], x=\"trip_id\", order=[\"B1\",\"B2\",\"B3\",\"G1\",\"R1\",\"G2\",\"R2\",\"G3\",\"G4\"],y=\"boards\", hue=\"pathfinding_iteration\",  estimator=sum, ci=None, data=vehicles_df[vehicles_df[\"iteration\"]==2])\n",
    "iter3 = sns.barplot(ax=axs[2], x=\"trip_id\", order=[\"B1\",\"B2\",\"B3\",\"G1\",\"R1\",\"G2\",\"R2\",\"G3\",\"G4\"],y=\"boards\", hue=\"pathfinding_iteration\",  estimator=sum, ci=None, data=vehicles_df[vehicles_df[\"iteration\"]==3])\n",
    "\n",
    "axs[0].set_title('Iteration #1', fontsize=24,color=\"Gray\")\n",
    "axs[1].set_title('Iteration #2', fontsize=24,color=\"Gray\")\n",
    "axs[2].set_title('Iteration #3', fontsize=24,color=\"Gray\")"
   ]
  },
  {
   "cell_type": "markdown",
   "metadata": {
    "collapsed": false
   },
   "source": [
    "There are two types of iterations going on here: pathfinding and global.\n",
    "\n",
    "### Pathfinding Iterations\n",
    "Pathfinding iterations allow passengers who were denied boarding a chance to go back and see if any of the other paths in their choice-set have availability.  You can see that two passengers who probably wanted to initially board B2 decided to get on B3 and G4 after learning that B2 was full in the initial pathfinding iteration.\n",
    "\n",
    "### Global Iterations\n",
    "Global iterations go through a travel-time-updating step and then re-initiate pathfinding.  In this example, all the possible paths are found in the first iteration and there is not much additional wiggle room for a passenger to re-optimize.\n",
    "\n",
    "However, it looks like there is a tradeoff between G3 and R2 for the ten individuals who fit on the B2 bus.  They are  trading off in-vehicle and out of vehicle time.\n",
    "\n",
    "### Who missed the bus?\n",
    "\n",
    "It is evident that both B2 and B3 are at capacity, and so some of our friends didn't make it. Let's find out what that looks like in the path results."
   ]
  },
  {
   "cell_type": "markdown",
   "metadata": {
    "collapsed": true
   },
   "source": []
  },
  {
   "cell_type": "markdown",
   "metadata": {},
   "source": [
    "## Person Level"
   ]
  },
  {
   "cell_type": "code",
   "execution_count": null,
   "metadata": {
    "collapsed": true
   },
   "outputs": [],
   "source": [
    "PATHS  = r\"pathset_paths.csv\"\n",
    "\n",
    "pathset_paths_df = pd.read_csv(os.path.join(full_output_directory,PATHS), sep=\",\")\n",
    "pd.set_option('display.max_colwidth',160) #widen so you can see whole description"
   ]
  },
  {
   "cell_type": "code",
   "execution_count": null,
   "metadata": {
    "collapsed": false
   },
   "outputs": [],
   "source": [
    "mswuf = pathset_paths_df[pathset_paths_df['person_id']=='Mrs. Wuf']\n",
    "mswuf[['person_id','iteration','pathfinding_iteration','pathnum','probability','chosen','description']]"
   ]
  },
  {
   "cell_type": "markdown",
   "metadata": {
    "collapsed": true
   },
   "source": [
    "As you can see, Mrs. Wuf originally tried to board the B2 but was rejected becuase it was full.  \n",
    "\n",
    "The next **pathfinding** iteration, she was able to board the B3 instead.\n",
    "\n",
    "However, in next large iteration, she re-tries the B2 [ why not? it is still a better path for her if she gets there before Shammond Williams] and is then redirected again to the B3.  "
   ]
  },
  {
   "cell_type": "code",
   "execution_count": null,
   "metadata": {
    "collapsed": false
   },
   "outputs": [],
   "source": [
    "carlos = pathset_paths_df[pathset_paths_df['person_id']=='Carlos Boozer']\n",
    "carlos[['person_id','iteration','pathfinding_iteration','pathnum','probability','chosen','description']]"
   ]
  },
  {
   "cell_type": "markdown",
   "metadata": {},
   "source": [
    "Carlos has a different issue: he only has one valid path: B3-->G4.\n",
    "When people like Mrs. Wuf get put on B3, they have priority (they got there first) over Carlos, so he gets booted."
   ]
  },
  {
   "cell_type": "code",
   "execution_count": null,
   "metadata": {
    "collapsed": false
   },
   "outputs": [],
   "source": [
    "rejected_persons_df = pathset_paths_df[pathset_paths_df['chosen']=='rejected']\n",
    "rejected_persons_df = rejected_persons_df[['person_id']]\n",
    "rejected_persons_paths_df = pd.merge(pathset_paths_df, rejected_persons_df, on=['person_id'], how='inner')\n",
    "rejected_persons_paths_df[['person_id','iteration','pathfinding_iteration','pathnum','probability','chosen','description']]"
   ]
  },
  {
   "cell_type": "markdown",
   "metadata": {},
   "source": [
    "## QUESTION\n",
    "\n",
    "**Question 3-A** Who didn't make the trip by the end of iteration 3?\n"
   ]
  },
  {
   "cell_type": "markdown",
   "metadata": {},
   "source": [
    "# Add a Route and Evaluate Cost of Crowding\n",
    "In this scenario, we will add a route that goes between the origin and destination without a transfer.  However, there is a longer wait up front and a longer walk for the egress.  The later departure time should work well for the Duke Blue Devils who don't leave the basketball court until a few minutes after the Tarheels and Wolfpack."
   ]
  },
  {
   "cell_type": "code",
   "execution_count": null,
   "metadata": {
    "collapsed": false
   },
   "outputs": [],
   "source": [
    "INPUT_NETWORKS_NEW_ROUTE   = os.path.join(BASE_DIR, r\"tta/input/network-added-route\")\n",
    "OUTPUT_FOLDER_NEW_ROUTE    = r\"capacity-demand-wNewRoute\"\n",
    "\n",
    "Run.run_fasttrips(input_network_dir    = INPUT_NETWORKS_NEW_ROUTE,\n",
    "                  input_demand_dir = INPUT_DEMAND,\n",
    "                  run_config       = RUN_CONFIG,\n",
    "                  input_weights    = INPUT_WEIGHTS,\n",
    "                  output_dir       = OUTPUT_DIR,\n",
    "                  output_folder    = OUTPUT_FOLDER_NEW_ROUTE,\n",
    "                  pathfinding_type = PATHFINDING_TYPE,\n",
    "                  iters            = ITERATIONS,\n",
    "                  overlap_variable = OVERLAP,\n",
    "                  dispersion       = DISPERSION,\n",
    "                  capacity         = CAPACITY)\n",
    "\n"
   ]
  },
  {
   "cell_type": "markdown",
   "metadata": {},
   "source": [
    "Phew, it looks like everybody made it this time!  Let's take a look at how the ridership turned out."
   ]
  },
  {
   "cell_type": "code",
   "execution_count": null,
   "metadata": {
    "collapsed": false
   },
   "outputs": [],
   "source": [
    "pd.set_option('display.max_colwidth',160) \n",
    "full_output_directory=os.path.join(OUTPUT_DIR,OUTPUT_FOLDER_NEW_ROUTE)\n",
    "vehicles_df = pd.read_csv(os.path.join(full_output_directory,\"veh_trips.csv\"), \n",
    "                                       sep=\",\", \n",
    "                                       parse_dates=['arrival_time', 'departure_time'],\n",
    "                                       date_parser=lambda x: datetime.datetime.strptime(x, '%H:%M:%S') )\n",
    "\n",
    "vehicles_df[['iteration','pathfinding_iteration','arrival_time','departure_time','route_id','trip_id','stop_id','boards','onboard','standees']]\n",
    "\n",
    "import seaborn as sns\n",
    "import matplotlib.pyplot as plt\n",
    "%matplotlib inline\n",
    "\n",
    "sns.set(style=\"whitegrid\")\n",
    "fig, axs = plt.subplots(nrows=3,figsize=(15,15))\n",
    "\n",
    "iter1 = sns.barplot(ax=axs[0], x=\"trip_id\", order=[\"O1\",\"B1\",\"B2\",\"B3\",\"G1\",\"R1\",\"G2\",\"R2\",\"G3\",\"G4\"],y=\"boards\", hue=\"pathfinding_iteration\",  estimator=sum, ci=None, data=vehicles_df[vehicles_df[\"iteration\"]==1])\n",
    "iter2 = sns.barplot(ax=axs[1], x=\"trip_id\", order=[\"O1\",\"B1\",\"B2\",\"B3\",\"G1\",\"R1\",\"G2\",\"R2\",\"G3\",\"G4\"],y=\"boards\", hue=\"pathfinding_iteration\",  estimator=sum, ci=None, data=vehicles_df[vehicles_df[\"iteration\"]==2])\n",
    "iter3 = sns.barplot(ax=axs[2], x=\"trip_id\", order=[\"O1\",\"B1\",\"B2\",\"B3\",\"G1\",\"R1\",\"G2\",\"R2\",\"G3\",\"G4\"],y=\"boards\", hue=\"pathfinding_iteration\",  estimator=sum, ci=None, data=vehicles_df[vehicles_df[\"iteration\"]==3])\n",
    "\n",
    "axs[0].set_title('Iteration #1', fontsize=24,color=\"Gray\")\n",
    "axs[1].set_title('Iteration #2', fontsize=24,color=\"Gray\")\n",
    "axs[2].set_title('Iteration #3', fontsize=24,color=\"Gray\")"
   ]
  },
  {
   "cell_type": "markdown",
   "metadata": {},
   "source": [
    "Well it looks as though the new \"Orange Express\" is a winner!  It is the clear favorite in each of the first path-finding iterations and then ridership spreads out to accommodate second and third priorities.\n",
    "\n",
    "One of the interesting analyses that you can do in this regard is to evaluate the effect of the disutility of having to take a \"next-best\" path rather than your optimal path due to crowding."
   ]
  },
  {
   "cell_type": "markdown",
   "metadata": {},
   "source": [
    "## QUESTIONS\n",
    "\n",
    "**Question 3-B** How would you measure the cost of crowding in the scenarios both before and after adding the \"orange express\"?\n",
    "\n",
    "**Question 3-C** What is the cost of crowding with the orange line?"
   ]
  },
  {
   "cell_type": "code",
   "execution_count": null,
   "metadata": {
    "collapsed": true
   },
   "outputs": [],
   "source": []
  }
 ],
 "metadata": {
  "anaconda-cloud": {},
  "kernelspec": {
   "display_name": "Python 2",
   "language": "python",
   "name": "python2"
  },
  "language_info": {
   "codemirror_mode": {
    "name": "ipython",
    "version": 2
   },
   "file_extension": ".py",
   "mimetype": "text/x-python",
   "name": "python",
   "nbconvert_exporter": "python",
   "pygments_lexer": "ipython2",
   "version": "2.7.13"
  }
 },
 "nbformat": 4,
 "nbformat_minor": 2
}
