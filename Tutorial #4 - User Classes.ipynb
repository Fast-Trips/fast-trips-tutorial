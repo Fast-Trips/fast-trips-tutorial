{
 "cells": [
  {
   "cell_type": "markdown",
   "metadata": {},
   "source": [
    "# Fast-Trips Tutorial 3: Capacity Constraints"
   ]
  },
  {
   "cell_type": "code",
   "execution_count": 1,
   "metadata": {
    "collapsed": false
   },
   "outputs": [],
   "source": [
    "import os,datetime\n",
    "import pandas as pd"
   ]
  },
  {
   "cell_type": "markdown",
   "metadata": {},
   "source": [
    "# Specify Input Networks and Demand\n",
    "We will use the larger network that can accommodate all the demand, and the same, larger demand files as Tutorial 3."
   ]
  },
  {
   "cell_type": "code",
   "execution_count": null,
   "metadata": {
    "collapsed": false
   },
   "outputs": [],
   "source": []
  },
  {
   "cell_type": "markdown",
   "metadata": {},
   "source": [
    "# Run Fast-Trips \n",
    "This example runs fast-trips "
   ]
  },
  {
   "cell_type": "code",
   "execution_count": 4,
   "metadata": {
    "collapsed": false
   },
   "outputs": [],
   "source": [
    "from fasttrips import Run"
   ]
  },
  {
   "cell_type": "code",
   "execution_count": 7,
   "metadata": {
    "collapsed": false
   },
   "outputs": [],
   "source": [
    "BASE_DIR         = r\"/Users/elizabeth/Documents/urbanlabs/MTC/SHRP2/tutorial\"\n",
    "\n",
    "INPUT_NETWORKS   = os.path.join(BASE_DIR, r\"tta/input/network-added-route\")\n",
    "INPUT_DEMAND     = os.path.join(BASE_DIR, r\"tta/input/demand-bigger\")\n",
    "RUN_CONFIG       = os.path.join(BASE_DIR, r\"tta/input/demand-bigger/config_ft.txt\")\n",
    "\n",
    "INPUT_WEIGHTS    = os.path.join(BASE_DIR, r\"tta/input/demand-bigger/segmented_pathweight_ft.txt\")\n",
    "INPUT_FUNCTIONS  = os.path.join(BASE_DIR, r\"tta/input/demand-bigger/config_ft.py\")\n",
    "\n",
    "OUTPUT_FOLDER    = r\"segmentation\"\n",
    "OUTPUT_DIR       = os.path.join(BASE_DIR, \"output\")\n",
    "\n",
    "ITERATIONS       = 3\n",
    "PATHFINDING_TYPE = \"stochastic\"\n",
    "OVERLAP          = \"count\"\n",
    "USER_CLASS_FUNCT = \"user_class\"\n",
    "CAPACITY         = True\n",
    "DISPERSION       = 0.5"
   ]
  },
  {
   "cell_type": "code",
   "execution_count": 8,
   "metadata": {
    "collapsed": false
   },
   "outputs": [
    {
     "name": "stderr",
     "output_type": "stream",
     "text": [
      "2017-05-09 23:53:20 [INFO/MainProcess] Reading /Users/elizabeth/Documents/urbanlabs/MTC/SHRP2/tutorial/tta/input/demand-bigger/config_ft.py\n",
      "2017-05-09 23:53:20 [INFO/MainProcess] PathSet.CONFIGURED_FUNCTIONS = {'generic_user_class': <function generic_user_class at 0x1175169b0>, 'user_class': <function user_class at 0x115d9fc80>}\n",
      "2017-05-09 23:53:20 [INFO/MainProcess] Reading configuration file /Users/elizabeth/Documents/urbanlabs/MTC/SHRP2/tutorial/tta/input/demand-bigger/config_ft.txt\n",
      "2017-05-09 23:53:20 [INFO/MainProcess] Reading GTFS schedule\n",
      "2017-05-09 23:53:20 [INFO/MainProcess] Read       8           stops from                 stops.txt,              stops_ft.txt\n",
      "2017-05-09 23:53:20 [INFO/MainProcess] Read       4          routes from                routes.txt,             routes_ft.txt\n",
      "2017-05-09 23:53:20 [INFO/MainProcess] Read       1        agencies from                agency.txt\n",
      "2017-05-09 23:53:20 [INFO/MainProcess] Read       0 fare attributes from       fare_attributes.txt\n",
      "2017-05-09 23:53:20 [INFO/MainProcess] Read       0      fare rules from            fare_rules.txt,       fare_periods_ft.txt\n",
      "2017-05-09 23:53:20 [INFO/MainProcess] Read       2       transfers from             transfers.txt,          transfers_ft.txt\n",
      "2017-05-09 23:53:21 [INFO/MainProcess] Read       1        vehicles from           vehicles_ft.txt\n"
     ]
    },
    {
     "name": "stdout",
     "output_type": "stream",
     "text": [
      "{'dispersion': 0.5, 'overlap_variable': 'count', 'capacity': True, 'user_class_function': 'user_class'}\n",
      "routes_ft.txt\n",
      "The file named routes_ft.txt was not expected.\n",
      "This may be a misspelled file name or the file may be included in a\n",
      "subdirectory. Please check spellings and make sure that there are no\n",
      "subdirectories within the feed\n",
      "transfers_ft.txt\n",
      "The file named transfers_ft.txt was not expected.\n",
      "This may be a misspelled file name or the file may be included in a\n",
      "subdirectory. Please check spellings and make sure that there are no\n",
      "subdirectories within the feed\n",
      "trips_ft.txt\n",
      "The file named trips_ft.txt was not expected.\n",
      "This may be a misspelled file name or the file may be included in a\n",
      "subdirectory. Please check spellings and make sure that there are no\n",
      "subdirectories within the feed\n",
      "vehicles_ft.txt\n",
      "The file named vehicles_ft.txt was not expected.\n",
      "This may be a misspelled file name or the file may be included in a\n",
      "subdirectory. Please check spellings and make sure that there are no\n",
      "subdirectories within the feed\n",
      "walk_access_ft.txt\n",
      "The file named walk_access_ft.txt was not expected.\n",
      "This may be a misspelled file name or the file may be included in a\n",
      "subdirectory. Please check spellings and make sure that there are no\n",
      "subdirectories within the feed\n"
     ]
    },
    {
     "name": "stderr",
     "output_type": "stream",
     "text": [
      "2017-05-09 23:53:21 [INFO/MainProcess] Read      10           trips from                 trips.txt,              trips_ft.txt\n",
      "2017-05-09 23:53:21 [INFO/MainProcess] Read       1 service periods from              calendar.txt\n",
      "2017-05-09 23:53:21 [WARNING/MainProcess] Adding shape_dist_traveled in miles\n",
      "2017-05-09 23:53:21 [INFO/MainProcess] Read      20      stop times from            stop_times.txt,         stop_times_ft.txt\n",
      "2017-05-09 23:53:21 [INFO/MainProcess] Read       5     walk access from        walk_access_ft.txt\n",
      "2017-05-09 23:53:21 [INFO/MainProcess] Read       0            DAPs from drive_access_points_ft.txt\n",
      "2017-05-09 23:53:21 [WARNING/MainProcess] The following 3 stop ids have no walk access: \n",
      "  stop_id  taz\n",
      "1       B  NaN\n",
      "4      B1  NaN\n",
      "5      B2  NaN\n",
      "2017-05-09 23:53:21 [INFO/MainProcess] -------- Reading demand --------\n",
      "2017-05-09 23:53:21 [INFO/MainProcess] Capacity constraint? 1\n",
      "2017-05-09 23:53:21 [INFO/MainProcess] Read      26    person trips from             trip_list.txt\n",
      "2017-05-09 23:53:21 [INFO/MainProcess] Read      26         persons from                person.txt\n",
      "2017-05-09 23:53:21 [INFO/MainProcess] Read       3      households from             household.txt\n",
      "2017-05-09 23:53:21 [WARNING/MainProcess] The following user_class, demand_mode_type, demand_mode combinations exist in the demand file but are missing from the weight configuration:\n",
      "2017-05-09 23:53:21 [WARNING/MainProcess] \n",
      "  user_class     purpose demand_mode_type demand_mode supply_mode weight_name  weight_value\n",
      "0        all  basketball          transit     transit         NaN         NaN           NaN\n",
      "1        all  basketball           access        walk         NaN         NaN           NaN\n",
      "2        all  basketball           egress        walk         NaN         NaN           NaN\n",
      "2017-05-09 23:53:21 [CRITICAL/MainProcess] \n",
      "The following user_class, purpose, demand_mode_type, demand_mode, supply_mode combinations exist in the demand file but are missing from the weight configuration:\n",
      "  user_class     purpose demand_mode demand_mode_type supply_mode weight_name  weight_value\n",
      "0        all  basketball    transfer         transfer    transfer         NaN           NaN\n",
      "\n",
      "\n"
     ]
    },
    {
     "ename": "SystemExit",
     "evalue": "2",
     "output_type": "error",
     "traceback": [
      "An exception has occurred, use %tb to see the full traceback.\n",
      "\u001b[0;31mSystemExit\u001b[0m\u001b[0;31m:\u001b[0m 2\n"
     ]
    }
   ],
   "source": [
    "Run.run_fasttrips(input_network_dir    = INPUT_NETWORKS,\n",
    "                  input_demand_dir = INPUT_DEMAND,\n",
    "                  run_config       = RUN_CONFIG,\n",
    "                  input_weights    = INPUT_WEIGHTS,\n",
    "                  input_functions  = INPUT_FUNCTIONS,\n",
    "                  output_dir       = OUTPUT_DIR,\n",
    "                  output_folder    = OUTPUT_FOLDER,\n",
    "                  pathfinding_type = PATHFINDING_TYPE,\n",
    "                  iters            = ITERATIONS,\n",
    "                  overlap_variable = OVERLAP,\n",
    "                  user_class_function = USER_CLASS_FUNCT,\n",
    "                  dispersion       = DISPERSION,\n",
    "                  capacity         = CAPACITY)"
   ]
  },
  {
   "cell_type": "markdown",
   "metadata": {},
   "source": []
  },
  {
   "cell_type": "markdown",
   "metadata": {},
   "source": [
    "# Examine Results"
   ]
  },
  {
   "cell_type": "markdown",
   "metadata": {},
   "source": [
    "## Vehicle/Route Level\n",
    "First, let's examine what is going on with the vehicles. "
   ]
  },
  {
   "cell_type": "code",
   "execution_count": null,
   "metadata": {
    "collapsed": false
   },
   "outputs": [],
   "source": [
    "pd.set_option('display.max_colwidth',160) \n",
    "full_output_directory=os.path.join(OUTPUT_DIR,OUTPUT_FOLDER)\n",
    "vehicles_df = pd.read_csv(os.path.join(full_output_directory,\"veh_trips.csv\"), \n",
    "                                       sep=\",\", \n",
    "                                       parse_dates=['arrival_time', 'departure_time'],\n",
    "                                       date_parser=lambda x: datetime.datetime.strptime(x, '%H:%M:%S') )\n",
    "\n",
    "vehicles_df[['iteration','pathfinding_iteration','arrival_time','departure_time','route_id','trip_id','stop_id','boards','onboard','standees']]"
   ]
  },
  {
   "cell_type": "markdown",
   "metadata": {
    "collapsed": false
   },
   "source": []
  },
  {
   "cell_type": "code",
   "execution_count": null,
   "metadata": {
    "collapsed": false
   },
   "outputs": [],
   "source": [
    "import seaborn as sns\n",
    "import matplotlib.pyplot as plt\n",
    "%matplotlib inline\n",
    "\n",
    "sns.set(style=\"whitegrid\")\n",
    "fig, axs = plt.subplots(nrows=3,figsize=(15,15))\n",
    "\n",
    "iter1 = sns.barplot(ax=axs[0], x=\"trip_id\", order=[\"B1\",\"B2\",\"B3\",\"G1\",\"R1\",\"G2\",\"R2\",\"G3\",\"G4\"],y=\"boards\", hue=\"pathfinding_iteration\",  estimator=sum, ci=None, data=vehicles_df[vehicles_df[\"iteration\"]==1])\n",
    "iter2 = sns.barplot(ax=axs[1], x=\"trip_id\", order=[\"B1\",\"B2\",\"B3\",\"G1\",\"R1\",\"G2\",\"R2\",\"G3\",\"G4\"],y=\"boards\", hue=\"pathfinding_iteration\",  estimator=sum, ci=None, data=vehicles_df[vehicles_df[\"iteration\"]==2])\n",
    "iter3 = sns.barplot(ax=axs[2], x=\"trip_id\", order=[\"B1\",\"B2\",\"B3\",\"G1\",\"R1\",\"G2\",\"R2\",\"G3\",\"G4\"],y=\"boards\", hue=\"pathfinding_iteration\",  estimator=sum, ci=None, data=vehicles_df[vehicles_df[\"iteration\"]==3])\n",
    "\n",
    "axs[0].set_title('Iteration #1', fontsize=24,color=\"Gray\")\n",
    "axs[1].set_title('Iteration #2', fontsize=24,color=\"Gray\")\n",
    "axs[2].set_title('Iteration #3', fontsize=24,color=\"Gray\")"
   ]
  },
  {
   "cell_type": "markdown",
   "metadata": {
    "collapsed": false
   },
   "source": [
    "There are two types of iterations going on here: pathfinding and global.\n",
    "\n",
    "### Pathfinding Iterations\n",
    "Pathfinding iterations allow passengers who were denied boarding a chance to go back and see if any of the other paths in their choice-set have availability.  You can see that two passengers who probably wanted to initially board B2 decided to get on B3 and G4 after learning that B2 was full in the initial pathfinding iteration.\n",
    "\n",
    "### Global Iterations\n",
    "Global iterations go through a travel-time-updating step and then re-initiate pathfinding.  In this example, all the possible paths are found in the first iteration and there is not much additional wiggle room for a passenger to re-optimize.\n",
    "\n",
    "However, it looks like there is a tradeoff between G3 and R2 for the ten individuals who fit on the B2 bus.  They are  trading off in-vehicle and out of vehicle time.\n",
    "\n",
    "### Who missed the bus?\n",
    "\n",
    "It is evident that both B2 and B3 are at capacity, and so some of our friends didn't make it. Let's find out what that looks like in the path results."
   ]
  },
  {
   "cell_type": "markdown",
   "metadata": {
    "collapsed": true
   },
   "source": []
  },
  {
   "cell_type": "markdown",
   "metadata": {},
   "source": [
    "## Person Level"
   ]
  },
  {
   "cell_type": "code",
   "execution_count": null,
   "metadata": {
    "collapsed": true
   },
   "outputs": [],
   "source": [
    "PATHS  = r\"pathset_paths.csv\"\n",
    "\n",
    "pathset_paths_df = pd.read_csv(os.path.join(full_output_directory,PATHS), sep=\",\")\n",
    "pd.set_option('display.max_colwidth',160) #widen so you can see whole description"
   ]
  },
  {
   "cell_type": "code",
   "execution_count": null,
   "metadata": {
    "collapsed": false
   },
   "outputs": [],
   "source": [
    "mswuf = pathset_paths_df[pathset_paths_df['person_id']=='Mrs. Wuf']\n",
    "mswuf[['person_id','iteration','pathfinding_iteration','pathnum','probability','chosen','description']]"
   ]
  },
  {
   "cell_type": "markdown",
   "metadata": {
    "collapsed": true
   },
   "source": [
    "As you can see, Mrs. Wuf originally tried to board the B2 but was rejected becuase it was full.  \n",
    "\n",
    "The next **pathfinding** iteration, she was able to board the B3 instead.\n",
    "\n",
    "However, in next large iteration, she re-tries the B2 [ why not? it is still a better path for her if she gets there before Shammond Williams] and is then redirected again to the B3.  "
   ]
  },
  {
   "cell_type": "code",
   "execution_count": null,
   "metadata": {
    "collapsed": false
   },
   "outputs": [],
   "source": [
    "carlos = pathset_paths_df[pathset_paths_df['person_id']=='Carlos Boozer']\n",
    "carlos[['person_id','iteration','pathfinding_iteration','pathnum','probability','chosen','description']]"
   ]
  },
  {
   "cell_type": "markdown",
   "metadata": {},
   "source": [
    "Carlos has a different issue: he only has one valid path: B3-->G4.\n",
    "When people like Mrs. Wuf get put on B3, they have priority (they got there first) over Carlos, so he gets booted."
   ]
  },
  {
   "cell_type": "code",
   "execution_count": null,
   "metadata": {
    "collapsed": false
   },
   "outputs": [],
   "source": [
    "rejected_persons_df = pathset_paths_df[pathset_paths_df['chosen']=='rejected']\n",
    "rejected_persons_df = rejected_persons_df[['person_id']]\n",
    "rejected_persons_paths_df = pd.merge(pathset_paths_df, rejected_persons_df, on=['person_id'], how='inner')\n",
    "rejected_persons_paths_df[['person_id','iteration','pathfinding_iteration','pathnum','probability','chosen','description']]"
   ]
  },
  {
   "cell_type": "markdown",
   "metadata": {},
   "source": [
    "## QUESTION\n",
    "\n",
    "**Question 3-A** Who didn't make the trip by the end of iteration 3?\n"
   ]
  },
  {
   "cell_type": "markdown",
   "metadata": {},
   "source": [
    "# Add a Route and Evaluate Cost of Crowding\n",
    "In this scenario, we will add a route that goes between the origin and destination without a transfer.  However, there is a longer wait up front and a longer walk for the egress.  The later departure time should work well for the Duke Blue Devils who don't leave the basketball court until a few minutes after the Tarheels and Wolfpack."
   ]
  },
  {
   "cell_type": "code",
   "execution_count": null,
   "metadata": {
    "collapsed": false
   },
   "outputs": [],
   "source": [
    "INPUT_NETWORKS_NEW_ROUTE   = os.path.join(BASE_DIR, r\"tta/input/network-added-route\")\n",
    "OUTPUT_FOLDER_NEW_ROUTE    = r\"capacity-demand-wNewRoute\"\n",
    "\n",
    "Run.run_fasttrips(input_network_dir    = INPUT_NETWORKS_NEW_ROUTE,\n",
    "                  input_demand_dir = INPUT_DEMAND,\n",
    "                  run_config       = RUN_CONFIG,\n",
    "                  input_weights    = INPUT_WEIGHTS,\n",
    "                  output_dir       = OUTPUT_DIR,\n",
    "                  output_folder    = OUTPUT_FOLDER_NEW_ROUTE,\n",
    "                  pathfinding_type = PATHFINDING_TYPE,\n",
    "                  iters            = ITERATIONS,\n",
    "                  overlap_variable = OVERLAP,\n",
    "                  dispersion       = DISPERSION,\n",
    "                  capacity         = CAPACITY)\n",
    "\n"
   ]
  },
  {
   "cell_type": "markdown",
   "metadata": {},
   "source": [
    "Phew, it looks like everybody made it this time!  Let's take a look at how the ridership turned out."
   ]
  },
  {
   "cell_type": "code",
   "execution_count": null,
   "metadata": {
    "collapsed": false
   },
   "outputs": [],
   "source": [
    "pd.set_option('display.max_colwidth',160) \n",
    "full_output_directory=os.path.join(OUTPUT_DIR,OUTPUT_FOLDER_NEW_ROUTE)\n",
    "vehicles_df = pd.read_csv(os.path.join(full_output_directory,\"veh_trips.csv\"), \n",
    "                                       sep=\",\", \n",
    "                                       parse_dates=['arrival_time', 'departure_time'],\n",
    "                                       date_parser=lambda x: datetime.datetime.strptime(x, '%H:%M:%S') )\n",
    "\n",
    "vehicles_df[['iteration','pathfinding_iteration','arrival_time','departure_time','route_id','trip_id','stop_id','boards','onboard','standees']]\n",
    "\n",
    "import seaborn as sns\n",
    "import matplotlib.pyplot as plt\n",
    "%matplotlib inline\n",
    "\n",
    "sns.set(style=\"whitegrid\")\n",
    "fig, axs = plt.subplots(nrows=3,figsize=(15,15))\n",
    "\n",
    "iter1 = sns.barplot(ax=axs[0], x=\"trip_id\", order=[\"O1\",\"B1\",\"B2\",\"B3\",\"G1\",\"R1\",\"G2\",\"R2\",\"G3\",\"G4\"],y=\"boards\", hue=\"pathfinding_iteration\",  estimator=sum, ci=None, data=vehicles_df[vehicles_df[\"iteration\"]==1])\n",
    "iter2 = sns.barplot(ax=axs[1], x=\"trip_id\", order=[\"O1\",\"B1\",\"B2\",\"B3\",\"G1\",\"R1\",\"G2\",\"R2\",\"G3\",\"G4\"],y=\"boards\", hue=\"pathfinding_iteration\",  estimator=sum, ci=None, data=vehicles_df[vehicles_df[\"iteration\"]==2])\n",
    "iter3 = sns.barplot(ax=axs[2], x=\"trip_id\", order=[\"O1\",\"B1\",\"B2\",\"B3\",\"G1\",\"R1\",\"G2\",\"R2\",\"G3\",\"G4\"],y=\"boards\", hue=\"pathfinding_iteration\",  estimator=sum, ci=None, data=vehicles_df[vehicles_df[\"iteration\"]==3])\n",
    "\n",
    "axs[0].set_title('Iteration #1', fontsize=24,color=\"Gray\")\n",
    "axs[1].set_title('Iteration #2', fontsize=24,color=\"Gray\")\n",
    "axs[2].set_title('Iteration #3', fontsize=24,color=\"Gray\")"
   ]
  },
  {
   "cell_type": "markdown",
   "metadata": {},
   "source": [
    "Well it looks as though the new \"Orange Express\" is a winner!  It is the clear favorite in each of the first path-finding iterations and then ridership spreads out to accommodate second and third priorities.\n",
    "\n",
    "One of the interesting analyses that you can do in this regard is to evaluate the effect of the disutility of having to take a \"next-best\" path rather than your optimal path due to crowding."
   ]
  },
  {
   "cell_type": "markdown",
   "metadata": {},
   "source": [
    "## QUESTIONS\n",
    "\n",
    "**Question 3-B** How would you measure the cost of crowding in the scenarios both before and after adding the \"orange express\"?\n",
    "\n",
    "**Question 3-C** What is the cost of crowding with the orange line?"
   ]
  },
  {
   "cell_type": "code",
   "execution_count": null,
   "metadata": {
    "collapsed": true
   },
   "outputs": [],
   "source": []
  }
 ],
 "metadata": {
  "anaconda-cloud": {},
  "kernelspec": {
   "display_name": "Python 2",
   "language": "python",
   "name": "python2"
  },
  "language_info": {
   "codemirror_mode": {
    "name": "ipython",
    "version": 2
   },
   "file_extension": ".py",
   "mimetype": "text/x-python",
   "name": "python",
   "nbconvert_exporter": "python",
   "pygments_lexer": "ipython2",
   "version": "2.7.13"
  }
 },
 "nbformat": 4,
 "nbformat_minor": 2
}
