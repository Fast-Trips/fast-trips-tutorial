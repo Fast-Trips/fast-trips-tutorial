{
 "cells": [
  {
   "cell_type": "markdown",
   "metadata": {},
   "source": [
    "# Fast-Trips Tutorial 5: Test Stochastic Dispersion and Overlap\n",
    "The purpose of this tutorial is to illustrate the effects of the dispersion and path overlap parameters"
   ]
  },
  {
   "cell_type": "code",
   "execution_count": null,
   "metadata": {
    "collapsed": false
   },
   "outputs": [],
   "source": [
    "import os,datetime\n",
    "import pandas as pd\n",
    "import fasttrips\n",
    "from fasttrips import Run"
   ]
  },
  {
   "cell_type": "markdown",
   "metadata": {},
   "source": [
    "# Specify Input Networks"
   ]
  },
  {
   "cell_type": "code",
   "execution_count": null,
   "metadata": {
    "collapsed": true
   },
   "outputs": [],
   "source": [
    "### REPLACE THIS WITH YOUR OWN DIRECTORY\n",
    "BASE_DIR         = r\"YOUR PATH TO THE TUTORIAL DIRECTORY\"\n",
    "INPUT_NETWORKS   = os.path.join(BASE_DIR,\"tta\",\"input\",\"network-simple\")\n",
    "INPUT_DEMAND     = os.path.join(BASE_DIR,\"tta\",\"input\",\"demand-single\")"
   ]
  },
  {
   "cell_type": "markdown",
   "metadata": {},
   "source": [
    "# Examine Effect of Dispersion\n",
    "Note that if you run this more than once, you will probably need to go to `kernel>>restart` menu so that fast-trips doesn't get confused by variables being held in memory."
   ]
  },
  {
   "cell_type": "code",
   "execution_count": null,
   "metadata": {
    "collapsed": true
   },
   "outputs": [],
   "source": [
    "INPUT_WEIGHTS      = os.path.join(BASE_DIR,\"tta\",\"input\",\"demand-single\",\"pathweight_ft.txt\")\n",
    "RUN_CONFIG         = os.path.join(BASE_DIR,\"tta\",\"input\",\"demand-single\",\"config_ft.txt\")\n",
    "OUTPUT_DIR         = os.path.join(BASE_DIR,\"tta\",\"output\")\n",
    "ITERATIONS         = 1\n",
    "PATHFINDING_TYPE   = \"stochastic\"\n",
    "OVERLAP            = \"None\"\n",
    "OUTPUT_FOLDER_BASE = r\"test_simplenet_wDispersion\"\n",
    "DISPERSION_TESTS   = [0.50,0.60,0.80,1.00]"
   ]
  },
  {
   "cell_type": "code",
   "execution_count": null,
   "metadata": {
    "collapsed": false
   },
   "outputs": [],
   "source": [
    "for d in DISPERSION_TESTS:\n",
    "    OUTPUT_FOLDER    = OUTPUT_FOLDER_BASE+\"%2.2f\" % (d)\n",
    "    Run.run_fasttrips(input_network_dir    = INPUT_NETWORKS,\n",
    "                  input_demand_dir = INPUT_DEMAND,\n",
    "                  run_config       = RUN_CONFIG,\n",
    "                  input_weights    = INPUT_WEIGHTS,\n",
    "                  output_dir       = OUTPUT_DIR,\n",
    "                  output_folder    = OUTPUT_FOLDER,\n",
    "                  pathfinding_type = PATHFINDING_TYPE,\n",
    "                  iters            = ITERATIONS,\n",
    "                  overlap_variable = OVERLAP,\n",
    "                  dispersion       = d )"
   ]
  },
  {
   "cell_type": "markdown",
   "metadata": {},
   "source": [
    "# Examine Dispersion Results"
   ]
  },
  {
   "cell_type": "code",
   "execution_count": null,
   "metadata": {
    "collapsed": false
   },
   "outputs": [],
   "source": [
    "from bokeh.charts import Bar, Histogram, TimeSeries, output_file, Line\n",
    "from bokeh.models import ColumnDataSource\n",
    "from bokeh.io import push_notebook, show, output_notebook\n",
    "from bokeh.plotting import figure\n",
    "output_notebook()"
   ]
  },
  {
   "cell_type": "code",
   "execution_count": null,
   "metadata": {
    "collapsed": false
   },
   "outputs": [],
   "source": [
    "pd.set_option('display.max_colwidth',160) #widen so you can see whole description\n",
    "PATHS  = r\"pathset_paths.csv\"\n",
    "\n",
    "for d in DISPERSION_TESTS:\n",
    "    full_output_directory = os.path.join(OUTPUT_DIR,OUTPUT_FOLDER_BASE+\"%2.2f\" % (d))                     \n",
    "    df = pd.read_csv(os.path.join(full_output_directory,PATHS), sep=\",\")[[\"person_id\",\"person_trip_id\",\"pathnum\",\"description\",\"sim_cost\",\"probability\"]]\n",
    "    df['dispersion'] = d\n",
    "    if d == DISPERSION_TESTS[0]: \n",
    "        paths_df  = df\n",
    "        continue\n",
    "    paths_df = pd.concat([paths_df, df], ignore_index=True, axis = 0)\n",
    "\n",
    "paths_df"
   ]
  },
  {
   "cell_type": "code",
   "execution_count": null,
   "metadata": {
    "collapsed": false
   },
   "outputs": [],
   "source": [
    "p = Bar(paths_df, label='dispersion', values='probability', group='pathnum', title=\"Probability by Dispersion\")\n",
    "show(p, notebook_handle=True)"
   ]
  },
  {
   "cell_type": "markdown",
   "metadata": {},
   "source": [
    "We can see that as the dispersion parameter increases, the good path looks even better relative to the less good path.  \n",
    "\n",
    "Looking at the table, it is evident that only dispersion parameter = 0.5 even assigns a non-zero probability to waiting for another green bus.  "
   ]
  },
  {
   "cell_type": "markdown",
   "metadata": {},
   "source": [
    "## Examine Effect of Overlap Calculation"
   ]
  },
  {
   "cell_type": "code",
   "execution_count": null,
   "metadata": {
    "collapsed": true
   },
   "outputs": [],
   "source": [
    "INPUT_WEIGHTS      = os.path.join(BASE_DIR,\"tta\", \"input\", \"demand-single\", \"pathweight_ft.txt\")\n",
    "RUN_CONFIG         = os.path.join(BASE_DIR,\"tta\",\"input\", \"demand-single\", \"config_ft.txt\")\n",
    "OUTPUT_DIR         = os.path.join(BASE_DIR,\"tta\",\"output\")\n",
    "ITERATIONS       = 1\n",
    "PATHFINDING_TYPE = \"stochastic\"\n",
    "DISPERSION       = 0.50\n",
    "OUTPUT_FOLDER_BASE = r\"test_simplenet_wDispersion50_wOverlap\"\n",
    "OVERLAP_METHODS    = ['None','count','distance','time'] "
   ]
  },
  {
   "cell_type": "code",
   "execution_count": null,
   "metadata": {
    "collapsed": false
   },
   "outputs": [],
   "source": [
    "for o in OVERLAP_METHODS:\n",
    "    OUTPUT_FOLDER         = OUTPUT_FOLDER_BASE+\"%s\" % (o)\n",
    "    OVERLAP_SPLIT_TRANSIT = False\n",
    "\n",
    "    Run.run_fasttrips(input_network_dir     = INPUT_NETWORKS,\n",
    "                  input_demand_dir      = INPUT_DEMAND,\n",
    "                  run_config            = RUN_CONFIG,\n",
    "                  input_weights         = INPUT_WEIGHTS,\n",
    "                  output_dir            = OUTPUT_DIR,\n",
    "                  output_folder         = OUTPUT_FOLDER,\n",
    "                  pathfinding_type      = PATHFINDING_TYPE,\n",
    "                  iters                 = ITERATIONS,\n",
    "                  overlap_variable      = o,\n",
    "                  overlap_split_transit = OVERLAP_SPLIT_TRANSIT,\n",
    "                  dispersion            = DISPERSION )\n"
   ]
  },
  {
   "cell_type": "markdown",
   "metadata": {
    "collapsed": true
   },
   "source": [
    "## Analyze Results of Overlap Calculation"
   ]
  },
  {
   "cell_type": "code",
   "execution_count": null,
   "metadata": {
    "collapsed": false
   },
   "outputs": [],
   "source": [
    "pd.set_option('display.max_colwidth',160) #widen so you can see whole description\n",
    "PATHS  = r\"pathset_paths.csv\"\n",
    "\n",
    "for o in OVERLAP_METHODS:\n",
    "    full_output_directory = os.path.join(OUTPUT_DIR,OUTPUT_FOLDER_BASE+\"%s\" % (o))                     \n",
    "    df = pd.read_csv(os.path.join(full_output_directory,PATHS), sep=\",\")[[\"person_id\",\"person_trip_id\",\"pathnum\",\"description\",\"sim_cost\",\"probability\"]]\n",
    "    df['overlap_var'] = o\n",
    "    if o == OVERLAP_METHODS[0]: \n",
    "        overlap_paths_df  = df\n",
    "        continue\n",
    "    overlap_paths_df = pd.concat([overlap_paths_df, df], ignore_index=True, axis = 0)\n",
    "\n",
    "overlap_paths_df"
   ]
  },
  {
   "cell_type": "code",
   "execution_count": null,
   "metadata": {
    "collapsed": false
   },
   "outputs": [],
   "source": [
    "p = Bar(overlap_paths_df, label='overlap_var', values='probability', group='pathnum', title=\"Probability by Overlap\")\n",
    "show(p, notebook_handle=True)"
   ]
  },
  {
   "cell_type": "markdown",
   "metadata": {},
   "source": [
    "## QUESTIONS\n",
    "\n",
    "**2-a:** What is the effect of using overlap?  \n",
    "**2-b:** What network characteristics would make overlap more or less important?"
   ]
  },
  {
   "cell_type": "code",
   "execution_count": null,
   "metadata": {
    "collapsed": false
   },
   "outputs": [],
   "source": []
  },
  {
   "cell_type": "code",
   "execution_count": null,
   "metadata": {
    "collapsed": true
   },
   "outputs": [],
   "source": []
  }
 ],
 "metadata": {
  "anaconda-cloud": {},
  "kernelspec": {
   "display_name": "Python 2",
   "language": "python",
   "name": "python2"
  },
  "language_info": {
   "codemirror_mode": {
    "name": "ipython",
    "version": 2
   },
   "file_extension": ".py",
   "mimetype": "text/x-python",
   "name": "python",
   "nbconvert_exporter": "python",
   "pygments_lexer": "ipython2",
   "version": "2.7.13"
  }
 },
 "nbformat": 4,
 "nbformat_minor": 2
}
