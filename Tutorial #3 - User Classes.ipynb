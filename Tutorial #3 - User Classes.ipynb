{
 "cells": [
  {
   "cell_type": "markdown",
   "metadata": {},
   "source": [
    "# Fast-Trips Tutorial 3: User Classes"
   ]
  },
  {
   "cell_type": "code",
   "execution_count": null,
   "metadata": {
    "collapsed": false
   },
   "outputs": [],
   "source": [
    "import os,datetime\n",
    "import pandas as pd\n",
    "\n",
    "BASE_DIR         = r\"PUT YOUR PATH TO THE TUTORIAL HERE\"\n",
    "BASE_DIR         = r\"/Users/elizabeth/Documents/urbanlabs/MTC/SHRP2/tutorial\""
   ]
  },
  {
   "cell_type": "markdown",
   "metadata": {
    "collapsed": false
   },
   "source": [
    "One of the major benefits of using a disaggregate framework is that it allows extreme flexibility in market segmentation and accounting for heterogeneity.\n",
    "\n",
    "One way that Fast-Trips accounts for heterogeneity is by using a trip-specific value-of-time in order to trade off costs with travel time.  This comes into play when fares are used.  Fares will be covered in a later tutorial.\n",
    "\n",
    "The most straightforward way to account for market segmentation is to specifiy different `pathweights` for various subsets of trips.  This is done by:\n",
    "\n",
    "  * categorizing trips by returning a user class in `config_ft.py`  \n",
    "  * adding pathweight parameters for each named user class in `pathweights_ft.txt`\n",
    "  * telling Fast-Trips which input function file to use by passing in `input_functions = config_ft.py` \n",
    "  * specifying which function in `config_ft.py` to use to determine the user class in `config_ft.txt` or passing it in as `user_class_function`\n",
    "  \n"
   ]
  },
  {
   "cell_type": "markdown",
   "metadata": {},
   "source": [
    "In this example, we will create a user class that is more sensitive to transfers than the others based on what household [school] they belong to.  Some people are just more....picky'n'choosy.\n",
    "\n",
    "Let's review the new input files and how other input files have changed.\n",
    "\n",
    "## `config_ft.py` specifies which trips belong in each user class\n",
    "\n",
    "Here you can see that a function called `user_class` determines whether a trip is assigned to the picky user class based on their household.  \n",
    "\n",
    "All other trips are assigned to an `other` user class."
   ]
  },
  {
   "cell_type": "code",
   "execution_count": null,
   "metadata": {
    "collapsed": false
   },
   "outputs": [],
   "source": [
    "INPUT_FUNCTIONS  = os.path.join(BASE_DIR,\"tta\",\"input\",\"demand-bigger\",\"config_ft.py\")\n",
    "\n",
    "with open(INPUT_FUNCTIONS, 'r') as myfile:\n",
    "    contents=myfile.read()\n",
    "print contents"
   ]
  },
  {
   "cell_type": "markdown",
   "metadata": {},
   "source": [
    "## `segmented_pathweight_ft.txt` specifies weights for multiple user classes\n",
    "\n",
    "The same set of weights is specified for each user class. \n",
    "\n",
    "Notice different weights for `transfer_penalty` and the transfer `walk_time_min`\n"
   ]
  },
  {
   "cell_type": "code",
   "execution_count": null,
   "metadata": {
    "collapsed": false
   },
   "outputs": [],
   "source": [
    "INPUT_WEIGHTS    = os.path.join(BASE_DIR,\"tta\",\"input\",\"demand-bigger\",\"segmented_pathweight_ft.txt\")\n",
    "pathweights_df = pd.read_csv(INPUT_WEIGHTS)\n",
    "pathweights_df[pathweights_df[\"supply_mode\"]==\"transfer\"]"
   ]
  },
  {
   "cell_type": "markdown",
   "metadata": {},
   "source": [
    "# Run Fast-Trips \n",
    "This example runs fast-trips "
   ]
  },
  {
   "cell_type": "code",
   "execution_count": null,
   "metadata": {
    "collapsed": false
   },
   "outputs": [],
   "source": [
    "from fasttrips import Run"
   ]
  },
  {
   "cell_type": "code",
   "execution_count": null,
   "metadata": {
    "collapsed": false
   },
   "outputs": [],
   "source": [
    "USER_CLASS_FUNCT = \"user_class\"\n",
    "RUN_CONFIG       = os.path.join(BASE_DIR,\"tta\",\"input\",\"demand-bigger\",\"config_ft.txt\")\n",
    "\n",
    "INPUT_NETWORKS   = os.path.join(BASE_DIR,\"tta\",\"input\",\"network-added-route\")\n",
    "INPUT_DEMAND     = os.path.join(BASE_DIR,\"tta\",\"input\",\"demand-bigger\")\n",
    "\n",
    "OUTPUT_FOLDER    = r\"segmentation\"\n",
    "OUTPUT_DIR       = os.path.join(BASE_DIR, \"tta\",\"output\")"
   ]
  },
  {
   "cell_type": "code",
   "execution_count": null,
   "metadata": {
    "collapsed": false
   },
   "outputs": [],
   "source": [
    "Run.run_fasttrips(input_network_dir= INPUT_NETWORKS,\n",
    "                  input_demand_dir = INPUT_DEMAND,\n",
    "                  run_config       = RUN_CONFIG,\n",
    "                  input_weights    = INPUT_WEIGHTS,\n",
    "                  output_dir       = OUTPUT_DIR,\n",
    "                  output_folder    = OUTPUT_FOLDER,\n",
    "                  user_class_function = USER_CLASS_FUNCT,\n",
    "                  input_functions  = INPUT_FUNCTIONS,\n",
    "                  iters            = 3,\n",
    "                  overlap_variable = \"count\",\n",
    "                  dispersion       = 0.5,\n",
    "                  capacity         = True)"
   ]
  },
  {
   "cell_type": "markdown",
   "metadata": {},
   "source": []
  },
  {
   "cell_type": "markdown",
   "metadata": {},
   "source": [
    "# Examine Results"
   ]
  },
  {
   "cell_type": "markdown",
   "metadata": {},
   "source": [
    "## Vehicle/Route Level\n",
    "First, let's examine what is going on with the vehicles. "
   ]
  },
  {
   "cell_type": "code",
   "execution_count": null,
   "metadata": {
    "collapsed": false
   },
   "outputs": [],
   "source": [
    "pd.set_option('display.max_colwidth',160) \n",
    "full_output_directory=os.path.join(OUTPUT_DIR,OUTPUT_FOLDER)\n",
    "vehicles_df = pd.read_csv(os.path.join(full_output_directory,\"veh_trips.csv\"), \n",
    "                                       sep=\",\", \n",
    "                                       parse_dates=['arrival_time', 'departure_time'],\n",
    "                                       date_parser=lambda x: datetime.datetime.strptime(x, '%H:%M:%S') )\n",
    "\n",
    "vehicles_df[['iteration','pathfinding_iteration','arrival_time','departure_time','route_id','trip_id','stop_id','boards','onboard','standees']]"
   ]
  },
  {
   "cell_type": "markdown",
   "metadata": {
    "collapsed": false
   },
   "source": []
  },
  {
   "cell_type": "code",
   "execution_count": null,
   "metadata": {
    "collapsed": false
   },
   "outputs": [],
   "source": [
    "import seaborn as sns\n",
    "import matplotlib.pyplot as plt\n",
    "%matplotlib inline\n",
    "\n",
    "sns.set(style=\"whitegrid\")\n",
    "fig, axs = plt.subplots(nrows=3,figsize=(15,15))\n",
    "\n",
    "iter1 = sns.barplot(ax=axs[0], x=\"trip_id\", order=[\"B1\",\"B2\",\"B3\",\"G1\",\"R1\",\"G2\",\"R2\",\"G3\",\"G4\"],y=\"boards\", hue=\"pathfinding_iteration\",  estimator=sum, ci=None, data=vehicles_df[vehicles_df[\"iteration\"]==1])\n",
    "iter2 = sns.barplot(ax=axs[1], x=\"trip_id\", order=[\"B1\",\"B2\",\"B3\",\"G1\",\"R1\",\"G2\",\"R2\",\"G3\",\"G4\"],y=\"boards\", hue=\"pathfinding_iteration\",  estimator=sum, ci=None, data=vehicles_df[vehicles_df[\"iteration\"]==2])\n",
    "iter3 = sns.barplot(ax=axs[2], x=\"trip_id\", order=[\"B1\",\"B2\",\"B3\",\"G1\",\"R1\",\"G2\",\"R2\",\"G3\",\"G4\"],y=\"boards\", hue=\"pathfinding_iteration\",  estimator=sum, ci=None, data=vehicles_df[vehicles_df[\"iteration\"]==3])\n",
    "\n",
    "axs[0].set_title('Iteration #1', fontsize=24,color=\"Gray\")\n",
    "axs[1].set_title('Iteration #2', fontsize=24,color=\"Gray\")\n",
    "axs[2].set_title('Iteration #3', fontsize=24,color=\"Gray\")"
   ]
  },
  {
   "cell_type": "markdown",
   "metadata": {
    "collapsed": true
   },
   "source": []
  }
 ],
 "metadata": {
  "anaconda-cloud": {},
  "kernelspec": {
   "display_name": "Python 2",
   "language": "python",
   "name": "python2"
  },
  "language_info": {
   "codemirror_mode": {
    "name": "ipython",
    "version": 2
   },
   "file_extension": ".py",
   "mimetype": "text/x-python",
   "name": "python",
   "nbconvert_exporter": "python",
   "pygments_lexer": "ipython2",
   "version": "2.7.13"
  }
 },
 "nbformat": 4,
 "nbformat_minor": 2
}
