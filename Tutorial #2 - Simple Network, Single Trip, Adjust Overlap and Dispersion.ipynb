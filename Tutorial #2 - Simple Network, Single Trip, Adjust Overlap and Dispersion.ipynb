{
 "cells": [
  {
   "cell_type": "markdown",
   "metadata": {},
   "source": [
    "# Fast-Trips Tutorial 2: Test Stochastic Dispersion and Overlap\n",
    "The purpose of this tutorial is to illustrate the effects of the dispersion and path overlap parameters"
   ]
  },
  {
   "cell_type": "code",
   "execution_count": null,
   "metadata": {
    "collapsed": false
   },
   "outputs": [],
   "source": [
    "import os,datetime\n",
    "import pandas as pd\n",
    "import fasttrips\n",
    "from fasttrips import Run"
   ]
  },
  {
   "cell_type": "markdown",
   "metadata": {},
   "source": [
    "# Specify Input Networks"
   ]
  },
  {
   "cell_type": "code",
   "execution_count": null,
   "metadata": {
    "collapsed": true
   },
   "outputs": [],
   "source": [
    "INPUT_NETWORKS   = r\"/Users/elizabeth/Documents/urbanlabs/MTC/SHRP2/tutorial/tta/input/network-simple\"\n",
    "INPUT_DEMAND     = r\"/Users/elizabeth/Documents/urbanlabs/MTC/SHRP2/tutorial/tta/input/demand-single\""
   ]
  },
  {
   "cell_type": "markdown",
   "metadata": {},
   "source": [
    "# Examine Effect of Dispersion\n",
    "Note that if you run this more than once, you will probably need to go to `kernel>>restart` menu so that fast-trips doesn't get confused by variables being held in memory."
   ]
  },
  {
   "cell_type": "code",
   "execution_count": null,
   "metadata": {
    "collapsed": true
   },
   "outputs": [],
   "source": [
    "OUTPUT_DIR       = r\"/Users/elizabeth/Documents/urbanlabs/MTC/SHRP2/tutorial/tta/output\"\n",
    "ITERATIONS       = 1\n",
    "PATHFINDING_TYPE = \"stochastic\"\n",
    "OVERLAP          = \"None\"\n",
    "DISPERSION_TESTS = [0.50,0.60,0.80,1.00]"
   ]
  },
  {
   "cell_type": "markdown",
   "metadata": {},
   "source": [
    "## **Running Multiple FT Runs in iPy Notebook**\n",
    "Due to some iPython issues with variables lurking, in order to run multiple Fast-Trips runs in same notebook, you must restart the kernel after each run."
   ]
  },
  {
   "cell_type": "code",
   "execution_count": null,
   "metadata": {
    "collapsed": false
   },
   "outputs": [],
   "source": [
    "##TODO in future, run this in a loop.  For now, iPython has \"secretly saved variables\" that make this difficult.\n",
    "\n",
    "\n",
    "OUTPUT_FOLDER    = r\"test_simplenet_wDispersion050\"\n",
    "DISPERSION       = 0.50\n",
    "Run.run_fasttrips(input_net_dir    = INPUT_NETWORKS,\n",
    "                  input_demand_dir = INPUT_DEMAND,\n",
    "                  output_dir       = OUTPUT_DIR,\n",
    "                  output_folder    = OUTPUT_FOLDER,\n",
    "                  pathfinding_type = PATHFINDING_TYPE,\n",
    "                  iters            = ITERATIONS,\n",
    "                  overlap_variable = OVERLAP,\n",
    "                  dispersion       = DISPERSION )"
   ]
  },
  {
   "cell_type": "code",
   "execution_count": null,
   "metadata": {
    "collapsed": false
   },
   "outputs": [],
   "source": [
    "OUTPUT_FOLDER    = r\"test_simplenet_wDispersion060\"\n",
    "DISPERSION       = 0.60\n",
    "Run.run_fasttrips(input_net_dir    = INPUT_NETWORKS,\n",
    "                  input_demand_dir = INPUT_DEMAND,\n",
    "                  output_dir       = OUTPUT_DIR,\n",
    "                  output_folder    = OUTPUT_FOLDER,\n",
    "                  pathfinding_type = PATHFINDING_TYPE,\n",
    "                  iters            = ITERATIONS,\n",
    "                  overlap_variable = OVERLAP,\n",
    "                  dispersion       = DISPERSION )"
   ]
  },
  {
   "cell_type": "code",
   "execution_count": null,
   "metadata": {
    "collapsed": false
   },
   "outputs": [],
   "source": [
    "OUTPUT_FOLDER    = r\"test_simplenet_wDispersion080\"\n",
    "DISPERSION       = 0.80\n",
    "Run.run_fasttrips(input_net_dir    = INPUT_NETWORKS,\n",
    "                  input_demand_dir = INPUT_DEMAND,\n",
    "                  output_dir       = OUTPUT_DIR,\n",
    "                  output_folder    = OUTPUT_FOLDER,\n",
    "                  pathfinding_type = PATHFINDING_TYPE,\n",
    "                  iters            = ITERATIONS,\n",
    "                  overlap_variable = OVERLAP,\n",
    "                  dispersion       = DISPERSION )"
   ]
  },
  {
   "cell_type": "code",
   "execution_count": null,
   "metadata": {
    "collapsed": false
   },
   "outputs": [],
   "source": [
    "OUTPUT_FOLDER    = r\"test_simplenet_wDispersion100\"\n",
    "DISPERSION       = 1.00\n",
    "Run.run_fasttrips(input_net_dir    = INPUT_NETWORKS,\n",
    "                  input_demand_dir = INPUT_DEMAND,\n",
    "                  output_dir       = OUTPUT_DIR,\n",
    "                  output_folder    = OUTPUT_FOLDER,\n",
    "                  pathfinding_type = PATHFINDING_TYPE,\n",
    "                  iters            = ITERATIONS,\n",
    "                  overlap_variable = OVERLAP,\n",
    "                  dispersion       = DISPERSION )"
   ]
  },
  {
   "cell_type": "markdown",
   "metadata": {},
   "source": [
    "# Examine Dispersion Results"
   ]
  },
  {
   "cell_type": "code",
   "execution_count": null,
   "metadata": {
    "collapsed": false
   },
   "outputs": [],
   "source": [
    "from bokeh.charts import Bar, Histogram, TimeSeries, output_file, Line\n",
    "from bokeh.models import ColumnDataSource\n",
    "from bokeh.io import push_notebook, show, output_notebook\n",
    "from bokeh.plotting import figure\n",
    "output_notebook()"
   ]
  },
  {
   "cell_type": "code",
   "execution_count": null,
   "metadata": {
    "collapsed": false
   },
   "outputs": [],
   "source": [
    "run_collection    = {0.50: {\"out\":r\"test_simplenet_wDispersion050\"},\n",
    "                     0.60: {\"out\":r\"test_simplenet_wDispersion060\"},\n",
    "                     0.80: {\"out\":r\"test_simplenet_wDispersion080\"},\n",
    "                     1.00: {\"out\":r\"test_simplenet_wDispersion100\"}}\n",
    "                     \n",
    "pd.set_option('display.max_colwidth',160) #widen so you can see whole description\n",
    "PATHS  = r\"pathset_paths.csv\"\n",
    "##todo this is a rather dumb way to do this; make more elegant\n",
    "for count, (k,v) in enumerate(run_collection.iteritems(), 0):\n",
    "    full_output_directory = os.path.join(OUTPUT_DIR,v[\"out\"])\n",
    "    df                    = pd.read_csv(os.path.join(full_output_directory,PATHS), sep=\",\")[[\"person_id\",\"person_trip_id\",\"pathnum\",\"description\",\"sim_cost\",\"probability\"]]\n",
    "    df[\"dispersion\"] = k\n",
    "    if not count: \n",
    "        longpaths_df  = df\n",
    "        continue\n",
    "    longpaths_df = pd.concat([longpaths_df, df], ignore_index=True, axis = 0)\n",
    "\n",
    "#longpaths_df"
   ]
  },
  {
   "cell_type": "code",
   "execution_count": null,
   "metadata": {
    "collapsed": false
   },
   "outputs": [],
   "source": [
    "p = Bar(longpaths_df, label='dispersion', values='probability', group='pathnum', title=\"Probability by Dispersion\")\n",
    "show(p, notebook_handle=True)"
   ]
  },
  {
   "cell_type": "markdown",
   "metadata": {},
   "source": [
    "We can see that as the dispersion parameter increases, the good path looks even better relative to the less good path.  \n",
    "\n",
    "Looking at the table, it is evident that only dispersion parameter = 0.5 even assigns a non-zero probability to waiting for another green bus.  "
   ]
  },
  {
   "cell_type": "markdown",
   "metadata": {},
   "source": [
    "## Examine Effect of Overlap Calculation"
   ]
  },
  {
   "cell_type": "code",
   "execution_count": null,
   "metadata": {
    "collapsed": true
   },
   "outputs": [],
   "source": [
    "OUTPUT_DIR       = r\"/Users/elizabeth/Documents/urbanlabs/MTC/SHRP2/tutorial/tta/output\"\n",
    "ITERATIONS       = 1\n",
    "PATHFINDING_TYPE = \"stochastic\"\n",
    "OVERLAP          = \"None\"\n",
    "DISPERSION       = 0.50"
   ]
  },
  {
   "cell_type": "code",
   "execution_count": null,
   "metadata": {
    "collapsed": false
   },
   "outputs": [],
   "source": [
    "# Possible overlap methods ['None','count','distance','time'] * Split transit boolean\n",
    "\n",
    "OUTPUT_FOLDER         = r\"test_simplenet_wDispersion050_wOverlapCount\"\n",
    "OVERLAP               = 'count'\n",
    "OVERLAP_SPLIT_TRANSIT = False\n",
    "\n",
    "Run.run_fasttrips(input_net_dir    = INPUT_NETWORKS,\n",
    "                  input_demand_dir = INPUT_DEMAND,\n",
    "                  output_dir       = OUTPUT_DIR,\n",
    "                  output_folder    = OUTPUT_FOLDER,\n",
    "                  pathfinding_type = PATHFINDING_TYPE,\n",
    "                  iters            = ITERATIONS,\n",
    "                  overlap_variable = OVERLAP,\n",
    "                  overlap_split_transit = OVERLAP_SPLIT_TRANSIT,\n",
    "                  dispersion       = DISPERSION )\n",
    "\n"
   ]
  },
  {
   "cell_type": "code",
   "execution_count": null,
   "metadata": {
    "collapsed": false
   },
   "outputs": [],
   "source": [
    "# Possible overlap methods ['None','count','distance','time'] * Split transit boolean\n",
    "\n",
    "OUTPUT_FOLDER         = r\"test_simplenet_wDispersion050_wOverlapDistance\"\n",
    "OVERLAP               = 'distance'\n",
    "OVERLAP_SPLIT_TRANSIT = False\n",
    "\n",
    "Run.run_fasttrips(input_net_dir    = INPUT_NETWORKS,\n",
    "                  input_demand_dir = INPUT_DEMAND,\n",
    "                  output_dir       = OUTPUT_DIR,\n",
    "                  output_folder    = OUTPUT_FOLDER,\n",
    "                  pathfinding_type = PATHFINDING_TYPE,\n",
    "                  iters            = ITERATIONS,\n",
    "                  overlap_variable = OVERLAP,\n",
    "                  overlap_split_transit = OVERLAP_SPLIT_TRANSIT,\n",
    "                  dispersion       = DISPERSION )\n"
   ]
  },
  {
   "cell_type": "code",
   "execution_count": null,
   "metadata": {
    "collapsed": false
   },
   "outputs": [],
   "source": [
    "# Possible overlap methods ['None','count','distance','time'] * Split transit boolean\n",
    "\n",
    "OUTPUT_FOLDER         = r\"test_simplenet_wDispersion050_wOverlapTime\"\n",
    "OVERLAP               = 'time'\n",
    "OVERLAP_SPLIT_TRANSIT = False\n",
    "\n",
    "Run.run_fasttrips(input_net_dir    = INPUT_NETWORKS,\n",
    "                  input_demand_dir = INPUT_DEMAND,\n",
    "                  output_dir       = OUTPUT_DIR,\n",
    "                  output_folder    = OUTPUT_FOLDER,\n",
    "                  pathfinding_type = PATHFINDING_TYPE,\n",
    "                  iters            = ITERATIONS,\n",
    "                  overlap_variable = OVERLAP,\n",
    "                  overlap_split_transit = OVERLAP_SPLIT_TRANSIT,\n",
    "                  dispersion       = DISPERSION )"
   ]
  },
  {
   "cell_type": "code",
   "execution_count": null,
   "metadata": {
    "collapsed": true
   },
   "outputs": [],
   "source": [
    "## Analyze Results of Overlap Calculation"
   ]
  },
  {
   "cell_type": "code",
   "execution_count": null,
   "metadata": {
    "collapsed": false
   },
   "outputs": [],
   "source": [
    "run_collection    = {\"none\"    : r\"test_simplenet_wDispersion050\",\n",
    "                     \"count\"   : r\"test_simplenet_wDispersion050_wOverlapCount\",\n",
    "                     \"distance\": r\"test_simplenet_wDispersion050_wOverlapDistance\",\n",
    "                     \"time\"    : r\"test_simplenet_wDispersion050_wOverlapTime\"}\n",
    "                     \n",
    "pd.set_option('display.max_colwidth',160) #widen so you can see whole description\n",
    "PATHS  = r\"pathset_paths.csv\"\n",
    "##todo this is a rather dumb way to do this; make more elegant\n",
    "for count, (k,v) in enumerate(run_collection.iteritems(), 0):\n",
    "    full_output_directory = os.path.join(OUTPUT_DIR,v)\n",
    "    df                    = pd.read_csv(os.path.join(full_output_directory,PATHS), sep=\",\")[[\"person_id\",\"person_trip_id\",\"pathnum\",\"description\",\"sim_cost\",\"logsum\",\"probability\"]]\n",
    "    df[\"overlap_var\"] = k\n",
    "    if not count: \n",
    "        longpaths_df  = df\n",
    "        continue\n",
    "    longpaths_df = pd.concat([longpaths_df, df], ignore_index=True, axis = 0)\n",
    "longpaths_df"
   ]
  },
  {
   "cell_type": "code",
   "execution_count": null,
   "metadata": {
    "collapsed": false
   },
   "outputs": [],
   "source": [
    "p = Bar(longpaths_df, label='overlap_var', values='probability', group='pathnum', title=\"Probability by Overlap\")\n",
    "show(p, notebook_handle=True)"
   ]
  },
  {
   "cell_type": "markdown",
   "metadata": {},
   "source": [
    "As you can see, even in this very simple example, not accounting for overlap can have a fairly significant [ ~20%+ ] effect on the probabilities.  However, since the distance and time of the links does not vary significantly for this example, there is not a great deal of variation among the different variables.\n",
    "\n",
    "The other variable that can greatly affect the overlap calculations is whether the transit line is considered to be the same based on having the same on/off pattern, or if we consider overlapping transit segments.  Because this example does not have any intermediate stops, the difference here would be null, but this is another degree of freedom that we should consider in later tutorials."
   ]
  },
  {
   "cell_type": "code",
   "execution_count": null,
   "metadata": {
    "collapsed": true
   },
   "outputs": [],
   "source": []
  }
 ],
 "metadata": {
  "anaconda-cloud": {},
  "kernelspec": {
   "display_name": "Python [conda env:Fast-Trips]",
   "language": "python",
   "name": "conda-env-Fast-Trips-py"
  },
  "language_info": {
   "codemirror_mode": {
    "name": "ipython",
    "version": 2
   },
   "file_extension": ".py",
   "mimetype": "text/x-python",
   "name": "python",
   "nbconvert_exporter": "python",
   "pygments_lexer": "ipython2",
   "version": "2.7.13"
  }
 },
 "nbformat": 4,
 "nbformat_minor": 2
}
