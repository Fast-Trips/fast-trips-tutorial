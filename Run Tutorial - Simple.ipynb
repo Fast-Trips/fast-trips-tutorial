{
 "cells": [
  {
   "cell_type": "code",
   "execution_count": 1,
   "metadata": {
    "collapsed": false
   },
   "outputs": [],
   "source": [
    "import os,datetime\n",
    "import pandas as pd"
   ]
  },
  {
   "cell_type": "markdown",
   "metadata": {},
   "source": [
    "# Specify Input Networks + Visualize"
   ]
  },
  {
   "cell_type": "code",
   "execution_count": 2,
   "metadata": {
    "collapsed": true
   },
   "outputs": [],
   "source": [
    "INPUT_NETWORKS   = r\"/Users/elizabeth/Documents/urbanlabs/MTC/SHRP2/tutorial/tta/input/network-simple\"\n",
    "INPUT_DEMAND     = r\"/Users/elizabeth/Documents/urbanlabs/MTC/SHRP2/tutorial/tta/input/demand-single\""
   ]
  },
  {
   "cell_type": "markdown",
   "metadata": {},
   "source": [
    "## Validate GTFS Feed\n",
    "Note that `transitfeed` does not expect all the extra files associated with GTFS-PLUS and it will be noisy about them."
   ]
  },
  {
   "cell_type": "code",
   "execution_count": 3,
   "metadata": {
    "collapsed": false
   },
   "outputs": [
    {
     "name": "stdout",
     "output_type": "stream",
     "text": [
      "routes_ft.txt\n",
      "The file named routes_ft.txt was not expected.\n",
      "This may be a misspelled file name or the file may be included in a\n",
      "subdirectory. Please check spellings and make sure that there are no\n",
      "subdirectories within the feed\n",
      "transfers_ft.txt\n",
      "The file named transfers_ft.txt was not expected.\n",
      "This may be a misspelled file name or the file may be included in a\n",
      "subdirectory. Please check spellings and make sure that there are no\n",
      "subdirectories within the feed\n",
      "trips_ft.txt\n",
      "The file named trips_ft.txt was not expected.\n",
      "This may be a misspelled file name or the file may be included in a\n",
      "subdirectory. Please check spellings and make sure that there are no\n",
      "subdirectories within the feed\n",
      "vehicles_ft.txt\n",
      "The file named vehicles_ft.txt was not expected.\n",
      "This may be a misspelled file name or the file may be included in a\n",
      "subdirectory. Please check spellings and make sure that there are no\n",
      "subdirectories within the feed\n",
      "walk_access_ft.txt\n",
      "The file named walk_access_ft.txt was not expected.\n",
      "This may be a misspelled file name or the file may be included in a\n",
      "subdirectory. Please check spellings and make sure that there are no\n",
      "subdirectories within the feed\n",
      "All services are defined on a weekly basis from 2015-01-01 to 2015-12-31 with\n",
      "no single day variations. If there are exceptions such as holiday service\n",
      "dates please ensure they are listed in calendar_dates.txt\n",
      "This feed expired on December 31, 2015 (last service date in calendar.txt)\n"
     ]
    }
   ],
   "source": [
    "import transitfeed\n",
    "loader        = transitfeed.Loader(INPUT_NETWORKS, memory_db=True)\n",
    "schedule      = loader.Load()\n",
    "schedule.Validate()"
   ]
  },
  {
   "cell_type": "markdown",
   "metadata": {},
   "source": [
    "## Create Simple Map of Routes"
   ]
  },
  {
   "cell_type": "code",
   "execution_count": 4,
   "metadata": {
    "collapsed": false
   },
   "outputs": [
    {
     "data": {
      "text/html": [
       "<div style=\"width:100%;\"><div style=\"position:relative;width:100%;height:0;padding-bottom:60%;\"><iframe src=\"data:text/html;base64,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\" style=\"position:absolute;width:100%;height:100%;left:0;top:0;\"></iframe></div></div>"
      ],
      "text/plain": [
       "<folium.folium.Map at 0x113033bd0>"
      ]
     },
     "execution_count": 4,
     "metadata": {},
     "output_type": "execute_result"
    }
   ],
   "source": [
    "import folium\n",
    "import tutorial_map\n",
    "\n",
    "mymap = tutorial_map.make_map(schedule)\n",
    "mymap"
   ]
  },
  {
   "cell_type": "markdown",
   "metadata": {},
   "source": [
    "# Run Fast-Trips Example: Single Trip\n",
    "Note that if you run this more than once, you will probably need to go to `kernel>>restart` menu so that fast-trips doesn't get confused by variables being held in memory."
   ]
  },
  {
   "cell_type": "code",
   "execution_count": 5,
   "metadata": {
    "collapsed": false
   },
   "outputs": [],
   "source": [
    "import fasttrips\n",
    "from fasttrips import Run"
   ]
  },
  {
   "cell_type": "code",
   "execution_count": 6,
   "metadata": {
    "collapsed": true
   },
   "outputs": [],
   "source": [
    "OUTPUT_FOLDER    = r\"test_simplenet_noOverlap\"\n",
    "OUTPUT_DIR       = r\"/Users/elizabeth/Documents/urbanlabs/MTC/SHRP2/tutorial/tta/output\"\n",
    "ITERATIONS       = 1\n",
    "PATHFINDING_TYPE = \"stochastic\"\n",
    "OVERLAP          = \"None\""
   ]
  },
  {
   "cell_type": "code",
   "execution_count": 7,
   "metadata": {
    "collapsed": false
   },
   "outputs": [
    {
     "name": "stderr",
     "output_type": "stream",
     "text": [
      "2017-04-26 16:39:13 [INFO/MainProcess] Reading configuration file /Users/elizabeth/Documents/urbanlabs/MTC/SHRP2/tutorial/tta/input/network-simple/config_ft.txt\n",
      "2017-04-26 16:39:13 [INFO/MainProcess] Reading configuration file /Users/elizabeth/Documents/urbanlabs/MTC/SHRP2/tutorial/tta/input/demand-single/config_ft.txt\n",
      "2017-04-26 16:39:13 [INFO/MainProcess] HOWDY [('Tuffie','1')]\n",
      "2017-04-26 16:39:13 [INFO/MainProcess] Reading GTFS schedule\n",
      "2017-04-26 16:39:13 [INFO/MainProcess] Read       6           stops from                 stops.txt,              stops_ft.txt\n",
      "2017-04-26 16:39:13 [INFO/MainProcess] Read       3          routes from                routes.txt,             routes_ft.txt\n",
      "2017-04-26 16:39:13 [INFO/MainProcess] Read       1        agencies from                agency.txt\n",
      "2017-04-26 16:39:13 [INFO/MainProcess] Read       0 fare attributes from       fare_attributes.txt\n",
      "2017-04-26 16:39:13 [INFO/MainProcess] Read       0      fare rules from            fare_rules.txt,       fare_periods_ft.txt\n",
      "2017-04-26 16:39:13 [INFO/MainProcess] Read       2       transfers from             transfers.txt,          transfers_ft.txt\n",
      "2017-04-26 16:39:13 [INFO/MainProcess] Read       1        vehicles from           vehicles_ft.txt\n",
      "2017-04-26 16:39:13 [INFO/MainProcess] Read       9           trips from                 trips.txt,              trips_ft.txt\n",
      "2017-04-26 16:39:13 [INFO/MainProcess] Read       1 service periods from              calendar.txt\n"
     ]
    },
    {
     "name": "stdout",
     "output_type": "stream",
     "text": [
      "routes_ft.txt\n",
      "The file named routes_ft.txt was not expected.\n",
      "This may be a misspelled file name or the file may be included in a\n",
      "subdirectory. Please check spellings and make sure that there are no\n",
      "subdirectories within the feed\n",
      "transfers_ft.txt\n",
      "The file named transfers_ft.txt was not expected.\n",
      "This may be a misspelled file name or the file may be included in a\n",
      "subdirectory. Please check spellings and make sure that there are no\n",
      "subdirectories within the feed\n",
      "trips_ft.txt\n",
      "The file named trips_ft.txt was not expected.\n",
      "This may be a misspelled file name or the file may be included in a\n",
      "subdirectory. Please check spellings and make sure that there are no\n",
      "subdirectories within the feed\n",
      "vehicles_ft.txt\n",
      "The file named vehicles_ft.txt was not expected.\n",
      "This may be a misspelled file name or the file may be included in a\n",
      "subdirectory. Please check spellings and make sure that there are no\n",
      "subdirectories within the feed\n",
      "walk_access_ft.txt\n",
      "The file named walk_access_ft.txt was not expected.\n",
      "This may be a misspelled file name or the file may be included in a\n",
      "subdirectory. Please check spellings and make sure that there are no\n",
      "subdirectories within the feed\n"
     ]
    },
    {
     "name": "stderr",
     "output_type": "stream",
     "text": [
      "2017-04-26 16:39:13 [WARNING/MainProcess] Adding shape_dist_traveled in miles\n",
      "2017-04-26 16:39:13 [INFO/MainProcess] Read      18      stop times from            stop_times.txt,         stop_times_ft.txt\n",
      "2017-04-26 16:39:13 [INFO/MainProcess] Read       3     walk access from        walk_access_ft.txt\n",
      "2017-04-26 16:39:13 [INFO/MainProcess] Read       0            DAPs from drive_access_points_ft.txt\n",
      "2017-04-26 16:39:13 [WARNING/MainProcess] The following 3 stop ids have no walk access: \n",
      "  stop_id  taz\n",
      "1       B  NaN\n",
      "2      B1  NaN\n",
      "3      B2  NaN\n",
      "2017-04-26 16:39:13 [INFO/MainProcess] -------- Reading demand --------\n",
      "2017-04-26 16:39:13 [INFO/MainProcess] Capacity constraint? 0\n",
      "2017-04-26 16:39:13 [INFO/MainProcess] Read       1    person trips from             trip_list.txt\n",
      "2017-04-26 16:39:13 [INFO/MainProcess] Read       4         persons from                person.txt\n",
      "2017-04-26 16:39:13 [INFO/MainProcess] Read       3      households from             household.txt\n",
      "2017-04-26 16:39:13 [INFO/MainProcess] Have 1 person trips\n",
      "2017-04-26 16:39:13 [INFO/MainProcess] Wrote veh_trips_df dataframe to /Users/elizabeth/Documents/urbanlabs/MTC/SHRP2/tutorial/tta/output/test_simplenet_noOverlap/veh_trips.csv\n",
      "2017-04-26 16:39:13 [INFO/MainProcess] ***************************** ITERATION 1 PATHFINDING ITERATION 1 **************************************\n",
      "2017-04-26 16:39:13 [INFO/MainProcess] **************************** GENERATING PATHS **********************************************************\n",
      "2017-04-26 16:39:13 [INFO/MainProcess] Finding pathsets for 1 trips\n",
      "/Users/elizabeth/Documents/urbanlabs/MTC/SHRP2/working/fast-trips/fasttrips/Assignment.py:812: FutureWarning: to_datetime is deprecated. Use self.to_pydatetime()\n",
      "  trip_pathset = PathSet(path_dict)\n",
      "2017-04-26 16:39:14 [INFO/MainProcess]       1 paths sought,      1 paths found of 1 paths total.  Time elapsed:  0h: 0m: 0s\n",
      "2017-04-26 16:39:14 [INFO/MainProcess] Finished finding      1 passenger paths.  Time elapsed:  0h: 0m: 0s\n",
      "2017-04-26 16:39:14 [INFO/MainProcess] Wrote pathset_paths_df dataframe to /Users/elizabeth/Documents/urbanlabs/MTC/SHRP2/tutorial/tta/output/test_simplenet_noOverlap/pathsfound_paths.csv\n",
      "2017-04-26 16:39:14 [INFO/MainProcess] Wrote pathset_links_df dataframe to /Users/elizabeth/Documents/urbanlabs/MTC/SHRP2/tutorial/tta/output/test_simplenet_noOverlap/pathsfound_links.csv\n",
      "2017-04-26 16:39:14 [INFO/MainProcess] Wrote performance_df dataframe to /Users/elizabeth/Documents/urbanlabs/MTC/SHRP2/tutorial/tta/output/test_simplenet_noOverlap/ft_output_performance.csv\n",
      "2017-04-26 16:39:14 [INFO/MainProcess] ***************************** ITERATION 1 PATHFINDING ITERATION 1 *** SIMULATING ***********************\n",
      "2017-04-26 16:39:14 [INFO/MainProcess] Simulation Iteration 0\n",
      "2017-04-26 16:39:14 [INFO/MainProcess]   Step 1. Find out board/alight times for all pathset links from vehicle times\n"
     ]
    },
    {
     "name": "stdout",
     "output_type": "stream",
     "text": [
      "TRACE True\n"
     ]
    },
    {
     "name": "stderr",
     "output_type": "stream",
     "text": [
      "2017-04-26 16:39:14 [INFO/MainProcess]   Step 2. Flag missed transfer links and paths in the pathsets\n",
      "2017-04-26 16:39:14 [INFO/MainProcess]           flag_missed_transfers found 0 missed transfer trip legs for 0 paths\n",
      "2017-04-26 16:39:14 [INFO/MainProcess]   Step 3. Calculate costs and probabilities for all pathset paths\n",
      "2017-04-26 16:39:15 [INFO/MainProcess]           Adding fares to pathset\n",
      "2017-04-26 16:39:15 [INFO/MainProcess]   Step 4. Choose a path for each passenger from their pathset\n",
      "2017-04-26 16:39:15 [INFO/MainProcess]           Have      1 total passenger-trips, with      0 chosen paths,      0 fully rejected and      1 needing a choice\n",
      "2017-04-26 16:39:15 [INFO/MainProcess]           Chose 1 out of 1 paths from the pathsets => total chosen 1\n",
      "2017-04-26 16:39:15 [INFO/MainProcess]   Step 5. Put passenger paths on transit vehicles to get vehicle boards/alights/load and assess capacity constraints\n",
      "2017-04-26 16:39:15 [INFO/MainProcess]   Step 5.1 Put passengers on transit vehicles.\n",
      "2017-04-26 16:39:15 [INFO/MainProcess]   Step 6. Update dwell and travel times for transit vehicles\n",
      "2017-04-26 16:39:16 [INFO/MainProcess] Simulation Iteration 1\n",
      "2017-04-26 16:39:16 [INFO/MainProcess]   Step 1. Find out board/alight times for all pathset links from vehicle times\n",
      "2017-04-26 16:39:16 [INFO/MainProcess]   Step 2. Flag missed transfer links and paths in the pathsets\n",
      "2017-04-26 16:39:16 [INFO/MainProcess]           flag_missed_transfers found 0 missed transfer trip legs for 0 paths\n",
      "2017-04-26 16:39:16 [INFO/MainProcess]   Step 3. Calculate costs and probabilities for all pathset paths\n",
      "2017-04-26 16:39:16 [INFO/MainProcess]           Adding fares to pathset\n",
      "2017-04-26 16:39:17 [INFO/MainProcess]   Step 4. Choose a path for each passenger from their pathset\n",
      "2017-04-26 16:39:17 [INFO/MainProcess]           Rejecting 0 previously chosen paths for huge costs\n",
      "2017-04-26 16:39:17 [INFO/MainProcess]           Have      1 total passenger-trips, with      1 chosen paths,      0 fully rejected and      0 needing a choice\n",
      "2017-04-26 16:39:17 [INFO/MainProcess]   Step 5. Put passenger paths on transit vehicles to get vehicle boards/alights/load and assess capacity constraints\n",
      "2017-04-26 16:39:17 [INFO/MainProcess]   Step 5.1 Put passengers on transit vehicles.\n",
      "2017-04-26 16:39:17 [INFO/MainProcess]   Step 6. Update dwell and travel times for transit vehicles\n",
      "2017-04-26 16:39:17 [INFO/MainProcess]   No more path choices to make => Ending simulation loop\n",
      "2017-04-26 16:39:17 [INFO/MainProcess] Wrote pathset_paths_df dataframe to /Users/elizabeth/Documents/urbanlabs/MTC/SHRP2/tutorial/tta/output/test_simplenet_noOverlap/pathset_paths.csv\n",
      "2017-04-26 16:39:17 [INFO/MainProcess] Wrote pathset_links_df dataframe to /Users/elizabeth/Documents/urbanlabs/MTC/SHRP2/tutorial/tta/output/test_simplenet_noOverlap/pathset_links.csv\n",
      "2017-04-26 16:39:17 [INFO/MainProcess] Wrote chosen_links_df dataframe to /Users/elizabeth/Documents/urbanlabs/MTC/SHRP2/tutorial/tta/output/test_simplenet_noOverlap/chosenpaths_links.csv\n",
      "2017-04-26 16:39:17 [INFO/MainProcess] Wrote chosen_paths_df dataframe to /Users/elizabeth/Documents/urbanlabs/MTC/SHRP2/tutorial/tta/output/test_simplenet_noOverlap/chosenpaths_paths.csv\n",
      "2017-04-26 16:39:17 [INFO/MainProcess] Appended veh_trips_df dataframe to /Users/elizabeth/Documents/urbanlabs/MTC/SHRP2/tutorial/tta/output/test_simplenet_noOverlap/veh_trips.csv\n",
      "2017-04-26 16:39:17 [INFO/MainProcess] \n",
      "2017-04-26 16:39:17 [INFO/MainProcess]   Length of trip list:                1\n",
      "2017-04-26 16:39:17 [INFO/MainProcess]   Number of pathsets found:           1\n",
      "2017-04-26 16:39:17 [INFO/MainProcess]   ARRIVED PASSENGERS:                 1\n",
      "2017-04-26 16:39:17 [INFO/MainProcess]   MISSED PASSENGERS:                  0\n",
      "2017-04-26 16:39:17 [INFO/MainProcess]   CAPACITY GAP:                 0.00000\n",
      "2017-04-26 16:39:17 [INFO/MainProcess] ***************************** ITERATION 1 PATHFINDING ITERATION 2 **************************************\n",
      "2017-04-26 16:39:17 [INFO/MainProcess] **************************** GENERATING PATHS **********************************************************\n",
      "2017-04-26 16:39:17 [INFO/MainProcess] Finding paths for trips for those that haven't arrived yet\n",
      "2017-04-26 16:39:17 [INFO/MainProcess] Finding pathsets for 0 trips\n",
      "2017-04-26 16:39:17 [INFO/MainProcess] No rows of pathset_paths_df dataframe to write to /Users/elizabeth/Documents/urbanlabs/MTC/SHRP2/tutorial/tta/output/test_simplenet_noOverlap/pathsfound_paths.csv\n",
      "2017-04-26 16:39:17 [INFO/MainProcess] No rows of pathset_links_df dataframe to write to /Users/elizabeth/Documents/urbanlabs/MTC/SHRP2/tutorial/tta/output/test_simplenet_noOverlap/pathsfound_links.csv\n",
      "2017-04-26 16:39:17 [INFO/MainProcess] No rows of performance_df dataframe to write to /Users/elizabeth/Documents/urbanlabs/MTC/SHRP2/tutorial/tta/output/test_simplenet_noOverlap/ft_output_performance.csv\n",
      "2017-04-26 16:39:17 [INFO/MainProcess] Appended veh_trips_df dataframe to /Users/elizabeth/Documents/urbanlabs/MTC/SHRP2/tutorial/tta/output/test_simplenet_noOverlap/veh_trips.csv\n",
      "2017-04-26 16:39:17 [INFO/MainProcess] \n",
      "2017-04-26 16:39:17 [INFO/MainProcess]   Length of trip list:                1\n",
      "2017-04-26 16:39:17 [INFO/MainProcess]   Number of pathsets found:           1\n",
      "2017-04-26 16:39:17 [INFO/MainProcess]   ARRIVED PASSENGERS:                 1\n",
      "2017-04-26 16:39:17 [INFO/MainProcess]   MISSED PASSENGERS:                  0\n",
      "2017-04-26 16:39:17 [INFO/MainProcess]   CAPACITY GAP:                 0.00000\n"
     ]
    }
   ],
   "source": [
    "Run.run_fasttrips(input_net_dir = INPUT_NETWORKS,\n",
    "                  input_demand_dir = INPUT_DEMAND,\n",
    "                  output_dir = OUTPUT_DIR,\n",
    "                  output_folder = OUTPUT_FOLDER,\n",
    "                  pathfinding_type = PATHFINDING_TYPE,\n",
    "                  iters = ITERATIONS,\n",
    "                  overlap_variable=OVERLAP,\n",
    "                  dispersion=0.5,)"
   ]
  },
  {
   "cell_type": "markdown",
   "metadata": {},
   "source": [
    "# Examine Results"
   ]
  },
  {
   "cell_type": "code",
   "execution_count": 42,
   "metadata": {
    "collapsed": false
   },
   "outputs": [
    {
     "data": {
      "text/html": [
       "\n",
       "    <div class=\"bk-root\">\n",
       "        <a href=\"http://bokeh.pydata.org\" target=\"_blank\" class=\"bk-logo bk-logo-small bk-logo-notebook\"></a>\n",
       "        <span id=\"10990489-41fb-4542-b7e0-059c4b675ff6\">Loading BokehJS ...</span>\n",
       "    </div>"
      ]
     },
     "metadata": {},
     "output_type": "display_data"
    },
    {
     "data": {
      "application/javascript": [
       "\n",
       "(function(global) {\n",
       "  function now() {\n",
       "    return new Date();\n",
       "  }\n",
       "\n",
       "  var force = true;\n",
       "\n",
       "  if (typeof (window._bokeh_onload_callbacks) === \"undefined\" || force === true) {\n",
       "    window._bokeh_onload_callbacks = [];\n",
       "    window._bokeh_is_loading = undefined;\n",
       "  }\n",
       "\n",
       "\n",
       "  \n",
       "  if (typeof (window._bokeh_timeout) === \"undefined\" || force === true) {\n",
       "    window._bokeh_timeout = Date.now() + 5000;\n",
       "    window._bokeh_failed_load = false;\n",
       "  }\n",
       "\n",
       "  var NB_LOAD_WARNING = {'data': {'text/html':\n",
       "     \"<div style='background-color: #fdd'>\\n\"+\n",
       "     \"<p>\\n\"+\n",
       "     \"BokehJS does not appear to have successfully loaded. If loading BokehJS from CDN, this \\n\"+\n",
       "     \"may be due to a slow or bad network connection. Possible fixes:\\n\"+\n",
       "     \"</p>\\n\"+\n",
       "     \"<ul>\\n\"+\n",
       "     \"<li>re-rerun `output_notebook()` to attempt to load from CDN again, or</li>\\n\"+\n",
       "     \"<li>use INLINE resources instead, as so:</li>\\n\"+\n",
       "     \"</ul>\\n\"+\n",
       "     \"<code>\\n\"+\n",
       "     \"from bokeh.resources import INLINE\\n\"+\n",
       "     \"output_notebook(resources=INLINE)\\n\"+\n",
       "     \"</code>\\n\"+\n",
       "     \"</div>\"}};\n",
       "\n",
       "  function display_loaded() {\n",
       "    if (window.Bokeh !== undefined) {\n",
       "      document.getElementById(\"10990489-41fb-4542-b7e0-059c4b675ff6\").textContent = \"BokehJS successfully loaded.\";\n",
       "    } else if (Date.now() < window._bokeh_timeout) {\n",
       "      setTimeout(display_loaded, 100)\n",
       "    }\n",
       "  }\n",
       "\n",
       "  function run_callbacks() {\n",
       "    window._bokeh_onload_callbacks.forEach(function(callback) { callback() });\n",
       "    delete window._bokeh_onload_callbacks\n",
       "    console.info(\"Bokeh: all callbacks have finished\");\n",
       "  }\n",
       "\n",
       "  function load_libs(js_urls, callback) {\n",
       "    window._bokeh_onload_callbacks.push(callback);\n",
       "    if (window._bokeh_is_loading > 0) {\n",
       "      console.log(\"Bokeh: BokehJS is being loaded, scheduling callback at\", now());\n",
       "      return null;\n",
       "    }\n",
       "    if (js_urls == null || js_urls.length === 0) {\n",
       "      run_callbacks();\n",
       "      return null;\n",
       "    }\n",
       "    console.log(\"Bokeh: BokehJS not loaded, scheduling load and callback at\", now());\n",
       "    window._bokeh_is_loading = js_urls.length;\n",
       "    for (var i = 0; i < js_urls.length; i++) {\n",
       "      var url = js_urls[i];\n",
       "      var s = document.createElement('script');\n",
       "      s.src = url;\n",
       "      s.async = false;\n",
       "      s.onreadystatechange = s.onload = function() {\n",
       "        window._bokeh_is_loading--;\n",
       "        if (window._bokeh_is_loading === 0) {\n",
       "          console.log(\"Bokeh: all BokehJS libraries loaded\");\n",
       "          run_callbacks()\n",
       "        }\n",
       "      };\n",
       "      s.onerror = function() {\n",
       "        console.warn(\"failed to load library \" + url);\n",
       "      };\n",
       "      console.log(\"Bokeh: injecting script tag for BokehJS library: \", url);\n",
       "      document.getElementsByTagName(\"head\")[0].appendChild(s);\n",
       "    }\n",
       "  };var element = document.getElementById(\"10990489-41fb-4542-b7e0-059c4b675ff6\");\n",
       "  if (element == null) {\n",
       "    console.log(\"Bokeh: ERROR: autoload.js configured with elementid '10990489-41fb-4542-b7e0-059c4b675ff6' but no matching script tag was found. \")\n",
       "    return false;\n",
       "  }\n",
       "\n",
       "  var js_urls = [\"https://cdn.pydata.org/bokeh/release/bokeh-0.12.4.min.js\", \"https://cdn.pydata.org/bokeh/release/bokeh-widgets-0.12.4.min.js\"];\n",
       "\n",
       "  var inline_js = [\n",
       "    function(Bokeh) {\n",
       "      Bokeh.set_log_level(\"info\");\n",
       "    },\n",
       "    \n",
       "    function(Bokeh) {\n",
       "      \n",
       "      document.getElementById(\"10990489-41fb-4542-b7e0-059c4b675ff6\").textContent = \"BokehJS is loading...\";\n",
       "    },\n",
       "    function(Bokeh) {\n",
       "      console.log(\"Bokeh: injecting CSS: https://cdn.pydata.org/bokeh/release/bokeh-0.12.4.min.css\");\n",
       "      Bokeh.embed.inject_css(\"https://cdn.pydata.org/bokeh/release/bokeh-0.12.4.min.css\");\n",
       "      console.log(\"Bokeh: injecting CSS: https://cdn.pydata.org/bokeh/release/bokeh-widgets-0.12.4.min.css\");\n",
       "      Bokeh.embed.inject_css(\"https://cdn.pydata.org/bokeh/release/bokeh-widgets-0.12.4.min.css\");\n",
       "    }\n",
       "  ];\n",
       "\n",
       "  function run_inline_js() {\n",
       "    \n",
       "    if ((window.Bokeh !== undefined) || (force === true)) {\n",
       "      for (var i = 0; i < inline_js.length; i++) {\n",
       "        inline_js[i](window.Bokeh);\n",
       "      }if (force === true) {\n",
       "        display_loaded();\n",
       "      }} else if (Date.now() < window._bokeh_timeout) {\n",
       "      setTimeout(run_inline_js, 100);\n",
       "    } else if (!window._bokeh_failed_load) {\n",
       "      console.log(\"Bokeh: BokehJS failed to load within specified timeout.\");\n",
       "      window._bokeh_failed_load = true;\n",
       "    } else if (force !== true) {\n",
       "      var cell = $(document.getElementById(\"10990489-41fb-4542-b7e0-059c4b675ff6\")).parents('.cell').data().cell;\n",
       "      cell.output_area.append_execute_result(NB_LOAD_WARNING)\n",
       "    }\n",
       "\n",
       "  }\n",
       "\n",
       "  if (window._bokeh_is_loading === 0) {\n",
       "    console.log(\"Bokeh: BokehJS loaded, going straight to plotting\");\n",
       "    run_inline_js();\n",
       "  } else {\n",
       "    load_libs(js_urls, function() {\n",
       "      console.log(\"Bokeh: BokehJS plotting callback run at\", now());\n",
       "      run_inline_js();\n",
       "    });\n",
       "  }\n",
       "}(this));"
      ]
     },
     "metadata": {},
     "output_type": "display_data"
    }
   ],
   "source": [
    "from bokeh.charts import Bar, Histogram, TimeSeries, output_file, Line\n",
    "from bokeh.models import ColumnDataSource\n",
    "from bokeh.layouts import row, column, gridplot\n",
    "from bokeh.io import push_notebook, show, output_notebook\n",
    "from bokeh.plotting import figure\n",
    "output_notebook()"
   ]
  },
  {
   "cell_type": "markdown",
   "metadata": {},
   "source": [
    "## Vehicle/Route Level"
   ]
  },
  {
   "cell_type": "code",
   "execution_count": 9,
   "metadata": {
    "collapsed": true
   },
   "outputs": [],
   "source": [
    "full_output_directory=os.path.join(OUTPUT_DIR,OUTPUT_FOLDER)\n",
    "vehicles_df = pd.read_csv(os.path.join(full_output_directory,\"veh_trips.csv\"), \n",
    "                                       sep=\",\", \n",
    "                                       parse_dates=['arrival_time', 'departure_time'],\n",
    "                                       date_parser=lambda x: datetime.datetime.strptime(x, '%H:%M:%S') )\n",
    "#vehicles_df.head()"
   ]
  },
  {
   "cell_type": "code",
   "execution_count": 10,
   "metadata": {
    "collapsed": false
   },
   "outputs": [],
   "source": [
    "max_iteration     = vehicles_df['iteration'].max()\n",
    "max_pf_iteration  = vehicles_df['pathfinding_iteration'].max()\n",
    "\n",
    "final_vehicles_df = vehicles_df[(vehicles_df['iteration'] == max_iteration) & (vehicles_df['pathfinding_iteration']==max_pf_iteration)]"
   ]
  },
  {
   "cell_type": "code",
   "execution_count": 11,
   "metadata": {
    "collapsed": false
   },
   "outputs": [
    {
     "data": {
      "text/html": [
       "\n",
       "\n",
       "    <div class=\"bk-root\">\n",
       "        <div class=\"bk-plotdiv\" id=\"1428b439-fccf-402e-8256-477100b50ede\"></div>\n",
       "    </div>\n",
       "<script type=\"text/javascript\">\n",
       "  \n",
       "  (function(global) {\n",
       "    function now() {\n",
       "      return new Date();\n",
       "    }\n",
       "  \n",
       "    var force = false;\n",
       "  \n",
       "    if (typeof (window._bokeh_onload_callbacks) === \"undefined\" || force === true) {\n",
       "      window._bokeh_onload_callbacks = [];\n",
       "      window._bokeh_is_loading = undefined;\n",
       "    }\n",
       "  \n",
       "  \n",
       "    \n",
       "    if (typeof (window._bokeh_timeout) === \"undefined\" || force === true) {\n",
       "      window._bokeh_timeout = Date.now() + 0;\n",
       "      window._bokeh_failed_load = false;\n",
       "    }\n",
       "  \n",
       "    var NB_LOAD_WARNING = {'data': {'text/html':\n",
       "       \"<div style='background-color: #fdd'>\\n\"+\n",
       "       \"<p>\\n\"+\n",
       "       \"BokehJS does not appear to have successfully loaded. If loading BokehJS from CDN, this \\n\"+\n",
       "       \"may be due to a slow or bad network connection. Possible fixes:\\n\"+\n",
       "       \"</p>\\n\"+\n",
       "       \"<ul>\\n\"+\n",
       "       \"<li>re-rerun `output_notebook()` to attempt to load from CDN again, or</li>\\n\"+\n",
       "       \"<li>use INLINE resources instead, as so:</li>\\n\"+\n",
       "       \"</ul>\\n\"+\n",
       "       \"<code>\\n\"+\n",
       "       \"from bokeh.resources import INLINE\\n\"+\n",
       "       \"output_notebook(resources=INLINE)\\n\"+\n",
       "       \"</code>\\n\"+\n",
       "       \"</div>\"}};\n",
       "  \n",
       "    function display_loaded() {\n",
       "      if (window.Bokeh !== undefined) {\n",
       "        document.getElementById(\"1428b439-fccf-402e-8256-477100b50ede\").textContent = \"BokehJS successfully loaded.\";\n",
       "      } else if (Date.now() < window._bokeh_timeout) {\n",
       "        setTimeout(display_loaded, 100)\n",
       "      }\n",
       "    }if ((window.Jupyter !== undefined) && Jupyter.notebook.kernel) {\n",
       "      comm_manager = Jupyter.notebook.kernel.comm_manager\n",
       "      comm_manager.register_target(\"e6c20e1b-34c5-47e4-8801-fc485c298294\", function () {});\n",
       "    }\n",
       "  \n",
       "    function run_callbacks() {\n",
       "      window._bokeh_onload_callbacks.forEach(function(callback) { callback() });\n",
       "      delete window._bokeh_onload_callbacks\n",
       "      console.info(\"Bokeh: all callbacks have finished\");\n",
       "    }\n",
       "  \n",
       "    function load_libs(js_urls, callback) {\n",
       "      window._bokeh_onload_callbacks.push(callback);\n",
       "      if (window._bokeh_is_loading > 0) {\n",
       "        console.log(\"Bokeh: BokehJS is being loaded, scheduling callback at\", now());\n",
       "        return null;\n",
       "      }\n",
       "      if (js_urls == null || js_urls.length === 0) {\n",
       "        run_callbacks();\n",
       "        return null;\n",
       "      }\n",
       "      console.log(\"Bokeh: BokehJS not loaded, scheduling load and callback at\", now());\n",
       "      window._bokeh_is_loading = js_urls.length;\n",
       "      for (var i = 0; i < js_urls.length; i++) {\n",
       "        var url = js_urls[i];\n",
       "        var s = document.createElement('script');\n",
       "        s.src = url;\n",
       "        s.async = false;\n",
       "        s.onreadystatechange = s.onload = function() {\n",
       "          window._bokeh_is_loading--;\n",
       "          if (window._bokeh_is_loading === 0) {\n",
       "            console.log(\"Bokeh: all BokehJS libraries loaded\");\n",
       "            run_callbacks()\n",
       "          }\n",
       "        };\n",
       "        s.onerror = function() {\n",
       "          console.warn(\"failed to load library \" + url);\n",
       "        };\n",
       "        console.log(\"Bokeh: injecting script tag for BokehJS library: \", url);\n",
       "        document.getElementsByTagName(\"head\")[0].appendChild(s);\n",
       "      }\n",
       "    };var element = document.getElementById(\"1428b439-fccf-402e-8256-477100b50ede\");\n",
       "    if (element == null) {\n",
       "      console.log(\"Bokeh: ERROR: autoload.js configured with elementid '1428b439-fccf-402e-8256-477100b50ede' but no matching script tag was found. \")\n",
       "      return false;\n",
       "    }\n",
       "  \n",
       "    var js_urls = [];\n",
       "  \n",
       "    var inline_js = [\n",
       "      function(Bokeh) {\n",
       "        (function() {\n",
       "          var fn = function() {\n",
       "            var docs_json = {\"0056bf7b-90e1-4b90-a3ce-ad186502516b\":{\"roots\":{\"references\":[{\"attributes\":{\"dimension\":1,\"plot\":{\"id\":\"f2faa29c-d63d-4225-8e20-586a70cdb7c1\",\"subtype\":\"Chart\",\"type\":\"Plot\"},\"ticker\":{\"id\":\"468d8773-d7b2-4ef9-93d1-a71069780f8d\",\"type\":\"BasicTicker\"}},\"id\":\"ba4b3e50-030f-4051-b101-9d5da4515741\",\"type\":\"Grid\"},{\"attributes\":{\"fill_alpha\":{\"field\":\"fill_alpha\"},\"fill_color\":{\"field\":\"color\"},\"height\":{\"field\":\"height\",\"units\":\"data\"},\"line_color\":{\"field\":\"line_color\"},\"width\":{\"field\":\"width\",\"units\":\"data\"},\"x\":{\"field\":\"x\"},\"y\":{\"field\":\"y\"}},\"id\":\"c74a1031-84d5-471f-a226-b1bde665dd32\",\"type\":\"Rect\"},{\"attributes\":{\"overlay\":{\"id\":\"6d7c6202-dffb-4c06-8f73-b0db9e888ef3\",\"type\":\"BoxAnnotation\"},\"plot\":{\"id\":\"f2faa29c-d63d-4225-8e20-586a70cdb7c1\",\"subtype\":\"Chart\",\"type\":\"Plot\"}},\"id\":\"473c1a14-88cb-46f3-add1-a3838ca4f5a6\",\"type\":\"BoxZoomTool\"},{\"attributes\":{\"callback\":null,\"column_names\":[\"line_color\",\"line_alpha\",\"color\",\"fill_alpha\",\"height\",\"width\",\"y\",\"x\",\"label\"],\"data\":{\"chart_index\":[{\"route_id\":\"Green\",\"trip_id\":\"G3\"}],\"color\":[\"#c33ff3\"],\"fill_alpha\":[0.8],\"height\":[1.0],\"label\":[{\"route_id\":\"Green\",\"trip_id\":\"G3\"}],\"line_alpha\":[1.0],\"line_color\":[\"white\"],\"route_id\":[\"Green\"],\"trip_id\":[\"G3\"],\"width\":[0.8],\"x\":[\"Green\"],\"y\":[0.5]}},\"id\":\"3943c17b-4909-41f0-b942-4a90a3d24876\",\"type\":\"ColumnDataSource\"},{\"attributes\":{},\"id\":\"46ca9b5f-b0a5-4333-8fcc-de8b1771734e\",\"type\":\"ToolEvents\"},{\"attributes\":{\"fill_alpha\":{\"field\":\"fill_alpha\"},\"fill_color\":{\"field\":\"color\"},\"height\":{\"field\":\"height\",\"units\":\"data\"},\"line_color\":{\"field\":\"line_color\"},\"width\":{\"field\":\"width\",\"units\":\"data\"},\"x\":{\"field\":\"x\"},\"y\":{\"field\":\"y\"}},\"id\":\"d5d1dcce-4180-4e3b-9f7f-c98dece70b3f\",\"type\":\"Rect\"},{\"attributes\":{\"fill_alpha\":{\"field\":\"fill_alpha\"},\"fill_color\":{\"field\":\"color\"},\"height\":{\"field\":\"height\",\"units\":\"data\"},\"line_color\":{\"field\":\"line_color\"},\"width\":{\"field\":\"width\",\"units\":\"data\"},\"x\":{\"field\":\"x\"},\"y\":{\"field\":\"y\"}},\"id\":\"d22a48d5-4734-4cac-9bb1-12bff0a869e2\",\"type\":\"Rect\"},{\"attributes\":{\"active_drag\":\"auto\",\"active_scroll\":\"auto\",\"active_tap\":\"auto\",\"tools\":[{\"id\":\"f92122eb-10ff-40a9-bb7f-2466187c1652\",\"type\":\"PanTool\"},{\"id\":\"a1fea7e9-a6b5-4629-bed6-36c2b7de3352\",\"type\":\"WheelZoomTool\"},{\"id\":\"473c1a14-88cb-46f3-add1-a3838ca4f5a6\",\"type\":\"BoxZoomTool\"},{\"id\":\"f3fd311a-54f6-490a-8763-cbbf4b82e5ac\",\"type\":\"SaveTool\"},{\"id\":\"a17e9b08-63b2-4b41-bac0-047c30475488\",\"type\":\"ResetTool\"},{\"id\":\"4a46aa1c-2891-43eb-9a3d-0b7083902e85\",\"type\":\"HelpTool\"},{\"id\":\"5b8714f9-cfd8-4801-b761-e99e353ad571\",\"type\":\"HoverTool\"}]},\"id\":\"85decf53-e9f5-4be8-9af4-436cccce00b1\",\"type\":\"Toolbar\"},{\"attributes\":{\"callback\":null,\"column_names\":[\"line_color\",\"line_alpha\",\"color\",\"fill_alpha\",\"height\",\"width\",\"y\",\"x\",\"label\"],\"data\":{\"chart_index\":[{\"route_id\":\"Green\",\"trip_id\":\"G4\"}],\"color\":[\"#f22c40\"],\"fill_alpha\":[0.8],\"height\":[0.0],\"label\":[{\"route_id\":\"Green\",\"trip_id\":\"G4\"}],\"line_alpha\":[1.0],\"line_color\":[\"white\"],\"route_id\":[\"Green\"],\"trip_id\":[\"G4\"],\"width\":[0.8],\"x\":[\"Green\"],\"y\":[0.0]}},\"id\":\"4a418138-1880-4921-beb5-549f00639c58\",\"type\":\"ColumnDataSource\"},{\"attributes\":{\"plot\":{\"id\":\"f2faa29c-d63d-4225-8e20-586a70cdb7c1\",\"subtype\":\"Chart\",\"type\":\"Plot\"}},\"id\":\"a17e9b08-63b2-4b41-bac0-047c30475488\",\"type\":\"ResetTool\"},{\"attributes\":{\"data_source\":{\"id\":\"c05bec54-2a56-44d0-8c61-148f5e9a0484\",\"type\":\"ColumnDataSource\"},\"glyph\":{\"id\":\"18e21cc0-cf82-4500-bdbe-1f526db16e44\",\"type\":\"Rect\"},\"hover_glyph\":null,\"nonselection_glyph\":null,\"selection_glyph\":null},\"id\":\"a8fe94e5-b027-4c5d-8142-8e1f0b990cc8\",\"type\":\"GlyphRenderer\"},{\"attributes\":{},\"id\":\"3bd72fa2-d749-4907-ad8c-16811a757c80\",\"type\":\"CategoricalTickFormatter\"},{\"attributes\":{\"callback\":null,\"column_names\":[\"line_color\",\"line_alpha\",\"color\",\"fill_alpha\",\"height\",\"width\",\"y\",\"x\",\"label\"],\"data\":{\"chart_index\":[{\"route_id\":\"Green\",\"trip_id\":\"G1\"}],\"color\":[\"#df5320\"],\"fill_alpha\":[0.8],\"height\":[0.0],\"label\":[{\"route_id\":\"Green\",\"trip_id\":\"G1\"}],\"line_alpha\":[1.0],\"line_color\":[\"white\"],\"route_id\":[\"Green\"],\"trip_id\":[\"G1\"],\"width\":[0.8],\"x\":[\"Green\"],\"y\":[1.0]}},\"id\":\"c05bec54-2a56-44d0-8c61-148f5e9a0484\",\"type\":\"ColumnDataSource\"},{\"attributes\":{\"callback\":null,\"end\":1.05},\"id\":\"147a0085-81ac-45a6-b4d7-fd5ea0a92400\",\"type\":\"Range1d\"},{\"attributes\":{\"below\":[{\"id\":\"05e93438-0216-42d9-aa29-0149482bb1ea\",\"type\":\"CategoricalAxis\"}],\"css_classes\":null,\"left\":[{\"id\":\"e8493887-a62f-45ad-ac7f-12455e04fc0f\",\"type\":\"LinearAxis\"}],\"renderers\":[{\"id\":\"6d7c6202-dffb-4c06-8f73-b0db9e888ef3\",\"type\":\"BoxAnnotation\"},{\"id\":\"5aa9c780-d687-4703-8ddf-1d77c6540b9a\",\"type\":\"GlyphRenderer\"},{\"id\":\"5a94ed13-9a8c-446b-997c-1db9b823f93e\",\"type\":\"GlyphRenderer\"},{\"id\":\"b1166c72-472e-4173-a360-c2c5086aedd6\",\"type\":\"GlyphRenderer\"},{\"id\":\"a8fe94e5-b027-4c5d-8142-8e1f0b990cc8\",\"type\":\"GlyphRenderer\"},{\"id\":\"329cfe36-c361-4d5f-a89d-60aa2f04bfba\",\"type\":\"GlyphRenderer\"},{\"id\":\"28cf9e90-983e-49ae-90ff-b125ac7b4502\",\"type\":\"GlyphRenderer\"},{\"id\":\"5887a79a-e4ad-4baf-8b6e-2aec33258340\",\"type\":\"GlyphRenderer\"},{\"id\":\"a61ca0d8-9e5f-4993-b02a-a56ecdf675d6\",\"type\":\"GlyphRenderer\"},{\"id\":\"cf077b29-a09f-4ff7-a7ee-b424be62392b\",\"type\":\"GlyphRenderer\"},{\"id\":\"05e93438-0216-42d9-aa29-0149482bb1ea\",\"type\":\"CategoricalAxis\"},{\"id\":\"e8493887-a62f-45ad-ac7f-12455e04fc0f\",\"type\":\"LinearAxis\"},{\"id\":\"ba4b3e50-030f-4051-b101-9d5da4515741\",\"type\":\"Grid\"}],\"title\":{\"id\":\"f730bd52-dd8b-4760-9794-670a8338dbb6\",\"type\":\"Title\"},\"tool_events\":{\"id\":\"46ca9b5f-b0a5-4333-8fcc-de8b1771734e\",\"type\":\"ToolEvents\"},\"toolbar\":{\"id\":\"85decf53-e9f5-4be8-9af4-436cccce00b1\",\"type\":\"Toolbar\"},\"x_mapper_type\":\"auto\",\"x_range\":{\"id\":\"a1843564-cfab-4f5b-b9f5-a915f5205bdc\",\"type\":\"FactorRange\"},\"y_mapper_type\":\"auto\",\"y_range\":{\"id\":\"147a0085-81ac-45a6-b4d7-fd5ea0a92400\",\"type\":\"Range1d\"}},\"id\":\"f2faa29c-d63d-4225-8e20-586a70cdb7c1\",\"subtype\":\"Chart\",\"type\":\"Plot\"},{\"attributes\":{},\"id\":\"468d8773-d7b2-4ef9-93d1-a71069780f8d\",\"type\":\"BasicTicker\"},{\"attributes\":{\"data_source\":{\"id\":\"3943c17b-4909-41f0-b942-4a90a3d24876\",\"type\":\"ColumnDataSource\"},\"glyph\":{\"id\":\"c74a1031-84d5-471f-a226-b1bde665dd32\",\"type\":\"Rect\"},\"hover_glyph\":null,\"nonselection_glyph\":null,\"selection_glyph\":null},\"id\":\"5a94ed13-9a8c-446b-997c-1db9b823f93e\",\"type\":\"GlyphRenderer\"},{\"attributes\":{\"callback\":null,\"factors\":[\"Blue\",\"Green\",\"Red\"]},\"id\":\"a1843564-cfab-4f5b-b9f5-a915f5205bdc\",\"type\":\"FactorRange\"},{\"attributes\":{\"data_source\":{\"id\":\"4b26bf53-9b6e-4e33-bc29-099cc871f4d0\",\"type\":\"ColumnDataSource\"},\"glyph\":{\"id\":\"d22a48d5-4734-4cac-9bb1-12bff0a869e2\",\"type\":\"Rect\"},\"hover_glyph\":null,\"nonselection_glyph\":null,\"selection_glyph\":null},\"id\":\"5887a79a-e4ad-4baf-8b6e-2aec33258340\",\"type\":\"GlyphRenderer\"},{\"attributes\":{\"plot\":{\"id\":\"f2faa29c-d63d-4225-8e20-586a70cdb7c1\",\"subtype\":\"Chart\",\"type\":\"Plot\"}},\"id\":\"a1fea7e9-a6b5-4629-bed6-36c2b7de3352\",\"type\":\"WheelZoomTool\"},{\"attributes\":{\"callback\":null,\"column_names\":[\"line_color\",\"line_alpha\",\"color\",\"fill_alpha\",\"height\",\"width\",\"y\",\"x\",\"label\"],\"data\":{\"chart_index\":[{\"route_id\":\"Blue\",\"trip_id\":\"B2\"}],\"color\":[\"#5ab738\"],\"fill_alpha\":[0.8],\"height\":[1.0],\"label\":[{\"route_id\":\"Blue\",\"trip_id\":\"B2\"}],\"line_alpha\":[1.0],\"line_color\":[\"white\"],\"route_id\":[\"Blue\"],\"trip_id\":[\"B2\"],\"width\":[0.8],\"x\":[\"Blue\"],\"y\":[0.5]}},\"id\":\"4b26bf53-9b6e-4e33-bc29-099cc871f4d0\",\"type\":\"ColumnDataSource\"},{\"attributes\":{\"plot\":{\"id\":\"f2faa29c-d63d-4225-8e20-586a70cdb7c1\",\"subtype\":\"Chart\",\"type\":\"Plot\"}},\"id\":\"f92122eb-10ff-40a9-bb7f-2466187c1652\",\"type\":\"PanTool\"},{\"attributes\":{},\"id\":\"3a84a816-4457-4c1c-9cbb-648cc8a3a9cb\",\"type\":\"BasicTickFormatter\"},{\"attributes\":{\"callback\":null,\"column_names\":[\"line_color\",\"line_alpha\",\"color\",\"fill_alpha\",\"height\",\"width\",\"y\",\"x\",\"label\"],\"data\":{\"chart_index\":[{\"route_id\":\"Blue\",\"trip_id\":\"B1\"}],\"color\":[\"#f22c40\"],\"fill_alpha\":[0.8],\"height\":[0.0],\"label\":[{\"route_id\":\"Blue\",\"trip_id\":\"B1\"}],\"line_alpha\":[1.0],\"line_color\":[\"white\"],\"route_id\":[\"Blue\"],\"trip_id\":[\"B1\"],\"width\":[0.8],\"x\":[\"Blue\"],\"y\":[0.0]}},\"id\":\"32e5966d-e5cc-48b1-91f9-4155dc027b8c\",\"type\":\"ColumnDataSource\"},{\"attributes\":{\"plot\":{\"id\":\"f2faa29c-d63d-4225-8e20-586a70cdb7c1\",\"subtype\":\"Chart\",\"type\":\"Plot\"}},\"id\":\"f3fd311a-54f6-490a-8763-cbbf4b82e5ac\",\"type\":\"SaveTool\"},{\"attributes\":{\"fill_alpha\":{\"field\":\"fill_alpha\"},\"fill_color\":{\"field\":\"color\"},\"height\":{\"field\":\"height\",\"units\":\"data\"},\"line_color\":{\"field\":\"line_color\"},\"width\":{\"field\":\"width\",\"units\":\"data\"},\"x\":{\"field\":\"x\"},\"y\":{\"field\":\"y\"}},\"id\":\"70162052-96d8-4584-9dd5-9d17ccc3f271\",\"type\":\"Rect\"},{\"attributes\":{\"callback\":null,\"column_names\":[\"line_color\",\"line_alpha\",\"color\",\"fill_alpha\",\"height\",\"width\",\"y\",\"x\",\"label\"],\"data\":{\"chart_index\":[{\"route_id\":\"Green\",\"trip_id\":\"G2\"}],\"color\":[\"#00ad9c\"],\"fill_alpha\":[0.8],\"height\":[0.0],\"label\":[{\"route_id\":\"Green\",\"trip_id\":\"G2\"}],\"line_alpha\":[1.0],\"line_color\":[\"white\"],\"route_id\":[\"Green\"],\"trip_id\":[\"G2\"],\"width\":[0.8],\"x\":[\"Green\"],\"y\":[1.0]}},\"id\":\"c122148d-3342-482d-84d5-6fa7b0c24b6d\",\"type\":\"ColumnDataSource\"},{\"attributes\":{\"data_source\":{\"id\":\"1c9f2ba1-1f94-4e19-9169-3d347afab9b1\",\"type\":\"ColumnDataSource\"},\"glyph\":{\"id\":\"06787f7c-1ec7-407a-a0d2-30accfd4c18d\",\"type\":\"Rect\"},\"hover_glyph\":null,\"nonselection_glyph\":null,\"selection_glyph\":null},\"id\":\"329cfe36-c361-4d5f-a89d-60aa2f04bfba\",\"type\":\"GlyphRenderer\"},{\"attributes\":{\"axis_label\":\"Route ID\",\"formatter\":{\"id\":\"3bd72fa2-d749-4907-ad8c-16811a757c80\",\"type\":\"CategoricalTickFormatter\"},\"major_label_orientation\":0.7853981633974483,\"plot\":{\"id\":\"f2faa29c-d63d-4225-8e20-586a70cdb7c1\",\"subtype\":\"Chart\",\"type\":\"Plot\"},\"ticker\":{\"id\":\"790f80d0-ef85-43d3-a928-c1496ce443ae\",\"type\":\"CategoricalTicker\"}},\"id\":\"05e93438-0216-42d9-aa29-0149482bb1ea\",\"type\":\"CategoricalAxis\"},{\"attributes\":{\"fill_alpha\":{\"field\":\"fill_alpha\"},\"fill_color\":{\"field\":\"color\"},\"height\":{\"field\":\"height\",\"units\":\"data\"},\"line_color\":{\"field\":\"line_color\"},\"width\":{\"field\":\"width\",\"units\":\"data\"},\"x\":{\"field\":\"x\"},\"y\":{\"field\":\"y\"}},\"id\":\"8489e958-3e72-4212-aba3-fb02785f073c\",\"type\":\"Rect\"},{\"attributes\":{\"data_source\":{\"id\":\"c122148d-3342-482d-84d5-6fa7b0c24b6d\",\"type\":\"ColumnDataSource\"},\"glyph\":{\"id\":\"d5d1dcce-4180-4e3b-9f7f-c98dece70b3f\",\"type\":\"Rect\"},\"hover_glyph\":null,\"nonselection_glyph\":null,\"selection_glyph\":null},\"id\":\"b1166c72-472e-4173-a360-c2c5086aedd6\",\"type\":\"GlyphRenderer\"},{\"attributes\":{},\"id\":\"790f80d0-ef85-43d3-a928-c1496ce443ae\",\"type\":\"CategoricalTicker\"},{\"attributes\":{\"data_source\":{\"id\":\"48cdf45e-ec1f-416b-a340-5d738c9e7a7a\",\"type\":\"ColumnDataSource\"},\"glyph\":{\"id\":\"5bbd7dd8-018b-48b0-80ef-955da17efd0f\",\"type\":\"Rect\"},\"hover_glyph\":null,\"nonselection_glyph\":null,\"selection_glyph\":null},\"id\":\"a61ca0d8-9e5f-4993-b02a-a56ecdf675d6\",\"type\":\"GlyphRenderer\"},{\"attributes\":{\"callback\":null,\"column_names\":[\"line_color\",\"line_alpha\",\"color\",\"fill_alpha\",\"height\",\"width\",\"y\",\"x\",\"label\"],\"data\":{\"chart_index\":[{\"route_id\":\"Red\",\"trip_id\":\"R1\"}],\"color\":[\"#5ab738\"],\"fill_alpha\":[0.8],\"height\":[0.0],\"label\":[{\"route_id\":\"Red\",\"trip_id\":\"R1\"}],\"line_alpha\":[1.0],\"line_color\":[\"white\"],\"route_id\":[\"Red\"],\"trip_id\":[\"R1\"],\"width\":[0.8],\"x\":[\"Red\"],\"y\":[0.0]}},\"id\":\"7fbe89ee-9145-49c4-ad82-1f4b9618a71d\",\"type\":\"ColumnDataSource\"},{\"attributes\":{\"callback\":null,\"column_names\":[\"line_color\",\"line_alpha\",\"color\",\"fill_alpha\",\"height\",\"width\",\"y\",\"x\",\"label\"],\"data\":{\"chart_index\":[{\"route_id\":\"Blue\",\"trip_id\":\"B3\"}],\"color\":[\"#407ee7\"],\"fill_alpha\":[0.8],\"height\":[0.0],\"label\":[{\"route_id\":\"Blue\",\"trip_id\":\"B3\"}],\"line_alpha\":[1.0],\"line_color\":[\"white\"],\"route_id\":[\"Blue\"],\"trip_id\":[\"B3\"],\"width\":[0.8],\"x\":[\"Blue\"],\"y\":[1.0]}},\"id\":\"48cdf45e-ec1f-416b-a340-5d738c9e7a7a\",\"type\":\"ColumnDataSource\"},{\"attributes\":{\"plot\":{\"id\":\"f2faa29c-d63d-4225-8e20-586a70cdb7c1\",\"subtype\":\"Chart\",\"type\":\"Plot\"}},\"id\":\"4a46aa1c-2891-43eb-9a3d-0b7083902e85\",\"type\":\"HelpTool\"},{\"attributes\":{\"fill_alpha\":{\"field\":\"fill_alpha\"},\"fill_color\":{\"field\":\"color\"},\"height\":{\"field\":\"height\",\"units\":\"data\"},\"line_color\":{\"field\":\"line_color\"},\"width\":{\"field\":\"width\",\"units\":\"data\"},\"x\":{\"field\":\"x\"},\"y\":{\"field\":\"y\"}},\"id\":\"18e21cc0-cf82-4500-bdbe-1f526db16e44\",\"type\":\"Rect\"},{\"attributes\":{\"data_source\":{\"id\":\"7fbe89ee-9145-49c4-ad82-1f4b9618a71d\",\"type\":\"ColumnDataSource\"},\"glyph\":{\"id\":\"70162052-96d8-4584-9dd5-9d17ccc3f271\",\"type\":\"Rect\"},\"hover_glyph\":null,\"nonselection_glyph\":null,\"selection_glyph\":null},\"id\":\"cf077b29-a09f-4ff7-a7ee-b424be62392b\",\"type\":\"GlyphRenderer\"},{\"attributes\":{\"fill_alpha\":{\"field\":\"fill_alpha\"},\"fill_color\":{\"field\":\"color\"},\"height\":{\"field\":\"height\",\"units\":\"data\"},\"line_color\":{\"field\":\"line_color\"},\"width\":{\"field\":\"width\",\"units\":\"data\"},\"x\":{\"field\":\"x\"},\"y\":{\"field\":\"y\"}},\"id\":\"06787f7c-1ec7-407a-a0d2-30accfd4c18d\",\"type\":\"Rect\"},{\"attributes\":{\"callback\":null,\"plot\":{\"id\":\"f2faa29c-d63d-4225-8e20-586a70cdb7c1\",\"subtype\":\"Chart\",\"type\":\"Plot\"},\"tooltips\":[[\"Trip ID\",\"@trip_id\"]]},\"id\":\"5b8714f9-cfd8-4801-b761-e99e353ad571\",\"type\":\"HoverTool\"},{\"attributes\":{\"fill_alpha\":{\"field\":\"fill_alpha\"},\"fill_color\":{\"field\":\"color\"},\"height\":{\"field\":\"height\",\"units\":\"data\"},\"line_color\":{\"field\":\"line_color\"},\"width\":{\"field\":\"width\",\"units\":\"data\"},\"x\":{\"field\":\"x\"},\"y\":{\"field\":\"y\"}},\"id\":\"3931a9ef-7c8c-45ff-ac89-380c776c30eb\",\"type\":\"Rect\"},{\"attributes\":{\"fill_alpha\":{\"field\":\"fill_alpha\"},\"fill_color\":{\"field\":\"color\"},\"height\":{\"field\":\"height\",\"units\":\"data\"},\"line_color\":{\"field\":\"line_color\"},\"width\":{\"field\":\"width\",\"units\":\"data\"},\"x\":{\"field\":\"x\"},\"y\":{\"field\":\"y\"}},\"id\":\"5bbd7dd8-018b-48b0-80ef-955da17efd0f\",\"type\":\"Rect\"},{\"attributes\":{\"data_source\":{\"id\":\"4a418138-1880-4921-beb5-549f00639c58\",\"type\":\"ColumnDataSource\"},\"glyph\":{\"id\":\"3931a9ef-7c8c-45ff-ac89-380c776c30eb\",\"type\":\"Rect\"},\"hover_glyph\":null,\"nonselection_glyph\":null,\"selection_glyph\":null},\"id\":\"5aa9c780-d687-4703-8ddf-1d77c6540b9a\",\"type\":\"GlyphRenderer\"},{\"attributes\":{\"bottom_units\":\"screen\",\"fill_alpha\":{\"value\":0.5},\"fill_color\":{\"value\":\"lightgrey\"},\"left_units\":\"screen\",\"level\":\"overlay\",\"line_alpha\":{\"value\":1.0},\"line_color\":{\"value\":\"black\"},\"line_dash\":[4,4],\"line_width\":{\"value\":2},\"plot\":null,\"render_mode\":\"css\",\"right_units\":\"screen\",\"top_units\":\"screen\"},\"id\":\"6d7c6202-dffb-4c06-8f73-b0db9e888ef3\",\"type\":\"BoxAnnotation\"},{\"attributes\":{\"axis_label\":\"Boardings\",\"formatter\":{\"id\":\"3a84a816-4457-4c1c-9cbb-648cc8a3a9cb\",\"type\":\"BasicTickFormatter\"},\"plot\":{\"id\":\"f2faa29c-d63d-4225-8e20-586a70cdb7c1\",\"subtype\":\"Chart\",\"type\":\"Plot\"},\"ticker\":{\"id\":\"468d8773-d7b2-4ef9-93d1-a71069780f8d\",\"type\":\"BasicTicker\"}},\"id\":\"e8493887-a62f-45ad-ac7f-12455e04fc0f\",\"type\":\"LinearAxis\"},{\"attributes\":{\"data_source\":{\"id\":\"32e5966d-e5cc-48b1-91f9-4155dc027b8c\",\"type\":\"ColumnDataSource\"},\"glyph\":{\"id\":\"8489e958-3e72-4212-aba3-fb02785f073c\",\"type\":\"Rect\"},\"hover_glyph\":null,\"nonselection_glyph\":null,\"selection_glyph\":null},\"id\":\"28cf9e90-983e-49ae-90ff-b125ac7b4502\",\"type\":\"GlyphRenderer\"},{\"attributes\":{\"plot\":null,\"text\":\"Boardings by Route\"},\"id\":\"f730bd52-dd8b-4760-9794-670a8338dbb6\",\"type\":\"Title\"},{\"attributes\":{\"callback\":null,\"column_names\":[\"line_color\",\"line_alpha\",\"color\",\"fill_alpha\",\"height\",\"width\",\"y\",\"x\",\"label\"],\"data\":{\"chart_index\":[{\"route_id\":\"Red\",\"trip_id\":\"R2\"}],\"color\":[\"#407ee7\"],\"fill_alpha\":[0.8],\"height\":[0.0],\"label\":[{\"route_id\":\"Red\",\"trip_id\":\"R2\"}],\"line_alpha\":[1.0],\"line_color\":[\"white\"],\"route_id\":[\"Red\"],\"trip_id\":[\"R2\"],\"width\":[0.8],\"x\":[\"Red\"],\"y\":[0.0]}},\"id\":\"1c9f2ba1-1f94-4e19-9169-3d347afab9b1\",\"type\":\"ColumnDataSource\"}],\"root_ids\":[\"f2faa29c-d63d-4225-8e20-586a70cdb7c1\"]},\"title\":\"Bokeh Application\",\"version\":\"0.12.4\"}};\n",
       "            var render_items = [{\"docid\":\"0056bf7b-90e1-4b90-a3ce-ad186502516b\",\"elementid\":\"1428b439-fccf-402e-8256-477100b50ede\",\"modelid\":\"f2faa29c-d63d-4225-8e20-586a70cdb7c1\",\"notebook_comms_target\":\"e6c20e1b-34c5-47e4-8801-fc485c298294\"}];\n",
       "            \n",
       "            Bokeh.embed.embed_items(docs_json, render_items);\n",
       "          };\n",
       "          if (document.readyState != \"loading\") fn();\n",
       "          else document.addEventListener(\"DOMContentLoaded\", fn);\n",
       "        })();\n",
       "      },\n",
       "      function(Bokeh) {\n",
       "      }\n",
       "    ];\n",
       "  \n",
       "    function run_inline_js() {\n",
       "      \n",
       "      if ((window.Bokeh !== undefined) || (force === true)) {\n",
       "        for (var i = 0; i < inline_js.length; i++) {\n",
       "          inline_js[i](window.Bokeh);\n",
       "        }if (force === true) {\n",
       "          display_loaded();\n",
       "        }} else if (Date.now() < window._bokeh_timeout) {\n",
       "        setTimeout(run_inline_js, 100);\n",
       "      } else if (!window._bokeh_failed_load) {\n",
       "        console.log(\"Bokeh: BokehJS failed to load within specified timeout.\");\n",
       "        window._bokeh_failed_load = true;\n",
       "      } else if (force !== true) {\n",
       "        var cell = $(document.getElementById(\"1428b439-fccf-402e-8256-477100b50ede\")).parents('.cell').data().cell;\n",
       "        cell.output_area.append_execute_result(NB_LOAD_WARNING)\n",
       "      }\n",
       "  \n",
       "    }\n",
       "  \n",
       "    if (window._bokeh_is_loading === 0) {\n",
       "      console.log(\"Bokeh: BokehJS loaded, going straight to plotting\");\n",
       "      run_inline_js();\n",
       "    } else {\n",
       "      load_libs(js_urls, function() {\n",
       "        console.log(\"Bokeh: BokehJS plotting callback run at\", now());\n",
       "        run_inline_js();\n",
       "      });\n",
       "    }\n",
       "  }(this));\n",
       "</script>"
      ]
     },
     "metadata": {},
     "output_type": "display_data"
    }
   ],
   "source": [
    "tooltips=[\n",
    "    ('Trip ID', '@trip_id'),\n",
    "]\n",
    "\n",
    "all_lines  = Bar(final_vehicles_df, \"route_id\", values='boards', stack='trip_id',title=\"Boardings by Route\",legend=False,\n",
    "            xlabel=\"Route ID\", ylabel=\"Boardings\",tooltips=tooltips)\n",
    "\n",
    "ridership = show(all_lines, notebook_handle=True)"
   ]
  },
  {
   "cell_type": "markdown",
   "metadata": {},
   "source": [
    "## Person Level"
   ]
  },
  {
   "cell_type": "code",
   "execution_count": 35,
   "metadata": {
    "collapsed": true
   },
   "outputs": [],
   "source": [
    "chosen_df = pd.read_csv(os.path.join(full_output_directory,\"chosenpaths_links.csv\"), \n",
    "                                       sep=\",\", \n",
    "                                       parse_dates=['new_A_time', 'new_B_time'],\n",
    "                                       date_parser=lambda x: datetime.datetime.strptime(x, '%H:%M:%S') )"
   ]
  },
  {
   "cell_type": "code",
   "execution_count": 36,
   "metadata": {
    "collapsed": false,
    "scrolled": false
   },
   "outputs": [
    {
     "data": {
      "text/html": [
       "\n",
       "\n",
       "    <div class=\"bk-root\">\n",
       "        <div class=\"bk-plotdiv\" id=\"402fc98a-5bef-4e99-a4ad-f9d432692c4f\"></div>\n",
       "    </div>\n",
       "<script type=\"text/javascript\">\n",
       "  \n",
       "  (function(global) {\n",
       "    function now() {\n",
       "      return new Date();\n",
       "    }\n",
       "  \n",
       "    var force = false;\n",
       "  \n",
       "    if (typeof (window._bokeh_onload_callbacks) === \"undefined\" || force === true) {\n",
       "      window._bokeh_onload_callbacks = [];\n",
       "      window._bokeh_is_loading = undefined;\n",
       "    }\n",
       "  \n",
       "  \n",
       "    \n",
       "    if (typeof (window._bokeh_timeout) === \"undefined\" || force === true) {\n",
       "      window._bokeh_timeout = Date.now() + 0;\n",
       "      window._bokeh_failed_load = false;\n",
       "    }\n",
       "  \n",
       "    var NB_LOAD_WARNING = {'data': {'text/html':\n",
       "       \"<div style='background-color: #fdd'>\\n\"+\n",
       "       \"<p>\\n\"+\n",
       "       \"BokehJS does not appear to have successfully loaded. If loading BokehJS from CDN, this \\n\"+\n",
       "       \"may be due to a slow or bad network connection. Possible fixes:\\n\"+\n",
       "       \"</p>\\n\"+\n",
       "       \"<ul>\\n\"+\n",
       "       \"<li>re-rerun `output_notebook()` to attempt to load from CDN again, or</li>\\n\"+\n",
       "       \"<li>use INLINE resources instead, as so:</li>\\n\"+\n",
       "       \"</ul>\\n\"+\n",
       "       \"<code>\\n\"+\n",
       "       \"from bokeh.resources import INLINE\\n\"+\n",
       "       \"output_notebook(resources=INLINE)\\n\"+\n",
       "       \"</code>\\n\"+\n",
       "       \"</div>\"}};\n",
       "  \n",
       "    function display_loaded() {\n",
       "      if (window.Bokeh !== undefined) {\n",
       "        document.getElementById(\"402fc98a-5bef-4e99-a4ad-f9d432692c4f\").textContent = \"BokehJS successfully loaded.\";\n",
       "      } else if (Date.now() < window._bokeh_timeout) {\n",
       "        setTimeout(display_loaded, 100)\n",
       "      }\n",
       "    }if ((window.Jupyter !== undefined) && Jupyter.notebook.kernel) {\n",
       "      comm_manager = Jupyter.notebook.kernel.comm_manager\n",
       "      comm_manager.register_target(\"cad22844-4094-4305-9cac-9e08e7656891\", function () {});\n",
       "    }\n",
       "  \n",
       "    function run_callbacks() {\n",
       "      window._bokeh_onload_callbacks.forEach(function(callback) { callback() });\n",
       "      delete window._bokeh_onload_callbacks\n",
       "      console.info(\"Bokeh: all callbacks have finished\");\n",
       "    }\n",
       "  \n",
       "    function load_libs(js_urls, callback) {\n",
       "      window._bokeh_onload_callbacks.push(callback);\n",
       "      if (window._bokeh_is_loading > 0) {\n",
       "        console.log(\"Bokeh: BokehJS is being loaded, scheduling callback at\", now());\n",
       "        return null;\n",
       "      }\n",
       "      if (js_urls == null || js_urls.length === 0) {\n",
       "        run_callbacks();\n",
       "        return null;\n",
       "      }\n",
       "      console.log(\"Bokeh: BokehJS not loaded, scheduling load and callback at\", now());\n",
       "      window._bokeh_is_loading = js_urls.length;\n",
       "      for (var i = 0; i < js_urls.length; i++) {\n",
       "        var url = js_urls[i];\n",
       "        var s = document.createElement('script');\n",
       "        s.src = url;\n",
       "        s.async = false;\n",
       "        s.onreadystatechange = s.onload = function() {\n",
       "          window._bokeh_is_loading--;\n",
       "          if (window._bokeh_is_loading === 0) {\n",
       "            console.log(\"Bokeh: all BokehJS libraries loaded\");\n",
       "            run_callbacks()\n",
       "          }\n",
       "        };\n",
       "        s.onerror = function() {\n",
       "          console.warn(\"failed to load library \" + url);\n",
       "        };\n",
       "        console.log(\"Bokeh: injecting script tag for BokehJS library: \", url);\n",
       "        document.getElementsByTagName(\"head\")[0].appendChild(s);\n",
       "      }\n",
       "    };var element = document.getElementById(\"402fc98a-5bef-4e99-a4ad-f9d432692c4f\");\n",
       "    if (element == null) {\n",
       "      console.log(\"Bokeh: ERROR: autoload.js configured with elementid '402fc98a-5bef-4e99-a4ad-f9d432692c4f' but no matching script tag was found. \")\n",
       "      return false;\n",
       "    }\n",
       "  \n",
       "    var js_urls = [];\n",
       "  \n",
       "    var inline_js = [\n",
       "      function(Bokeh) {\n",
       "        (function() {\n",
       "          var fn = function() {\n",
       "            var docs_json = {\"883085fe-311f-4f24-8981-1d4a910d19ef\":{\"roots\":{\"references\":[{\"attributes\":{\"plot\":{\"id\":\"204e26c1-94d4-4c0e-b22f-cf6a8092462c\",\"subtype\":\"Chart\",\"type\":\"Plot\"}},\"id\":\"e51ddcf1-6593-4758-a911-e039b990df32\",\"type\":\"HelpTool\"},{\"attributes\":{\"plot\":{\"id\":\"204e26c1-94d4-4c0e-b22f-cf6a8092462c\",\"subtype\":\"Chart\",\"type\":\"Plot\"}},\"id\":\"7f72a36b-9542-4aec-a23e-71fea74108bd\",\"type\":\"ResetTool\"},{\"attributes\":{\"items\":[{\"id\":\"33ff668e-ccc6-4f41-aabc-5f650837ce23\",\"type\":\"LegendItem\"},{\"id\":\"37d8c9dc-2868-49b5-802f-8d6f0176b962\",\"type\":\"LegendItem\"},{\"id\":\"f2b5bf08-1656-4a69-a814-5aa43a871cf4\",\"type\":\"LegendItem\"},{\"id\":\"0e5ca9e5-f510-4077-b3cd-b57d6787685e\",\"type\":\"LegendItem\"}],\"location\":\"top_left\",\"plot\":{\"id\":\"204e26c1-94d4-4c0e-b22f-cf6a8092462c\",\"subtype\":\"Chart\",\"type\":\"Plot\"}},\"id\":\"6c51bf33-40b2-4c32-add7-386d98060f4f\",\"type\":\"Legend\"},{\"attributes\":{\"line_color\":{\"value\":\"#407ee7\"},\"line_width\":{\"value\":2},\"x\":{\"field\":\"x_values\"},\"y\":{\"field\":\"y_values\"}},\"id\":\"09aa6ea7-b375-4b6f-97ae-415c2c329fbc\",\"type\":\"Line\"},{\"attributes\":{\"months\":[0,6]},\"id\":\"a0fd41b2-7c80-46b2-96a8-1fc129c40857\",\"type\":\"MonthsTicker\"},{\"attributes\":{\"plot\":null,\"text\":\"line\"},\"id\":\"287b59d6-254b-4e93-a676-b21fb59de76e\",\"type\":\"Title\"},{\"attributes\":{\"callback\":null,\"end\":-2208961920000.0,\"start\":-2208963600000.0},\"id\":\"1135b64a-2c16-4cf6-aab0-ace7db1a8665\",\"type\":\"Range1d\"},{\"attributes\":{\"months\":[0,1,2,3,4,5,6,7,8,9,10,11]},\"id\":\"dd2438a5-4650-4030-9b9b-8078924f2702\",\"type\":\"MonthsTicker\"},{\"attributes\":{\"plot\":{\"id\":\"204e26c1-94d4-4c0e-b22f-cf6a8092462c\",\"subtype\":\"Chart\",\"type\":\"Plot\"}},\"id\":\"99f3837a-6ad2-4853-887a-0326ed0be5b1\",\"type\":\"SaveTool\"},{\"attributes\":{\"label\":{\"value\":\"transfer\"},\"renderers\":[{\"id\":\"303580b3-bbfe-452b-9539-394551126e81\",\"type\":\"GlyphRenderer\"}]},\"id\":\"f2b5bf08-1656-4a69-a814-5aa43a871cf4\",\"type\":\"LegendItem\"},{\"attributes\":{\"data_source\":{\"id\":\"2ea086cb-3022-4cb4-a315-4b5bdb66c8e6\",\"type\":\"ColumnDataSource\"},\"glyph\":{\"id\":\"5f781e16-4182-4fa9-abda-2517900fa3e7\",\"type\":\"Line\"},\"hover_glyph\":null,\"nonselection_glyph\":null,\"selection_glyph\":null},\"id\":\"3495ff41-b031-472f-897a-d06d2eea7148\",\"type\":\"GlyphRenderer\"},{\"attributes\":{\"line_color\":{\"value\":\"#5ab738\"},\"line_width\":{\"value\":2},\"x\":{\"field\":\"x_values\"},\"y\":{\"field\":\"y_values\"}},\"id\":\"d4a9296d-b143-485d-acf7-f90ea74f6a09\",\"type\":\"Line\"},{\"attributes\":{\"callback\":null,\"column_names\":[\"x_values\",\"y_values\"],\"data\":{\"chart_index\":[{\"linkmode\":\"egress\"}],\"linkmode\":[\"egress\"],\"x_values\":[4],\"y_values\":{\"__ndarray__\":\"AADgH4MSgMI=\",\"dtype\":\"float64\",\"shape\":[1]}}},\"id\":\"f949c0d6-38ab-4e9e-80ad-91fc63a162de\",\"type\":\"ColumnDataSource\"},{\"attributes\":{\"days\":[1,2,3,4,5,6,7,8,9,10,11,12,13,14,15,16,17,18,19,20,21,22,23,24,25,26,27,28,29,30,31]},\"id\":\"95577913-f9b8-46d3-9e1b-a7bac25cca5e\",\"type\":\"DaysTicker\"},{\"attributes\":{\"data_source\":{\"id\":\"c08d1802-1df2-41b4-bc58-96832ee3d029\",\"type\":\"ColumnDataSource\"},\"glyph\":{\"id\":\"cfb6e558-99e0-4c52-b05d-40db9f1ccef9\",\"type\":\"Line\"},\"hover_glyph\":null,\"nonselection_glyph\":null,\"selection_glyph\":null},\"id\":\"d49a2ee5-8a54-436b-890f-f7b413c89020\",\"type\":\"GlyphRenderer\"},{\"attributes\":{\"callback\":null,\"end\":4.4,\"start\":-0.4},\"id\":\"811d22ad-d0c5-4dfe-ba30-a34ad70c219c\",\"type\":\"Range1d\"},{\"attributes\":{\"days\":[1,4,7,10,13,16,19,22,25,28]},\"id\":\"9693ceee-6fef-4b71-b9da-649f0ccaa66e\",\"type\":\"DaysTicker\"},{\"attributes\":{\"days\":[1,15]},\"id\":\"7007ec08-37c0-49d4-aeaa-2536114c00cd\",\"type\":\"DaysTicker\"},{\"attributes\":{\"label\":{\"value\":\"egress\"},\"renderers\":[{\"id\":\"e8ec5a41-7102-4c45-ad7a-1004ef93b222\",\"type\":\"GlyphRenderer\"}]},\"id\":\"0e5ca9e5-f510-4077-b3cd-b57d6787685e\",\"type\":\"LegendItem\"},{\"attributes\":{\"line_color\":{\"value\":\"#df5320\"},\"line_width\":{\"value\":2},\"x\":{\"field\":\"x_values\"},\"y\":{\"field\":\"y_values\"}},\"id\":\"5f781e16-4182-4fa9-abda-2517900fa3e7\",\"type\":\"Line\"},{\"attributes\":{},\"id\":\"56db453a-a269-49b1-a3ee-28f8f48d9784\",\"type\":\"BasicTicker\"},{\"attributes\":{},\"id\":\"10bcab40-2997-4f6d-892a-38b5f5f42941\",\"type\":\"DatetimeTickFormatter\"},{\"attributes\":{\"active_drag\":\"auto\",\"active_scroll\":\"auto\",\"active_tap\":\"auto\",\"tools\":[{\"id\":\"6c55cc55-4e6b-447b-b89d-7f23f680f3e4\",\"type\":\"PanTool\"},{\"id\":\"45471804-b843-4135-8bb7-9a9383caee96\",\"type\":\"WheelZoomTool\"},{\"id\":\"68006f13-1ed6-47bb-b116-28b6198fed9c\",\"type\":\"BoxZoomTool\"},{\"id\":\"99f3837a-6ad2-4853-887a-0326ed0be5b1\",\"type\":\"SaveTool\"},{\"id\":\"7f72a36b-9542-4aec-a23e-71fea74108bd\",\"type\":\"ResetTool\"},{\"id\":\"e51ddcf1-6593-4758-a911-e039b990df32\",\"type\":\"HelpTool\"}]},\"id\":\"b964fad3-65b9-4e96-bf70-e0dbddf7314d\",\"type\":\"Toolbar\"},{\"attributes\":{\"callback\":null,\"column_names\":[\"x_values\",\"y_values\"],\"data\":{\"chart_index\":[{\"linkmode\":\"transfer\"}],\"linkmode\":[\"transfer\"],\"x_values\":[2],\"y_values\":{\"__ndarray__\":\"AAAQlYMSgMI=\",\"dtype\":\"float64\",\"shape\":[1]}}},\"id\":\"33ded1f6-273c-4c04-ba80-8042614ef67c\",\"type\":\"ColumnDataSource\"},{\"attributes\":{\"below\":[{\"id\":\"90494ca4-bdee-4807-ae27-fcbb3fcf5093\",\"type\":\"LinearAxis\"}],\"css_classes\":null,\"left\":[{\"id\":\"258caa30-385b-43a0-92e9-e9cf5fc81c92\",\"type\":\"DatetimeAxis\"}],\"renderers\":[{\"id\":\"40cff38c-e849-4b7f-8e61-5a48f35a8b77\",\"type\":\"BoxAnnotation\"},{\"id\":\"d49a2ee5-8a54-436b-890f-f7b413c89020\",\"type\":\"GlyphRenderer\"},{\"id\":\"3495ff41-b031-472f-897a-d06d2eea7148\",\"type\":\"GlyphRenderer\"},{\"id\":\"303580b3-bbfe-452b-9539-394551126e81\",\"type\":\"GlyphRenderer\"},{\"id\":\"e8ec5a41-7102-4c45-ad7a-1004ef93b222\",\"type\":\"GlyphRenderer\"},{\"id\":\"6c51bf33-40b2-4c32-add7-386d98060f4f\",\"type\":\"Legend\"},{\"id\":\"90494ca4-bdee-4807-ae27-fcbb3fcf5093\",\"type\":\"LinearAxis\"},{\"id\":\"258caa30-385b-43a0-92e9-e9cf5fc81c92\",\"type\":\"DatetimeAxis\"},{\"id\":\"bc381e21-e281-4c19-a6e3-71db61a8f741\",\"type\":\"Grid\"},{\"id\":\"b1232cce-4fa3-4a42-845f-8d76fed41af4\",\"type\":\"Grid\"}],\"title\":{\"id\":\"287b59d6-254b-4e93-a676-b21fb59de76e\",\"type\":\"Title\"},\"tool_events\":{\"id\":\"b170c6e3-3166-4ec1-8330-363f85e06d55\",\"type\":\"ToolEvents\"},\"toolbar\":{\"id\":\"b964fad3-65b9-4e96-bf70-e0dbddf7314d\",\"type\":\"Toolbar\"},\"width\":10,\"x_mapper_type\":\"auto\",\"x_range\":{\"id\":\"811d22ad-d0c5-4dfe-ba30-a34ad70c219c\",\"type\":\"Range1d\"},\"y_mapper_type\":\"auto\",\"y_range\":{\"id\":\"1135b64a-2c16-4cf6-aab0-ace7db1a8665\",\"type\":\"Range1d\"}},\"id\":\"204e26c1-94d4-4c0e-b22f-cf6a8092462c\",\"subtype\":\"Chart\",\"type\":\"Plot\"},{\"attributes\":{\"label\":{\"value\":\"transit\"},\"renderers\":[{\"id\":\"3495ff41-b031-472f-897a-d06d2eea7148\",\"type\":\"GlyphRenderer\"}]},\"id\":\"37d8c9dc-2868-49b5-802f-8d6f0176b962\",\"type\":\"LegendItem\"},{\"attributes\":{\"callback\":null,\"column_names\":[\"x_values\",\"y_values\"],\"data\":{\"chart_index\":[{\"linkmode\":\"transit\"},{\"linkmode\":\"transit\"}],\"linkmode\":[\"transit\",\"transit\"],\"x_values\":[1,3],\"y_values\":{\"__ndarray__\":\"AACoz4MSgMIAAHhagxKAwg==\",\"dtype\":\"float64\",\"shape\":[2]}}},\"id\":\"2ea086cb-3022-4cb4-a315-4b5bdb66c8e6\",\"type\":\"ColumnDataSource\"},{\"attributes\":{\"bottom_units\":\"screen\",\"fill_alpha\":{\"value\":0.5},\"fill_color\":{\"value\":\"lightgrey\"},\"left_units\":\"screen\",\"level\":\"overlay\",\"line_alpha\":{\"value\":1.0},\"line_color\":{\"value\":\"black\"},\"line_dash\":[4,4],\"line_width\":{\"value\":2},\"plot\":null,\"render_mode\":\"css\",\"right_units\":\"screen\",\"top_units\":\"screen\"},\"id\":\"40cff38c-e849-4b7f-8e61-5a48f35a8b77\",\"type\":\"BoxAnnotation\"},{\"attributes\":{\"plot\":{\"id\":\"204e26c1-94d4-4c0e-b22f-cf6a8092462c\",\"subtype\":\"Chart\",\"type\":\"Plot\"},\"ticker\":{\"id\":\"56db453a-a269-49b1-a3ee-28f8f48d9784\",\"type\":\"BasicTicker\"}},\"id\":\"bc381e21-e281-4c19-a6e3-71db61a8f741\",\"type\":\"Grid\"},{\"attributes\":{\"line_color\":{\"value\":\"#f22c40\"},\"line_width\":{\"value\":2},\"x\":{\"field\":\"x_values\"},\"y\":{\"field\":\"y_values\"}},\"id\":\"cfb6e558-99e0-4c52-b05d-40db9f1ccef9\",\"type\":\"Line\"},{\"attributes\":{\"axis_label\":\"new_A_time\",\"formatter\":{\"id\":\"10bcab40-2997-4f6d-892a-38b5f5f42941\",\"type\":\"DatetimeTickFormatter\"},\"plot\":{\"id\":\"204e26c1-94d4-4c0e-b22f-cf6a8092462c\",\"subtype\":\"Chart\",\"type\":\"Plot\"},\"ticker\":{\"id\":\"9623b8d6-23d6-4b00-9df3-51009a5ecbcf\",\"type\":\"DatetimeTicker\"}},\"id\":\"258caa30-385b-43a0-92e9-e9cf5fc81c92\",\"type\":\"DatetimeAxis\"},{\"attributes\":{},\"id\":\"9623b8d6-23d6-4b00-9df3-51009a5ecbcf\",\"type\":\"DatetimeTicker\"},{\"attributes\":{\"max_interval\":500.0,\"num_minor_ticks\":0},\"id\":\"74f1e58f-bbc3-436b-afdf-7c7fa75d4c18\",\"type\":\"AdaptiveTicker\"},{\"attributes\":{\"months\":[0,4,8]},\"id\":\"7f9b5eb2-28ea-4bcf-b66c-d7cd2fedaa48\",\"type\":\"MonthsTicker\"},{\"attributes\":{\"overlay\":{\"id\":\"40cff38c-e849-4b7f-8e61-5a48f35a8b77\",\"type\":\"BoxAnnotation\"},\"plot\":{\"id\":\"204e26c1-94d4-4c0e-b22f-cf6a8092462c\",\"subtype\":\"Chart\",\"type\":\"Plot\"}},\"id\":\"68006f13-1ed6-47bb-b116-28b6198fed9c\",\"type\":\"BoxZoomTool\"},{\"attributes\":{\"base\":60,\"mantissas\":[1,2,5,10,15,20,30],\"max_interval\":1800000.0,\"min_interval\":1000.0,\"num_minor_ticks\":0},\"id\":\"5e1a0d38-7aca-491b-b455-d4179a39bf44\",\"type\":\"AdaptiveTicker\"},{\"attributes\":{\"dimension\":1,\"plot\":{\"id\":\"204e26c1-94d4-4c0e-b22f-cf6a8092462c\",\"subtype\":\"Chart\",\"type\":\"Plot\"},\"ticker\":{\"id\":\"9623b8d6-23d6-4b00-9df3-51009a5ecbcf\",\"type\":\"DatetimeTicker\"}},\"id\":\"b1232cce-4fa3-4a42-845f-8d76fed41af4\",\"type\":\"Grid\"},{\"attributes\":{\"months\":[0,2,4,6,8,10]},\"id\":\"1d577e5b-8d01-4ddb-a350-a1077824e07a\",\"type\":\"MonthsTicker\"},{\"attributes\":{},\"id\":\"ea1419d8-b1ea-4ce3-8c58-aff1ae4aa112\",\"type\":\"BasicTickFormatter\"},{\"attributes\":{\"data_source\":{\"id\":\"f949c0d6-38ab-4e9e-80ad-91fc63a162de\",\"type\":\"ColumnDataSource\"},\"glyph\":{\"id\":\"d4a9296d-b143-485d-acf7-f90ea74f6a09\",\"type\":\"Line\"},\"hover_glyph\":null,\"nonselection_glyph\":null,\"selection_glyph\":null},\"id\":\"e8ec5a41-7102-4c45-ad7a-1004ef93b222\",\"type\":\"GlyphRenderer\"},{\"attributes\":{\"plot\":{\"id\":\"204e26c1-94d4-4c0e-b22f-cf6a8092462c\",\"subtype\":\"Chart\",\"type\":\"Plot\"}},\"id\":\"6c55cc55-4e6b-447b-b89d-7f23f680f3e4\",\"type\":\"PanTool\"},{\"attributes\":{\"data_source\":{\"id\":\"33ded1f6-273c-4c04-ba80-8042614ef67c\",\"type\":\"ColumnDataSource\"},\"glyph\":{\"id\":\"09aa6ea7-b375-4b6f-97ae-415c2c329fbc\",\"type\":\"Line\"},\"hover_glyph\":null,\"nonselection_glyph\":null,\"selection_glyph\":null},\"id\":\"303580b3-bbfe-452b-9539-394551126e81\",\"type\":\"GlyphRenderer\"},{\"attributes\":{\"plot\":{\"id\":\"204e26c1-94d4-4c0e-b22f-cf6a8092462c\",\"subtype\":\"Chart\",\"type\":\"Plot\"}},\"id\":\"45471804-b843-4135-8bb7-9a9383caee96\",\"type\":\"WheelZoomTool\"},{\"attributes\":{\"axis_label\":\"linknum\",\"formatter\":{\"id\":\"ea1419d8-b1ea-4ce3-8c58-aff1ae4aa112\",\"type\":\"BasicTickFormatter\"},\"plot\":{\"id\":\"204e26c1-94d4-4c0e-b22f-cf6a8092462c\",\"subtype\":\"Chart\",\"type\":\"Plot\"},\"ticker\":{\"id\":\"56db453a-a269-49b1-a3ee-28f8f48d9784\",\"type\":\"BasicTicker\"}},\"id\":\"90494ca4-bdee-4807-ae27-fcbb3fcf5093\",\"type\":\"LinearAxis\"},{\"attributes\":{},\"id\":\"b170c6e3-3166-4ec1-8330-363f85e06d55\",\"type\":\"ToolEvents\"},{\"attributes\":{\"callback\":null,\"column_names\":[\"x_values\",\"y_values\"],\"data\":{\"chart_index\":[{\"linkmode\":\"access\"}],\"linkmode\":[\"access\"],\"x_values\":[0],\"y_values\":{\"__ndarray__\":\"AAD07IMSgMI=\",\"dtype\":\"float64\",\"shape\":[1]}}},\"id\":\"c08d1802-1df2-41b4-bc58-96832ee3d029\",\"type\":\"ColumnDataSource\"},{\"attributes\":{\"label\":{\"value\":\"access\"},\"renderers\":[{\"id\":\"d49a2ee5-8a54-436b-890f-f7b413c89020\",\"type\":\"GlyphRenderer\"}]},\"id\":\"33ff668e-ccc6-4f41-aabc-5f650837ce23\",\"type\":\"LegendItem\"},{\"attributes\":{\"base\":24,\"mantissas\":[1,2,4,6,8,12],\"max_interval\":43200000.0,\"min_interval\":3600000.0,\"num_minor_ticks\":0},\"id\":\"cc1ce637-2a53-43f6-89b4-95a96cb73bc5\",\"type\":\"AdaptiveTicker\"},{\"attributes\":{},\"id\":\"1e38639b-c356-4459-b4fc-32d77fd00b43\",\"type\":\"YearsTicker\"},{\"attributes\":{\"days\":[1,8,15,22]},\"id\":\"5cf81ce6-7ace-4ce2-a0ac-e4da2017e8ce\",\"type\":\"DaysTicker\"}],\"root_ids\":[\"204e26c1-94d4-4c0e-b22f-cf6a8092462c\"]},\"title\":\"Bokeh Application\",\"version\":\"0.12.4\"}};\n",
       "            var render_items = [{\"docid\":\"883085fe-311f-4f24-8981-1d4a910d19ef\",\"elementid\":\"402fc98a-5bef-4e99-a4ad-f9d432692c4f\",\"modelid\":\"204e26c1-94d4-4c0e-b22f-cf6a8092462c\",\"notebook_comms_target\":\"cad22844-4094-4305-9cac-9e08e7656891\"}];\n",
       "            \n",
       "            Bokeh.embed.embed_items(docs_json, render_items);\n",
       "          };\n",
       "          if (document.readyState != \"loading\") fn();\n",
       "          else document.addEventListener(\"DOMContentLoaded\", fn);\n",
       "        })();\n",
       "      },\n",
       "      function(Bokeh) {\n",
       "      }\n",
       "    ];\n",
       "  \n",
       "    function run_inline_js() {\n",
       "      \n",
       "      if ((window.Bokeh !== undefined) || (force === true)) {\n",
       "        for (var i = 0; i < inline_js.length; i++) {\n",
       "          inline_js[i](window.Bokeh);\n",
       "        }if (force === true) {\n",
       "          display_loaded();\n",
       "        }} else if (Date.now() < window._bokeh_timeout) {\n",
       "        setTimeout(run_inline_js, 100);\n",
       "      } else if (!window._bokeh_failed_load) {\n",
       "        console.log(\"Bokeh: BokehJS failed to load within specified timeout.\");\n",
       "        window._bokeh_failed_load = true;\n",
       "      } else if (force !== true) {\n",
       "        var cell = $(document.getElementById(\"402fc98a-5bef-4e99-a4ad-f9d432692c4f\")).parents('.cell').data().cell;\n",
       "        cell.output_area.append_execute_result(NB_LOAD_WARNING)\n",
       "      }\n",
       "  \n",
       "    }\n",
       "  \n",
       "    if (window._bokeh_is_loading === 0) {\n",
       "      console.log(\"Bokeh: BokehJS loaded, going straight to plotting\");\n",
       "      run_inline_js();\n",
       "    } else {\n",
       "      load_libs(js_urls, function() {\n",
       "        console.log(\"Bokeh: BokehJS plotting callback run at\", now());\n",
       "        run_inline_js();\n",
       "      });\n",
       "    }\n",
       "  }(this));\n",
       "</script>"
      ]
     },
     "metadata": {},
     "output_type": "display_data"
    },
    {
     "data": {
      "text/html": [
       "<p><code>&lt;Bokeh Notebook handle for <strong>In[36]</strong>&gt;</code></p>"
      ],
      "text/plain": [
       "<bokeh.io._CommsHandle at 0x113e3d510>"
      ]
     },
     "execution_count": 36,
     "metadata": {},
     "output_type": "execute_result"
    }
   ],
   "source": [
    "pline = Line(chosen_df, x=\"linknum\", y=\"new_A_time\", color=\"linkmode\",title=\"line\", width=10)\n",
    "\n",
    "\n",
    "show(pline, notebook_handle=True)\n"
   ]
  },
  {
   "cell_type": "code",
   "execution_count": 69,
   "metadata": {
    "collapsed": false
   },
   "outputs": [
    {
     "ename": "TypeError",
     "evalue": "ufunc 'add' did not contain a loop with signature matching types dtype('S32') dtype('S32') dtype('S32')",
     "output_type": "error",
     "traceback": [
      "\u001b[0;31m---------------------------------------------------------------------------\u001b[0m",
      "\u001b[0;31mTypeError\u001b[0m                                 Traceback (most recent call last)",
      "\u001b[0;32m<ipython-input-69-5186555686a6>\u001b[0m in \u001b[0;36m<module>\u001b[0;34m()\u001b[0m\n\u001b[1;32m     25\u001b[0m     \u001b[0;32mreturn\u001b[0m \u001b[0mmode\u001b[0m\u001b[0;34m+\u001b[0m\u001b[0;34m\" \"\u001b[0m\u001b[0;34m+\u001b[0m\u001b[0msim_cost\u001b[0m\u001b[0;34m+\u001b[0m\u001b[0;34m\" \"\u001b[0m\u001b[0;34m+\u001b[0m\u001b[0mroute_id\u001b[0m\u001b[0;34m+\u001b[0m\u001b[0;34m\":\"\u001b[0m\u001b[0;34m+\u001b[0m\u001b[0mtrip_id\u001b[0m\u001b[0;34m\u001b[0m\u001b[0m\n\u001b[1;32m     26\u001b[0m \u001b[0;34m\u001b[0m\u001b[0m\n\u001b[0;32m---> 27\u001b[0;31m \u001b[0mchosen_df\u001b[0m\u001b[0;34m[\u001b[0m\u001b[0;34m\"annotation\"\u001b[0m\u001b[0;34m]\u001b[0m\u001b[0;34m=\u001b[0m \u001b[0mmap\u001b[0m\u001b[0;34m(\u001b[0m\u001b[0mcreateAnnotation\u001b[0m\u001b[0;34m,\u001b[0m \u001b[0mchosen_df\u001b[0m\u001b[0;34m[\u001b[0m\u001b[0;34m\"mode\"\u001b[0m\u001b[0;34m]\u001b[0m\u001b[0;34m,\u001b[0m\u001b[0mchosen_df\u001b[0m\u001b[0;34m[\u001b[0m\u001b[0;34m\"sim_cost\"\u001b[0m\u001b[0;34m]\u001b[0m\u001b[0;34m,\u001b[0m\u001b[0mchosen_df\u001b[0m\u001b[0;34m[\u001b[0m\u001b[0;34m\"route_id\"\u001b[0m\u001b[0;34m]\u001b[0m\u001b[0;34m,\u001b[0m\u001b[0mchosen_df\u001b[0m\u001b[0;34m[\u001b[0m\u001b[0;34m\"trip_id\"\u001b[0m\u001b[0;34m]\u001b[0m\u001b[0;34m)\u001b[0m\u001b[0;34m\u001b[0m\u001b[0m\n\u001b[0m\u001b[1;32m     28\u001b[0m \u001b[0;34m\u001b[0m\u001b[0m\n\u001b[1;32m     29\u001b[0m \u001b[0msource\u001b[0m \u001b[0;34m=\u001b[0m \u001b[0mColumnDataSource\u001b[0m\u001b[0;34m(\u001b[0m\u001b[0mchosen_df\u001b[0m\u001b[0;34m)\u001b[0m\u001b[0;34m\u001b[0m\u001b[0m\n",
      "\u001b[0;32m<ipython-input-69-5186555686a6>\u001b[0m in \u001b[0;36mcreateAnnotation\u001b[0;34m(mode, sim_cost, route_id, trip_id)\u001b[0m\n\u001b[1;32m     23\u001b[0m \u001b[0;34m\u001b[0m\u001b[0m\n\u001b[1;32m     24\u001b[0m \u001b[0;32mdef\u001b[0m \u001b[0mcreateAnnotation\u001b[0m\u001b[0;34m(\u001b[0m\u001b[0mmode\u001b[0m\u001b[0;34m,\u001b[0m\u001b[0msim_cost\u001b[0m\u001b[0;34m,\u001b[0m\u001b[0mroute_id\u001b[0m\u001b[0;34m,\u001b[0m\u001b[0mtrip_id\u001b[0m\u001b[0;34m)\u001b[0m\u001b[0;34m:\u001b[0m\u001b[0;34m\u001b[0m\u001b[0m\n\u001b[0;32m---> 25\u001b[0;31m     \u001b[0;32mreturn\u001b[0m \u001b[0mmode\u001b[0m\u001b[0;34m+\u001b[0m\u001b[0;34m\" \"\u001b[0m\u001b[0;34m+\u001b[0m\u001b[0msim_cost\u001b[0m\u001b[0;34m+\u001b[0m\u001b[0;34m\" \"\u001b[0m\u001b[0;34m+\u001b[0m\u001b[0mroute_id\u001b[0m\u001b[0;34m+\u001b[0m\u001b[0;34m\":\"\u001b[0m\u001b[0;34m+\u001b[0m\u001b[0mtrip_id\u001b[0m\u001b[0;34m\u001b[0m\u001b[0m\n\u001b[0m\u001b[1;32m     26\u001b[0m \u001b[0;34m\u001b[0m\u001b[0m\n\u001b[1;32m     27\u001b[0m \u001b[0mchosen_df\u001b[0m\u001b[0;34m[\u001b[0m\u001b[0;34m\"annotation\"\u001b[0m\u001b[0;34m]\u001b[0m\u001b[0;34m=\u001b[0m \u001b[0mmap\u001b[0m\u001b[0;34m(\u001b[0m\u001b[0mcreateAnnotation\u001b[0m\u001b[0;34m,\u001b[0m \u001b[0mchosen_df\u001b[0m\u001b[0;34m[\u001b[0m\u001b[0;34m\"mode\"\u001b[0m\u001b[0;34m]\u001b[0m\u001b[0;34m,\u001b[0m\u001b[0mchosen_df\u001b[0m\u001b[0;34m[\u001b[0m\u001b[0;34m\"sim_cost\"\u001b[0m\u001b[0;34m]\u001b[0m\u001b[0;34m,\u001b[0m\u001b[0mchosen_df\u001b[0m\u001b[0;34m[\u001b[0m\u001b[0;34m\"route_id\"\u001b[0m\u001b[0;34m]\u001b[0m\u001b[0;34m,\u001b[0m\u001b[0mchosen_df\u001b[0m\u001b[0;34m[\u001b[0m\u001b[0;34m\"trip_id\"\u001b[0m\u001b[0;34m]\u001b[0m\u001b[0;34m)\u001b[0m\u001b[0;34m\u001b[0m\u001b[0m\n",
      "\u001b[0;31mTypeError\u001b[0m: ufunc 'add' did not contain a loop with signature matching types dtype('S32') dtype('S32') dtype('S32')"
     ]
    }
   ],
   "source": [
    "import numpy as np\n",
    "\n",
    "from bokeh.models import ColumnDataSource, DataRange1d, Plot, LinearAxis, Grid,DatetimeAxis, LabelSet\n",
    "from bokeh.models.glyphs import Segment\n",
    "from bokeh.io import curdoc, show\n",
    "\n",
    "\n",
    "\n",
    "palette = [\"#d73838\", \"#dea23a\", \"#b1d149\", \"#5d85b5\", \"#9d56a4\",\n",
    "           \"#f7f7f7\", \"#fddbc7\", \"#f4a582\", \"#d6604d\", \"#b2182b\", \"#67001f\"]\n",
    "\n",
    "mode = list(set(chosen_df[\"mode\"]))\n",
    "l    = len(mode)\n",
    "mode_color = dict(zip(mode,palette[0:l]))\n",
    "\n",
    "\n",
    "def assignColor(mode):\n",
    "    if mode in mode_color.keys():\n",
    "        return mode_color[mode]\n",
    "    return \"#f0f0f0\"\n",
    "    \n",
    "chosen_df[\"color\"]= map(assignColor, chosen_df[\"mode\"])\n",
    "\n",
    "def createAnnotation(mode,sim_cost,route_id,trip_id):\n",
    "    return mode+\" \"+sim_cost+\" \"+route_id+\":\"+trip_id\n",
    "\n",
    "chosen_df[\"annotation\"]= map(createAnnotation, chosen_df[\"mode\"],chosen_df[\"sim_cost\"],chosen_df[\"route_id\"],chosen_df[\"trip_id\"])\n",
    "\n",
    "source = ColumnDataSource(chosen_df)"
   ]
  },
  {
   "cell_type": "code",
   "execution_count": 67,
   "metadata": {
    "collapsed": false
   },
   "outputs": [
    {
     "ename": "SyntaxError",
     "evalue": "non-keyword arg after keyword arg (<ipython-input-67-347e744c9338>, line 20)",
     "output_type": "error",
     "traceback": [
      "\u001b[0;36m  File \u001b[0;32m\"<ipython-input-67-347e744c9338>\"\u001b[0;36m, line \u001b[0;32m20\u001b[0m\n\u001b[0;31m    mode_labels = LabelSet(x=\"new_A_time\", y=\"linknum\", text=\"mode\",\"distance\", y_offset=-5,x_offset=10,\u001b[0m\n\u001b[0;31mSyntaxError\u001b[0m\u001b[0;31m:\u001b[0m non-keyword arg after keyword arg\n"
     ]
    }
   ],
   "source": [
    "xdr = DataRange1d()\n",
    "ydr = DataRange1d()\n",
    "\n",
    "plot = Plot(\n",
    "    title=None, x_range=xdr, y_range=ydr, plot_width=800, plot_height=300,\n",
    "    h_symmetry=False, v_symmetry=False, min_border=0, toolbar_location=None)\n",
    "\n",
    "glyph = Segment(y0=\"linknum\", x0=\"new_A_time\", y1=\"linknum\", x1=\"new_B_time\", line_color=\"color\", line_width=20)\n",
    "plot.add_glyph(source, glyph)\n",
    "\n",
    "xaxis = DatetimeAxis()\n",
    "plot.add_layout(xaxis, 'below')\n",
    "\n",
    "yaxis = LinearAxis()\n",
    "plot.add_layout(yaxis, 'left')\n",
    "\n",
    "plot.add_layout(Grid(dimension=0, ticker=xaxis.ticker))\n",
    "plot.add_layout(Grid(dimension=1, ticker=yaxis.ticker))\n",
    "\n",
    "mode_labels = LabelSet(x=\"new_A_time\", y=\"linknum\", text=\"mode\", y_offset=-5,x_offset=10,\n",
    "                  text_font_size=\"8pt\", text_color=\"#555555\",\n",
    "                  source=source, text_align='left')\n",
    "plot.add_layout(mode_labels)\n",
    "\n",
    "curdoc().add_root(plot)\n",
    "\n",
    "show(plot, notebook_handle=True)"
   ]
  },
  {
   "cell_type": "code",
   "execution_count": null,
   "metadata": {
    "collapsed": true
   },
   "outputs": [],
   "source": []
  }
 ],
 "metadata": {
  "anaconda-cloud": {},
  "kernelspec": {
   "display_name": "Python [conda env:Fast-Trips]",
   "language": "python",
   "name": "conda-env-Fast-Trips-py"
  },
  "language_info": {
   "codemirror_mode": {
    "name": "ipython",
    "version": 2
   },
   "file_extension": ".py",
   "mimetype": "text/x-python",
   "name": "python",
   "nbconvert_exporter": "python",
   "pygments_lexer": "ipython2",
   "version": "2.7.13"
  }
 },
 "nbformat": 4,
 "nbformat_minor": 2
}
