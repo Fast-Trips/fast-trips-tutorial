{
 "cells": [
  {
   "cell_type": "markdown",
   "metadata": {},
   "source": [
    "# Fast-Trips Tutorial 4: Your own city!\n"
   ]
  },
  {
   "cell_type": "code",
   "execution_count": null,
   "metadata": {
    "collapsed": false
   },
   "outputs": [],
   "source": [
    "import os,datetime,shutil\n",
    "import pandas as pd"
   ]
  },
  {
   "cell_type": "markdown",
   "metadata": {},
   "source": [
    "# Specify Input Networks + Visualize"
   ]
  },
  {
   "cell_type": "code",
   "execution_count": null,
   "metadata": {
    "collapsed": true
   },
   "outputs": [],
   "source": [
    "GTFS_LINK  = r\"http://admin.gotransitnc.org/sites/default/files/developergtfs/GoRaleigh_GTFS_0.zip\"\n",
    "\n",
    "BASE_DIR   = r\"C:\\Users\\lzorn\\Documents\\fast-trips-tutorial\"\n",
    "NEW_FOLDER = \"GoRaleigh_GTFS\"\n",
    "GTFS_LOC   = os.path.join(BASE_DIR,NEW_FOLDER)"
   ]
  },
  {
   "cell_type": "code",
   "execution_count": null,
   "metadata": {
    "collapsed": false
   },
   "outputs": [],
   "source": [
    "# Download the file from the URL and unzip\n",
    "from urllib import urlopen\n",
    "from zipfile import ZipFile\n",
    "\n",
    "try:\n",
    "    os.stat(os.path.join(BASE_DIR,NEW_FOLDER))\n",
    "except:\n",
    "    os.mkdir(os.path.join(BASE_DIR,NEW_FOLDER)) \n",
    "\n",
    "\n",
    "tempzip_filename = os.path.join(BASE_DIR,NEW_FOLDER,\"tempgtfs.zip\")\n",
    "zipresp = urlopen(GTFS_LINK)\n",
    "tempzip = open(tempzip_filename, \"wb\")\n",
    "tempzip.write(zipresp.read())\n",
    "tempzip.close()\n",
    "zf = ZipFile(tempzip_filename)\n",
    "zf.extractall(path = os.path.join(BASE_DIR,NEW_FOLDER))\n",
    "zf.close()\n",
    "os.remove(tempzip_filename)"
   ]
  },
  {
   "cell_type": "markdown",
   "metadata": {},
   "source": [
    "## Validate GTFS Feed\n",
    "Make sure you are starting with a valid network.\n",
    "This can take a while for a large network. "
   ]
  },
  {
   "cell_type": "code",
   "execution_count": null,
   "metadata": {
    "collapsed": false
   },
   "outputs": [],
   "source": [
    "import transitfeed\n",
    "loader        = transitfeed.Loader(GTFS_LOC, memory_db=True)\n",
    "schedule      = loader.Load()\n",
    "schedule.Validate()"
   ]
  },
  {
   "cell_type": "code",
   "execution_count": null,
   "metadata": {
    "collapsed": false
   },
   "outputs": [],
   "source": [
    "print \"Routes Loaded:\"\n",
    "rts = [r.route_long_name for r in schedule.routes.itervalues()]\n",
    "for r in rts:\n",
    "    print \" - \",r"
   ]
  },
  {
   "cell_type": "markdown",
   "metadata": {},
   "source": [
    "## Create Simple Map of Routes"
   ]
  },
  {
   "cell_type": "code",
   "execution_count": null,
   "metadata": {
    "collapsed": false
   },
   "outputs": [],
   "source": [
    "import folium\n",
    "import tutorial_map\n",
    "\n",
    "mymap = tutorial_map.make_map(schedule)\n",
    "mymap"
   ]
  },
  {
   "cell_type": "markdown",
   "metadata": {},
   "source": [
    "## Add needed data to turn GTFS to GTFS-PLUS\n",
    "There are files that we need to add:  \n",
    "  * routes_ft.txt  \n",
    "  * vehicles_ft.txt  \n",
    "  * trips_ft.txt  \n",
    "  * transfers_ft.txt \n",
    "  * walk_access_ft.txt "
   ]
  },
  {
   "cell_type": "code",
   "execution_count": null,
   "metadata": {
    "collapsed": false
   },
   "outputs": [],
   "source": [
    "import csv\n",
    "import gtfs_plus"
   ]
  },
  {
   "cell_type": "code",
   "execution_count": null,
   "metadata": {
    "collapsed": false
   },
   "outputs": [],
   "source": [
    "GTFS_PLUS_LOC   = \"GoRaleigh_GTFS_PLUS\"\n",
    "OUTPUT_DIR      = os.path.join(BASE_DIR,GTFS_PLUS_LOC)\n",
    "\n",
    "# start with the GTFS files if you don't have these already\n",
    "try:\n",
    "    shutil.copytree(GTFS_LOC, \"GoRaleigh_GTFS_PLUS\")\n",
    "    # copy over the config file from the earlier tutorials\n",
    "    shutil.copy(os.path.join(BASE_DIR,\"tta\",\"input\",\"demand-single\",\"config_ft.txt\"), \n",
    "                os.path.join(OUTPUT_DIR, \"config_ft.txt\"))\n",
    "except:\n",
    "    # hopefully this is ok and you're just doing this multiple times\n",
    "    pass\n",
    "\n",
    "DEFAULT_MODE    = \"local_bus\"\n",
    "DEFAULT_VEHICLE = \"standard_bus\"\n",
    "SEATED_CAPACITY   = 30\n",
    "STANDING_CAPACITY = 20\n",
    "MAX_SPEED         = 45\n",
    "ACCELERATION      = 3\n",
    "DECELERATION      = 4\n",
    "DWELL = r'\"3 + 2*[boards] + 1.5*[alights]\"'"
   ]
  },
  {
   "cell_type": "markdown",
   "metadata": {},
   "source": [
    "### Create `routes_ft.txt` \n",
    "For now, assume a default mode"
   ]
  },
  {
   "cell_type": "code",
   "execution_count": null,
   "metadata": {
    "collapsed": false
   },
   "outputs": [],
   "source": [
    "route_modes_dict = gtfs_plus.routesft_assume_mode(schedule, DEFAULT_MODE)\n",
    "with open(os.path.join(OUTPUT_DIR,'routes_ft.txt'),'wb') as f:\n",
    "    f.write(\"route_id,mode\\n\")\n",
    "    w = csv.writer(f)\n",
    "    w.writerows(route_modes_dict.items())"
   ]
  },
  {
   "cell_type": "markdown",
   "metadata": {},
   "source": [
    "### Create `trips_ft.txt` \n",
    "For now, assume a default vehicle"
   ]
  },
  {
   "cell_type": "code",
   "execution_count": null,
   "metadata": {
    "collapsed": false
   },
   "outputs": [],
   "source": [
    "trip_vehicle_dict = dict(zip(schedule.trips.keys(),[DEFAULT_VEHICLE]*len(schedule.trips.keys())))\n",
    "with open(os.path.join(OUTPUT_DIR,'trips_ft.txt'),'wb') as f:\n",
    "    f.write(\"trip_id,vehicle_name\\n\")\n",
    "    w = csv.writer(f)\n",
    "    w.writerows(trip_vehicle_dict.items())"
   ]
  },
  {
   "cell_type": "markdown",
   "metadata": {},
   "source": [
    "### Create `vehicles_ft.txt` \n",
    "FOr now, assume mostly defaults"
   ]
  },
  {
   "cell_type": "code",
   "execution_count": null,
   "metadata": {
    "collapsed": false
   },
   "outputs": [],
   "source": [
    "with open(os.path.join(OUTPUT_DIR,'vehicles_ft.txt'),'wb') as f:\n",
    "    f.write(\"vehicle_name,seated_capacity,standing_capacity,max_speed,acceleration,deceleration,dwell_formula\\n\")\n",
    "    f.write(\"%s,%d,%d,%4.2f,%4.2f,%4.2f,%s\\n\"%(DEFAULT_VEHICLE,SEATED_CAPACITY,STANDING_CAPACITY,MAX_SPEED,ACCELERATION,DECELERATION,DWELL))"
   ]
  },
  {
   "cell_type": "markdown",
   "metadata": {},
   "source": [
    "### Create `transfers_ft.txt` \n"
   ]
  },
  {
   "cell_type": "code",
   "execution_count": null,
   "metadata": {
    "collapsed": false
   },
   "outputs": [],
   "source": [
    "xfer_dict = gtfs_plus.create_tranfers(schedule,max_xfer_dist=0.6)\n",
    "\n",
    "with open(os.path.join(OUTPUT_DIR,'transfers_ft.txt'),'wb') as f:\n",
    "    f.write(\"from_stop_id,to_stop_id,dist\\n\")\n",
    "    for k,v in xfer_dict.iteritems():\n",
    "        f.write(\"%s,%s,%4.2f\\n\" % (k[0],k[1],v))\n",
    "        #and reverse link\n",
    "        f.write(\"%s,%s,%4.2f\\n\" % (k[1],k[0],v))"
   ]
  },
  {
   "cell_type": "markdown",
   "metadata": {},
   "source": [
    "### `walk_access.txt` \n",
    "For this single-trip example, let's create walk access on the fly using simple crow-fly distance"
   ]
  },
  {
   "cell_type": "markdown",
   "metadata": {},
   "source": [
    "## Define a single demand trip\n",
    "For now, select an origin and destination `stop_id`.  Your trip will begin and end at these stops w/out walk access to other trips for now."
   ]
  },
  {
   "cell_type": "code",
   "execution_count": null,
   "metadata": {
    "collapsed": false
   },
   "outputs": [],
   "source": [
    "ORIGIN_STOP      = \"776415\"\n",
    "DESTINATION_STOP = \"777546\"\n",
    "\n",
    "with open(os.path.join(OUTPUT_DIR,'walk_access_ft.txt'),'wb') as f:\n",
    "    f.write(\"taz,stop_id,direction,dist\\n\")\n",
    "    f.write(\"t_%s,%s,access,0.01\\n\" % (ORIGIN_STOP, ORIGIN_STOP))\n",
    "    f.write(\"t_%s,%s,egress,0.01\\n\" % (DESTINATION_STOP, DESTINATION_STOP))"
   ]
  },
  {
   "cell_type": "code",
   "execution_count": null,
   "metadata": {
    "collapsed": true
   },
   "outputs": [],
   "source": [
    "with open(os.path.join(OUTPUT_DIR,'trip_list.txt'),'wb') as f:\n",
    "    f.write(\"person_id,person_trip_id,o_taz,d_taz,mode,purpose,departure_time,arrival_time,time_target,vot\\n\")\n",
    "    f.write(\"Tuffie,1,t_%s,t_%s,transit,appcon,7:00:00,8:00:00,departure,10\\n\" % (ORIGIN_STOP, DESTINATION_STOP))"
   ]
  },
  {
   "cell_type": "code",
   "execution_count": null,
   "metadata": {
    "collapsed": true
   },
   "outputs": [],
   "source": [
    "ACCESS_WEIGHT      = 2.0\n",
    "EGRESS_WEIGHT      = 2.0\n",
    "WAIT_TIME_WEIGHT   = 2.0\n",
    "IVT_WEIGHT         = 1.0\n",
    "XFER_PEN_WEIGHT    = 5\n",
    "XFER_WALK_WEIGHT   = 2\n",
    "\n",
    "with open(os.path.join(OUTPUT_DIR,'pathweight_ft.txt'),'wb') as f:\n",
    "    f.write(\"user_class,purpose,demand_mode_type,demand_mode,supply_mode,weight_name,weight_value\\n\")\n",
    "    f.write(\"all,appcon,access,walk,walk_access,time_min,%4.2f\\n\" % (ACCESS_WEIGHT))\n",
    "    f.write(\"all,appcon,egress,walk,walk_egress,time_min,%4.2f\\n\" % (EGRESS_WEIGHT))\n",
    "    f.write(\"all,appcon,transit,transit,local_bus,wait_time_min,%4.2f\\n\" % (WAIT_TIME_WEIGHT))\n",
    "    f.write(\"all,appcon,transit,transit,local_bus,in_vehicle_time_min,%4.2f\\n\" % (IVT_WEIGHT))\n",
    "    f.write(\"all,appcon,transfer,transfer,transfer,transfer_penalty,%4.2f\\n\" % (XFER_PEN_WEIGHT ))\n",
    "    f.write(\"all,appcon,transfer,transfer,transfer,walk_time_min,%4.2f\\n\" % (XFER_WALK_WEIGHT))"
   ]
  },
  {
   "cell_type": "markdown",
   "metadata": {},
   "source": [
    "# Run Fast-Trips !\n"
   ]
  },
  {
   "cell_type": "code",
   "execution_count": null,
   "metadata": {
    "collapsed": false
   },
   "outputs": [],
   "source": [
    "from fasttrips import Run"
   ]
  },
  {
   "cell_type": "code",
   "execution_count": null,
   "metadata": {
    "collapsed": true
   },
   "outputs": [],
   "source": [
    "INPUT_NETWORKS   = OUTPUT_DIR\n",
    "INPUT_DEMAND     = OUTPUT_DIR\n",
    "INPUT_WEIGHTS    = os.path.join(OUTPUT_DIR,'pathweight_ft.txt')\n",
    "RUN_CONFIG       = os.path.join(OUTPUT_DIR,'config_ft.txt')\n",
    "OUTPUT_FOLDER    = r\"FT_TEST_SINGLE_DEMAND\"\n",
    "OUTPUT_DIR       = OUTPUT_DIR\n",
    "ITERATIONS       = 1\n",
    "PATHFINDING_TYPE = \"stochastic\"\n",
    "OVERLAP          = \"None\"\n",
    "DISPERSION       = 0.5"
   ]
  },
  {
   "cell_type": "code",
   "execution_count": null,
   "metadata": {
    "collapsed": false
   },
   "outputs": [],
   "source": [
    "Run.run_fasttrips(input_network_dir= INPUT_NETWORKS,\n",
    "                  input_demand_dir = INPUT_DEMAND,\n",
    "                  run_config       = RUN_CONFIG,\n",
    "                  input_weights    = INPUT_WEIGHTS,\n",
    "                  output_dir       = OUTPUT_DIR,\n",
    "                  output_folder    = OUTPUT_FOLDER,\n",
    "                  pathfinding_type = PATHFINDING_TYPE,\n",
    "                  iters            = ITERATIONS,\n",
    "                  overlap_variable = OVERLAP,\n",
    "                  dispersion       = DISPERSION)"
   ]
  },
  {
   "cell_type": "markdown",
   "metadata": {},
   "source": [
    "# Examine Results"
   ]
  },
  {
   "cell_type": "code",
   "execution_count": null,
   "metadata": {
    "collapsed": false
   },
   "outputs": [],
   "source": [
    "from bokeh.charts import Bar, Histogram, TimeSeries, output_file, Line\n",
    "from bokeh.models import ColumnDataSource\n",
    "from bokeh.io import push_notebook, show, output_notebook\n",
    "from bokeh.plotting import figure\n",
    "output_notebook()"
   ]
  },
  {
   "cell_type": "markdown",
   "metadata": {},
   "source": [
    "## Vehicle/Route Level"
   ]
  },
  {
   "cell_type": "code",
   "execution_count": null,
   "metadata": {
    "collapsed": false
   },
   "outputs": [],
   "source": [
    "full_output_directory=os.path.join(OUTPUT_DIR,OUTPUT_FOLDER)\n",
    "vehicles_df = pd.read_csv(os.path.join(full_output_directory,\"veh_trips.csv\"), \n",
    "                                       sep=\",\", \n",
    "                                       parse_dates=['arrival_time', 'departure_time'],\n",
    "                                       date_parser=lambda x: datetime.datetime.strptime(x, '%H:%M:%S') )\n",
    "#vehicles_df.head()"
   ]
  },
  {
   "cell_type": "code",
   "execution_count": null,
   "metadata": {
    "collapsed": false
   },
   "outputs": [],
   "source": [
    "max_iteration     = vehicles_df['iteration'].max()\n",
    "max_pf_iteration  = vehicles_df['pathfinding_iteration'].max()\n",
    "\n",
    "final_vehicles_df = vehicles_df[(vehicles_df['iteration'] == max_iteration) & (vehicles_df['pathfinding_iteration']==max_pf_iteration)]"
   ]
  },
  {
   "cell_type": "code",
   "execution_count": null,
   "metadata": {
    "collapsed": false
   },
   "outputs": [],
   "source": [
    "tooltips=[\n",
    "    ('Trip ID', '@trip_id'),\n",
    "]\n",
    "\n",
    "all_lines  = Bar(final_vehicles_df, \"route_id\", values='boards', stack='trip_id',title=\"Boardings by Route\",legend=False,\n",
    "            xlabel=\"Route ID\", ylabel=\"Boardings\",tooltips=tooltips)\n",
    "\n",
    "ridership = show(all_lines, notebook_handle=True)"
   ]
  },
  {
   "cell_type": "markdown",
   "metadata": {},
   "source": [
    "## Person Level"
   ]
  },
  {
   "cell_type": "code",
   "execution_count": null,
   "metadata": {
    "collapsed": true
   },
   "outputs": [],
   "source": [
    "chosen_df = pd.read_csv(os.path.join(full_output_directory,\"chosenpaths_links.csv\"), \n",
    "                                       sep=\",\", \n",
    "                                       parse_dates=['new_A_time', 'new_B_time'],\n",
    "                                       date_parser=lambda x: datetime.datetime.strptime(x, '%H:%M:%S') )\n",
    "\n"
   ]
  },
  {
   "cell_type": "code",
   "execution_count": null,
   "metadata": {
    "collapsed": false,
    "scrolled": false
   },
   "outputs": [],
   "source": [
    "pline = Line(chosen_df, x=\"linknum\", y=\"new_A_time\", color=\"linkmode\",title=\"line\", width=10)\n",
    "\n",
    "\n",
    "show(pline, notebook_handle=True)\n"
   ]
  },
  {
   "cell_type": "code",
   "execution_count": null,
   "metadata": {
    "collapsed": false
   },
   "outputs": [],
   "source": [
    "import numpy as np\n",
    "\n",
    "from bokeh.models import ColumnDataSource, DataRange1d, Plot, LinearAxis, Grid,DatetimeAxis, LabelSet\n",
    "from bokeh.models.glyphs import Segment\n",
    "from bokeh.io import curdoc, show\n",
    "\n",
    "\n",
    "\n",
    "palette = [\"#d73838\", \"#dea23a\", \"#b1d149\", \"#5d85b5\", \"#9d56a4\",\n",
    "           \"#f7f7f7\", \"#fddbc7\", \"#f4a582\", \"#d6604d\", \"#b2182b\", \"#67001f\"]\n",
    "\n",
    "mode = list(set(chosen_df[\"mode\"]))\n",
    "l    = len(mode)\n",
    "mode_color = dict(zip(mode,palette[0:l]))\n",
    "\n",
    "\n",
    "def assignColorByMode(mode):\n",
    "    if mode in mode_color.keys():\n",
    "        return mode_color[mode]\n",
    "    return \"#f0f0f0\"\n",
    "    \n",
    "chosen_df[\"color\"]= map(assignColorByMode, chosen_df[\"mode\"])\n",
    "\n",
    "def createAnnotation(mode,sim_cost,route_id,trip_id):\n",
    "    return str(mode)+\" \"+str(sim_cost)+\" \"+str(route_id)+\":\"+str(trip_id)\n",
    "\n",
    "chosen_df[\"annotation\"]= map(createAnnotation, chosen_df[\"mode\"],chosen_df[\"sim_cost\"],chosen_df[\"route_id\"],chosen_df[\"trip_id\"])\n",
    "\n",
    "source = ColumnDataSource(chosen_df)"
   ]
  },
  {
   "cell_type": "code",
   "execution_count": null,
   "metadata": {
    "collapsed": false
   },
   "outputs": [],
   "source": [
    "xdr = DataRange1d()\n",
    "ydr = DataRange1d()\n",
    "\n",
    "plot = Plot(\n",
    "    title=None, x_range=xdr, y_range=ydr, plot_width=800, plot_height=300,\n",
    "    h_symmetry=False, v_symmetry=False, min_border=0, toolbar_location=None)\n",
    "\n",
    "glyph = Segment(y0=\"linknum\", x0=\"new_A_time\", y1=\"linknum\", x1=\"new_B_time\", line_color=\"color\", line_width=20)\n",
    "plot.add_glyph(source, glyph)\n",
    "\n",
    "xaxis = DatetimeAxis()\n",
    "plot.add_layout(xaxis, 'below')\n",
    "\n",
    "yaxis = LinearAxis()\n",
    "plot.add_layout(yaxis, 'left')\n",
    "\n",
    "plot.add_layout(Grid(dimension=0, ticker=xaxis.ticker))\n",
    "plot.add_layout(Grid(dimension=1, ticker=yaxis.ticker))\n",
    "\n",
    "mode_labels = LabelSet(x=\"new_A_time\", y=\"linknum\", text=\"mode\", y_offset=-5,x_offset=10,\n",
    "                  text_font_size=\"8pt\", text_color=\"#555555\",\n",
    "                  source=source, text_align='left')\n",
    "plot.add_layout(mode_labels)\n",
    "\n",
    "curdoc().add_root(plot)\n",
    "\n",
    "show(plot, notebook_handle=True)"
   ]
  },
  {
   "cell_type": "markdown",
   "metadata": {},
   "source": [
    "## Path Choice"
   ]
  },
  {
   "cell_type": "code",
   "execution_count": null,
   "metadata": {
    "collapsed": false
   },
   "outputs": [],
   "source": [
    "PATHS  = r\"pathset_paths.csv\"\n",
    "\n",
    "pathfile_df = pd.read_csv(os.path.join(full_output_directory,PATHS), sep=\",\")\n",
    "pd.set_option('display.max_colwidth',160) #widen so you can see whole description\n",
    "pathfile_df[[\"person_id\",\"person_trip_id\",\"pathnum\",\"description\",\"sim_cost\",\"logsum\",\"probability\"]]"
   ]
  },
  {
   "cell_type": "markdown",
   "metadata": {},
   "source": [
    "### Display links\n",
    "Use the link file to display each component of the path and their respective costs."
   ]
  },
  {
   "cell_type": "code",
   "execution_count": null,
   "metadata": {
    "collapsed": false
   },
   "outputs": [],
   "source": [
    "LINKS  = r\"pathset_links.csv\"\n",
    "linkfile_df = pd.read_csv(os.path.join(full_output_directory,LINKS),\n",
    "                                       sep=\",\", \n",
    "                                       parse_dates=['new_A_time', 'new_B_time'],\n",
    "                                       date_parser=lambda x: datetime.datetime.strptime(x, '%H:%M:%S') )\n",
    "\n",
    "## Add Fast-Trips path probability information to Fast-Trips link file\n",
    "linkfile_df = pd.merge(left  = linkfile_df,\n",
    "                       right = pathfile_df,\n",
    "                       how   = \"left\",\n",
    "                       left_on = [\"person_id\",\"person_trip_id\",\"pathnum\",\"chosen\",\"missed_xfer\"],\n",
    "                       right_on = [\"person_id\",\"person_trip_id\",\"pathnum\",\"chosen\",\"missed_xfer\"])\n",
    "\n",
    "#linkfile_df.head()\n",
    "#linkfile_df.columns"
   ]
  },
  {
   "cell_type": "code",
   "execution_count": null,
   "metadata": {
    "collapsed": false
   },
   "outputs": [],
   "source": [
    "\n",
    "maxlinknum = linkfile_df[\"linknum\"].max()\n",
    "    \n",
    "linkfile_df[\"color\"]= map(assignColorByMode, linkfile_df[\"mode\"])\n",
    "\n",
    "def createAnnotation(mode,sim_cost,route_id,trip_id,probability):\n",
    "    return str(mode)+\" \"+str(sim_cost)+\" \"+str(route_id)+\":\"+str(trip_id)\n",
    "\n",
    "linkfile_df[\"annotation\"]= map(createAnnotation, linkfile_df[\"mode\"],linkfile_df[\"sim_cost_x\"],linkfile_df[\"route_id\"],linkfile_df[\"trip_id\"],linkfile_df[\"probability\"])\n",
    "\n",
    "def yloc(pathnum,linknum):\n",
    "    return (pathnum*(maxlinknum+1))+linknum\n",
    "\n",
    "linkfile_df[\"yloc\"]= map(yloc, linkfile_df[\"pathnum\"],linkfile_df[\"linknum\"])\n",
    "\n",
    "linksource = ColumnDataSource(linkfile_df)\n",
    "#linkfile_df"
   ]
  },
  {
   "cell_type": "code",
   "execution_count": null,
   "metadata": {
    "collapsed": false
   },
   "outputs": [],
   "source": [
    "xdr2 = DataRange1d()\n",
    "ydr2 = DataRange1d()\n",
    "\n",
    "choiceplot = Plot(\n",
    "    title=None, x_range=xdr2, y_range=ydr2, plot_width=800, plot_height=300,\n",
    "    h_symmetry=False, v_symmetry=False, min_border=0, toolbar_location=None)\n",
    "\n",
    "glyph = Segment(y0=\"yloc\", x0=\"new_A_time\", y1=\"yloc\", x1=\"new_B_time\", line_color=\"color\", line_width=\"sim_cost_x\")\n",
    "choiceplot.add_glyph(linksource, glyph)\n",
    "\n",
    "choicexaxis = DatetimeAxis()\n",
    "choiceplot.add_layout(choicexaxis, 'below')\n",
    "\n",
    "choiceplot.add_layout(Grid(dimension=0, ticker=xaxis.ticker))\n",
    "\n",
    "choice_labels = LabelSet(x=\"new_A_time\", y=\"yloc\", text=\"annotation\", y_offset=-5,x_offset=10,\n",
    "                  text_font_size=\"8pt\", text_color=\"#555555\",\n",
    "                  source=linksource, text_align='left')\n",
    "choiceplot.add_layout(choice_labels)\n",
    "\n",
    "curdoc().add_root(choiceplot)\n",
    "\n",
    "##TODO add nodes\n",
    "##TODO make annotations more visible; remove fields that aren't necessary for that link type\n",
    "##TODO standardize colors by mode\n",
    "##TODO add probability\n",
    "\n",
    "show(choiceplot, notebook_handle=True)"
   ]
  },
  {
   "cell_type": "code",
   "execution_count": null,
   "metadata": {
    "collapsed": true
   },
   "outputs": [],
   "source": []
  }
 ],
 "metadata": {
  "anaconda-cloud": {},
  "kernelspec": {
   "display_name": "Python 2",
   "language": "python",
   "name": "python2"
  },
  "language_info": {
   "codemirror_mode": {
    "name": "ipython",
    "version": 2
   },
   "file_extension": ".py",
   "mimetype": "text/x-python",
   "name": "python",
   "nbconvert_exporter": "python",
   "pygments_lexer": "ipython2",
   "version": "2.7.13"
  }
 },
 "nbformat": 4,
 "nbformat_minor": 2
}
